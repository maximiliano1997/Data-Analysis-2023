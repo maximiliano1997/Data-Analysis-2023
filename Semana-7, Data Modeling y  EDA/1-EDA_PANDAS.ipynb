{
  "cells": [
    {
      "cell_type": "markdown",
      "metadata": {
        "id": "rDgrjwSvjqGG"
      },
      "source": [
        "# Simplificando el Análisis exploratorio de datos con python II: Funciones y herramientas importantes de pandas"
      ]
    },
    {
      "cell_type": "markdown",
      "metadata": {
        "id": "j6MD1HBijqGI"
      },
      "source": [
        "## Importar librerías"
      ]
    },
    {
      "cell_type": "code",
      "execution_count": null,
      "metadata": {
        "id": "sQp90s8GjqGJ"
      },
      "outputs": [],
      "source": [
        "import numpy as np\n",
        "import pandas as pd"
      ]
    },
    {
      "cell_type": "markdown",
      "metadata": {
        "id": "1MeRCNx0jqGK"
      },
      "source": [
        "## Cargar los datos a utilizar"
      ]
    },
    {
      "cell_type": "code",
      "execution_count": null,
      "metadata": {
        "id": "J_arTuuXjqGK"
      },
      "outputs": [],
      "source": [
        "df = pd.read_excel('/content/clima2018_Clean.xlsx')"
      ]
    },
    {
      "cell_type": "markdown",
      "metadata": {
        "id": "YZbRdv6WjqGL"
      },
      "source": [
        "## Revisión inicial de los datos"
      ]
    },
    {
      "cell_type": "code",
      "execution_count": null,
      "metadata": {
        "colab": {
          "base_uri": "https://localhost:8080/",
          "height": 443
        },
        "id": "qtXyc0YTjqGL",
        "outputId": "0285f31e-386c-4928-f319-28e1557222df"
      },
      "outputs": [
        {
          "output_type": "execute_result",
          "data": {
            "text/plain": [
              "                    time  precip_intensity  temperature  apparent_temperature  \\\n",
              "8637 2018-12-31 19:00:00               NaN        21.59                 22.18   \n",
              "8638 2018-12-31 20:00:00               NaN        22.12                 22.44   \n",
              "8639 2018-12-31 21:00:00               NaN        21.13                 21.53   \n",
              "8640 2018-12-31 22:00:00               NaN        21.13                 21.49   \n",
              "8641 2018-12-31 23:00:00               NaN        20.13                 20.57   \n",
              "\n",
              "      dew_point  humidity  pressure  wind_speed  cloud_cover  dia  mes  hora  \n",
              "8637      20.00      0.91       NaN        9.37          NaN  lun  dic    19  \n",
              "8638      18.30      0.79       NaN        3.60          NaN  lun  dic    20  \n",
              "8639      18.61      0.86       NaN        1.66          NaN  lun  dic    21  \n",
              "8640      18.30      0.84       NaN        4.96          0.0  lun  dic    22  \n",
              "8641      18.61      0.91       NaN        3.60          0.0  lun  dic    23  "
            ],
            "text/html": [
              "\n",
              "  <div id=\"df-8c0056c5-c33b-46ba-b543-b71ee2c1f914\">\n",
              "    <div class=\"colab-df-container\">\n",
              "      <div>\n",
              "<style scoped>\n",
              "    .dataframe tbody tr th:only-of-type {\n",
              "        vertical-align: middle;\n",
              "    }\n",
              "\n",
              "    .dataframe tbody tr th {\n",
              "        vertical-align: top;\n",
              "    }\n",
              "\n",
              "    .dataframe thead th {\n",
              "        text-align: right;\n",
              "    }\n",
              "</style>\n",
              "<table border=\"1\" class=\"dataframe\">\n",
              "  <thead>\n",
              "    <tr style=\"text-align: right;\">\n",
              "      <th></th>\n",
              "      <th>time</th>\n",
              "      <th>precip_intensity</th>\n",
              "      <th>temperature</th>\n",
              "      <th>apparent_temperature</th>\n",
              "      <th>dew_point</th>\n",
              "      <th>humidity</th>\n",
              "      <th>pressure</th>\n",
              "      <th>wind_speed</th>\n",
              "      <th>cloud_cover</th>\n",
              "      <th>dia</th>\n",
              "      <th>mes</th>\n",
              "      <th>hora</th>\n",
              "    </tr>\n",
              "  </thead>\n",
              "  <tbody>\n",
              "    <tr>\n",
              "      <th>8637</th>\n",
              "      <td>2018-12-31 19:00:00</td>\n",
              "      <td>NaN</td>\n",
              "      <td>21.59</td>\n",
              "      <td>22.18</td>\n",
              "      <td>20.00</td>\n",
              "      <td>0.91</td>\n",
              "      <td>NaN</td>\n",
              "      <td>9.37</td>\n",
              "      <td>NaN</td>\n",
              "      <td>lun</td>\n",
              "      <td>dic</td>\n",
              "      <td>19</td>\n",
              "    </tr>\n",
              "    <tr>\n",
              "      <th>8638</th>\n",
              "      <td>2018-12-31 20:00:00</td>\n",
              "      <td>NaN</td>\n",
              "      <td>22.12</td>\n",
              "      <td>22.44</td>\n",
              "      <td>18.30</td>\n",
              "      <td>0.79</td>\n",
              "      <td>NaN</td>\n",
              "      <td>3.60</td>\n",
              "      <td>NaN</td>\n",
              "      <td>lun</td>\n",
              "      <td>dic</td>\n",
              "      <td>20</td>\n",
              "    </tr>\n",
              "    <tr>\n",
              "      <th>8639</th>\n",
              "      <td>2018-12-31 21:00:00</td>\n",
              "      <td>NaN</td>\n",
              "      <td>21.13</td>\n",
              "      <td>21.53</td>\n",
              "      <td>18.61</td>\n",
              "      <td>0.86</td>\n",
              "      <td>NaN</td>\n",
              "      <td>1.66</td>\n",
              "      <td>NaN</td>\n",
              "      <td>lun</td>\n",
              "      <td>dic</td>\n",
              "      <td>21</td>\n",
              "    </tr>\n",
              "    <tr>\n",
              "      <th>8640</th>\n",
              "      <td>2018-12-31 22:00:00</td>\n",
              "      <td>NaN</td>\n",
              "      <td>21.13</td>\n",
              "      <td>21.49</td>\n",
              "      <td>18.30</td>\n",
              "      <td>0.84</td>\n",
              "      <td>NaN</td>\n",
              "      <td>4.96</td>\n",
              "      <td>0.0</td>\n",
              "      <td>lun</td>\n",
              "      <td>dic</td>\n",
              "      <td>22</td>\n",
              "    </tr>\n",
              "    <tr>\n",
              "      <th>8641</th>\n",
              "      <td>2018-12-31 23:00:00</td>\n",
              "      <td>NaN</td>\n",
              "      <td>20.13</td>\n",
              "      <td>20.57</td>\n",
              "      <td>18.61</td>\n",
              "      <td>0.91</td>\n",
              "      <td>NaN</td>\n",
              "      <td>3.60</td>\n",
              "      <td>0.0</td>\n",
              "      <td>lun</td>\n",
              "      <td>dic</td>\n",
              "      <td>23</td>\n",
              "    </tr>\n",
              "  </tbody>\n",
              "</table>\n",
              "</div>\n",
              "      <button class=\"colab-df-convert\" onclick=\"convertToInteractive('df-8c0056c5-c33b-46ba-b543-b71ee2c1f914')\"\n",
              "              title=\"Convert this dataframe to an interactive table.\"\n",
              "              style=\"display:none;\">\n",
              "        \n",
              "  <svg xmlns=\"http://www.w3.org/2000/svg\" height=\"24px\"viewBox=\"0 0 24 24\"\n",
              "       width=\"24px\">\n",
              "    <path d=\"M0 0h24v24H0V0z\" fill=\"none\"/>\n",
              "    <path d=\"M18.56 5.44l.94 2.06.94-2.06 2.06-.94-2.06-.94-.94-2.06-.94 2.06-2.06.94zm-11 1L8.5 8.5l.94-2.06 2.06-.94-2.06-.94L8.5 2.5l-.94 2.06-2.06.94zm10 10l.94 2.06.94-2.06 2.06-.94-2.06-.94-.94-2.06-.94 2.06-2.06.94z\"/><path d=\"M17.41 7.96l-1.37-1.37c-.4-.4-.92-.59-1.43-.59-.52 0-1.04.2-1.43.59L10.3 9.45l-7.72 7.72c-.78.78-.78 2.05 0 2.83L4 21.41c.39.39.9.59 1.41.59.51 0 1.02-.2 1.41-.59l7.78-7.78 2.81-2.81c.8-.78.8-2.07 0-2.86zM5.41 20L4 18.59l7.72-7.72 1.47 1.35L5.41 20z\"/>\n",
              "  </svg>\n",
              "      </button>\n",
              "      \n",
              "  <style>\n",
              "    .colab-df-container {\n",
              "      display:flex;\n",
              "      flex-wrap:wrap;\n",
              "      gap: 12px;\n",
              "    }\n",
              "\n",
              "    .colab-df-convert {\n",
              "      background-color: #E8F0FE;\n",
              "      border: none;\n",
              "      border-radius: 50%;\n",
              "      cursor: pointer;\n",
              "      display: none;\n",
              "      fill: #1967D2;\n",
              "      height: 32px;\n",
              "      padding: 0 0 0 0;\n",
              "      width: 32px;\n",
              "    }\n",
              "\n",
              "    .colab-df-convert:hover {\n",
              "      background-color: #E2EBFA;\n",
              "      box-shadow: 0px 1px 2px rgba(60, 64, 67, 0.3), 0px 1px 3px 1px rgba(60, 64, 67, 0.15);\n",
              "      fill: #174EA6;\n",
              "    }\n",
              "\n",
              "    [theme=dark] .colab-df-convert {\n",
              "      background-color: #3B4455;\n",
              "      fill: #D2E3FC;\n",
              "    }\n",
              "\n",
              "    [theme=dark] .colab-df-convert:hover {\n",
              "      background-color: #434B5C;\n",
              "      box-shadow: 0px 1px 3px 1px rgba(0, 0, 0, 0.15);\n",
              "      filter: drop-shadow(0px 1px 2px rgba(0, 0, 0, 0.3));\n",
              "      fill: #FFFFFF;\n",
              "    }\n",
              "  </style>\n",
              "\n",
              "      <script>\n",
              "        const buttonEl =\n",
              "          document.querySelector('#df-8c0056c5-c33b-46ba-b543-b71ee2c1f914 button.colab-df-convert');\n",
              "        buttonEl.style.display =\n",
              "          google.colab.kernel.accessAllowed ? 'block' : 'none';\n",
              "\n",
              "        async function convertToInteractive(key) {\n",
              "          const element = document.querySelector('#df-8c0056c5-c33b-46ba-b543-b71ee2c1f914');\n",
              "          const dataTable =\n",
              "            await google.colab.kernel.invokeFunction('convertToInteractive',\n",
              "                                                     [key], {});\n",
              "          if (!dataTable) return;\n",
              "\n",
              "          const docLinkHtml = 'Like what you see? Visit the ' +\n",
              "            '<a target=\"_blank\" href=https://colab.research.google.com/notebooks/data_table.ipynb>data table notebook</a>'\n",
              "            + ' to learn more about interactive tables.';\n",
              "          element.innerHTML = '';\n",
              "          dataTable['output_type'] = 'display_data';\n",
              "          await google.colab.output.renderOutput(dataTable, element);\n",
              "          const docLink = document.createElement('div');\n",
              "          docLink.innerHTML = docLinkHtml;\n",
              "          element.appendChild(docLink);\n",
              "        }\n",
              "      </script>\n",
              "    </div>\n",
              "  </div>\n",
              "  "
            ]
          },
          "metadata": {},
          "execution_count": 6
        }
      ],
      "source": [
        "df.head()"
      ]
    },
    {
      "cell_type": "code",
      "execution_count": null,
      "metadata": {
        "colab": {
          "base_uri": "https://localhost:8080/"
        },
        "id": "cJTTVrGZjqGM",
        "outputId": "5efa3862-4fdb-4e72-d010-0620ded7b4c4"
      },
      "outputs": [
        {
          "output_type": "stream",
          "name": "stdout",
          "text": [
            "<class 'pandas.core.frame.DataFrame'>\n",
            "RangeIndex: 8642 entries, 0 to 8641\n",
            "Data columns (total 12 columns):\n",
            " #   Column                Non-Null Count  Dtype         \n",
            "---  ------                --------------  -----         \n",
            " 0   time                  8642 non-null   datetime64[ns]\n",
            " 1   precip_intensity      3361 non-null   float64       \n",
            " 2   temperature           8642 non-null   float64       \n",
            " 3   apparent_temperature  8642 non-null   float64       \n",
            " 4   dew_point             8640 non-null   float64       \n",
            " 5   humidity              8640 non-null   float64       \n",
            " 6   pressure              98 non-null     float64       \n",
            " 7   wind_speed            8642 non-null   float64       \n",
            " 8   cloud_cover           6121 non-null   float64       \n",
            " 9   dia                   8642 non-null   object        \n",
            " 10  mes                   8642 non-null   object        \n",
            " 11  hora                  8642 non-null   int64         \n",
            "dtypes: datetime64[ns](1), float64(8), int64(1), object(2)\n",
            "memory usage: 810.3+ KB\n"
          ]
        }
      ],
      "source": [
        "df.info()"
      ]
    },
    {
      "cell_type": "code",
      "source": [
        "df.shape"
      ],
      "metadata": {
        "colab": {
          "base_uri": "https://localhost:8080/"
        },
        "id": "EdgRn7_Jy38o",
        "outputId": "7bd79c5b-7a59-46af-a591-1d18224341a6"
      },
      "execution_count": null,
      "outputs": [
        {
          "output_type": "execute_result",
          "data": {
            "text/plain": [
              "(8642, 12)"
            ]
          },
          "metadata": {},
          "execution_count": 7
        }
      ]
    },
    {
      "cell_type": "markdown",
      "metadata": {
        "id": "dLeivLLKjqGM"
      },
      "source": [
        "## Exploración de los datos"
      ]
    },
    {
      "cell_type": "markdown",
      "metadata": {
        "id": "6_sF7RRSjqGN"
      },
      "source": [
        "### Funciones Groupby y Sort"
      ]
    },
    {
      "cell_type": "markdown",
      "metadata": {
        "id": "jQJMR23ljqGN"
      },
      "source": [
        "#### Agrupando datos por el valor de una columna"
      ]
    },
    {
      "cell_type": "code",
      "execution_count": null,
      "metadata": {
        "id": "3YfOgG8ejqGN",
        "outputId": "72b76440-ba83-4619-c877-1c9b189f3e1d"
      },
      "outputs": [
        {
          "output_type": "execute_result",
          "data": {
            "text/plain": "     temperature\nmes             \nabr    25.312875\nago    24.679156\ndic    23.264493\nene    23.676828\nfeb    25.115699\njul    25.615762\njun    24.443011\nmar    25.531640\nmay    24.905668\nnov    24.334957\noct    23.436555\nsep    24.139944",
            "text/html": "<div>\n<style scoped>\n    .dataframe tbody tr th:only-of-type {\n        vertical-align: middle;\n    }\n\n    .dataframe tbody tr th {\n        vertical-align: top;\n    }\n\n    .dataframe thead th {\n        text-align: right;\n    }\n</style>\n<table border=\"1\" class=\"dataframe\">\n  <thead>\n    <tr style=\"text-align: right;\">\n      <th></th>\n      <th>temperature</th>\n    </tr>\n    <tr>\n      <th>mes</th>\n      <th></th>\n    </tr>\n  </thead>\n  <tbody>\n    <tr>\n      <th>abr</th>\n      <td>25.312875</td>\n    </tr>\n    <tr>\n      <th>ago</th>\n      <td>24.679156</td>\n    </tr>\n    <tr>\n      <th>dic</th>\n      <td>23.264493</td>\n    </tr>\n    <tr>\n      <th>ene</th>\n      <td>23.676828</td>\n    </tr>\n    <tr>\n      <th>feb</th>\n      <td>25.115699</td>\n    </tr>\n    <tr>\n      <th>jul</th>\n      <td>25.615762</td>\n    </tr>\n    <tr>\n      <th>jun</th>\n      <td>24.443011</td>\n    </tr>\n    <tr>\n      <th>mar</th>\n      <td>25.531640</td>\n    </tr>\n    <tr>\n      <th>may</th>\n      <td>24.905668</td>\n    </tr>\n    <tr>\n      <th>nov</th>\n      <td>24.334957</td>\n    </tr>\n    <tr>\n      <th>oct</th>\n      <td>23.436555</td>\n    </tr>\n    <tr>\n      <th>sep</th>\n      <td>24.139944</td>\n    </tr>\n  </tbody>\n</table>\n</div>"
          },
          "metadata": {},
          "execution_count": 5
        }
      ],
      "source": [
        "df[['temperature', 'mes']].groupby(['mes']).mean()"
      ]
    },
    {
      "cell_type": "markdown",
      "metadata": {
        "id": "rn0TIWWNjqGO"
      },
      "source": [
        "#### Ordenando el resultado"
      ]
    },
    {
      "cell_type": "code",
      "execution_count": null,
      "metadata": {
        "id": "I_ILANeojqGO",
        "outputId": "a1f28bc4-355a-4b69-8cf7-7555726c2e08",
        "colab": {
          "base_uri": "https://localhost:8080/",
          "height": 457
        }
      },
      "outputs": [
        {
          "output_type": "execute_result",
          "data": {
            "text/plain": [
              "     temperature\n",
              "mes             \n",
              "dic    23.255486\n",
              "oct    23.436555\n",
              "ene    23.676828\n",
              "sep    24.139944\n",
              "nov    24.334957\n",
              "jun    24.443011\n",
              "ago    24.679156\n",
              "may    24.905668\n",
              "feb    25.115699\n",
              "abr    25.312875\n",
              "mar    25.531640\n",
              "jul    25.610194"
            ],
            "text/html": [
              "\n",
              "  <div id=\"df-13a2d4fe-c5c4-4c8e-9976-da5e05e1de60\">\n",
              "    <div class=\"colab-df-container\">\n",
              "      <div>\n",
              "<style scoped>\n",
              "    .dataframe tbody tr th:only-of-type {\n",
              "        vertical-align: middle;\n",
              "    }\n",
              "\n",
              "    .dataframe tbody tr th {\n",
              "        vertical-align: top;\n",
              "    }\n",
              "\n",
              "    .dataframe thead th {\n",
              "        text-align: right;\n",
              "    }\n",
              "</style>\n",
              "<table border=\"1\" class=\"dataframe\">\n",
              "  <thead>\n",
              "    <tr style=\"text-align: right;\">\n",
              "      <th></th>\n",
              "      <th>temperature</th>\n",
              "    </tr>\n",
              "    <tr>\n",
              "      <th>mes</th>\n",
              "      <th></th>\n",
              "    </tr>\n",
              "  </thead>\n",
              "  <tbody>\n",
              "    <tr>\n",
              "      <th>dic</th>\n",
              "      <td>23.255486</td>\n",
              "    </tr>\n",
              "    <tr>\n",
              "      <th>oct</th>\n",
              "      <td>23.436555</td>\n",
              "    </tr>\n",
              "    <tr>\n",
              "      <th>ene</th>\n",
              "      <td>23.676828</td>\n",
              "    </tr>\n",
              "    <tr>\n",
              "      <th>sep</th>\n",
              "      <td>24.139944</td>\n",
              "    </tr>\n",
              "    <tr>\n",
              "      <th>nov</th>\n",
              "      <td>24.334957</td>\n",
              "    </tr>\n",
              "    <tr>\n",
              "      <th>jun</th>\n",
              "      <td>24.443011</td>\n",
              "    </tr>\n",
              "    <tr>\n",
              "      <th>ago</th>\n",
              "      <td>24.679156</td>\n",
              "    </tr>\n",
              "    <tr>\n",
              "      <th>may</th>\n",
              "      <td>24.905668</td>\n",
              "    </tr>\n",
              "    <tr>\n",
              "      <th>feb</th>\n",
              "      <td>25.115699</td>\n",
              "    </tr>\n",
              "    <tr>\n",
              "      <th>abr</th>\n",
              "      <td>25.312875</td>\n",
              "    </tr>\n",
              "    <tr>\n",
              "      <th>mar</th>\n",
              "      <td>25.531640</td>\n",
              "    </tr>\n",
              "    <tr>\n",
              "      <th>jul</th>\n",
              "      <td>25.610194</td>\n",
              "    </tr>\n",
              "  </tbody>\n",
              "</table>\n",
              "</div>\n",
              "      <button class=\"colab-df-convert\" onclick=\"convertToInteractive('df-13a2d4fe-c5c4-4c8e-9976-da5e05e1de60')\"\n",
              "              title=\"Convert this dataframe to an interactive table.\"\n",
              "              style=\"display:none;\">\n",
              "        \n",
              "  <svg xmlns=\"http://www.w3.org/2000/svg\" height=\"24px\"viewBox=\"0 0 24 24\"\n",
              "       width=\"24px\">\n",
              "    <path d=\"M0 0h24v24H0V0z\" fill=\"none\"/>\n",
              "    <path d=\"M18.56 5.44l.94 2.06.94-2.06 2.06-.94-2.06-.94-.94-2.06-.94 2.06-2.06.94zm-11 1L8.5 8.5l.94-2.06 2.06-.94-2.06-.94L8.5 2.5l-.94 2.06-2.06.94zm10 10l.94 2.06.94-2.06 2.06-.94-2.06-.94-.94-2.06-.94 2.06-2.06.94z\"/><path d=\"M17.41 7.96l-1.37-1.37c-.4-.4-.92-.59-1.43-.59-.52 0-1.04.2-1.43.59L10.3 9.45l-7.72 7.72c-.78.78-.78 2.05 0 2.83L4 21.41c.39.39.9.59 1.41.59.51 0 1.02-.2 1.41-.59l7.78-7.78 2.81-2.81c.8-.78.8-2.07 0-2.86zM5.41 20L4 18.59l7.72-7.72 1.47 1.35L5.41 20z\"/>\n",
              "  </svg>\n",
              "      </button>\n",
              "      \n",
              "  <style>\n",
              "    .colab-df-container {\n",
              "      display:flex;\n",
              "      flex-wrap:wrap;\n",
              "      gap: 12px;\n",
              "    }\n",
              "\n",
              "    .colab-df-convert {\n",
              "      background-color: #E8F0FE;\n",
              "      border: none;\n",
              "      border-radius: 50%;\n",
              "      cursor: pointer;\n",
              "      display: none;\n",
              "      fill: #1967D2;\n",
              "      height: 32px;\n",
              "      padding: 0 0 0 0;\n",
              "      width: 32px;\n",
              "    }\n",
              "\n",
              "    .colab-df-convert:hover {\n",
              "      background-color: #E2EBFA;\n",
              "      box-shadow: 0px 1px 2px rgba(60, 64, 67, 0.3), 0px 1px 3px 1px rgba(60, 64, 67, 0.15);\n",
              "      fill: #174EA6;\n",
              "    }\n",
              "\n",
              "    [theme=dark] .colab-df-convert {\n",
              "      background-color: #3B4455;\n",
              "      fill: #D2E3FC;\n",
              "    }\n",
              "\n",
              "    [theme=dark] .colab-df-convert:hover {\n",
              "      background-color: #434B5C;\n",
              "      box-shadow: 0px 1px 3px 1px rgba(0, 0, 0, 0.15);\n",
              "      filter: drop-shadow(0px 1px 2px rgba(0, 0, 0, 0.3));\n",
              "      fill: #FFFFFF;\n",
              "    }\n",
              "  </style>\n",
              "\n",
              "      <script>\n",
              "        const buttonEl =\n",
              "          document.querySelector('#df-13a2d4fe-c5c4-4c8e-9976-da5e05e1de60 button.colab-df-convert');\n",
              "        buttonEl.style.display =\n",
              "          google.colab.kernel.accessAllowed ? 'block' : 'none';\n",
              "\n",
              "        async function convertToInteractive(key) {\n",
              "          const element = document.querySelector('#df-13a2d4fe-c5c4-4c8e-9976-da5e05e1de60');\n",
              "          const dataTable =\n",
              "            await google.colab.kernel.invokeFunction('convertToInteractive',\n",
              "                                                     [key], {});\n",
              "          if (!dataTable) return;\n",
              "\n",
              "          const docLinkHtml = 'Like what you see? Visit the ' +\n",
              "            '<a target=\"_blank\" href=https://colab.research.google.com/notebooks/data_table.ipynb>data table notebook</a>'\n",
              "            + ' to learn more about interactive tables.';\n",
              "          element.innerHTML = '';\n",
              "          dataTable['output_type'] = 'display_data';\n",
              "          await google.colab.output.renderOutput(dataTable, element);\n",
              "          const docLink = document.createElement('div');\n",
              "          docLink.innerHTML = docLinkHtml;\n",
              "          element.appendChild(docLink);\n",
              "        }\n",
              "      </script>\n",
              "    </div>\n",
              "  </div>\n",
              "  "
            ]
          },
          "metadata": {},
          "execution_count": 9
        }
      ],
      "source": [
        "df[['mes', 'temperature']].groupby(['mes']).mean().sort_values(by = ['temperature'])"
      ]
    },
    {
      "cell_type": "markdown",
      "metadata": {
        "id": "16-veVthjqGO"
      },
      "source": [
        "#### Ordenando en forma descendente"
      ]
    },
    {
      "cell_type": "code",
      "execution_count": null,
      "metadata": {
        "id": "t7qkk-3OjqGO",
        "outputId": "915e5367-a3ab-4f0b-87ca-e55e38f179e8"
      },
      "outputs": [
        {
          "output_type": "execute_result",
          "data": {
            "text/plain": "     temperature\nmes             \njul    25.615762\nmar    25.531640\nabr    25.312875\nfeb    25.115699\nmay    24.905668\nago    24.679156\njun    24.443011\nnov    24.334957\nsep    24.139944\nene    23.676828\noct    23.436555\ndic    23.264493",
            "text/html": "<div>\n<style scoped>\n    .dataframe tbody tr th:only-of-type {\n        vertical-align: middle;\n    }\n\n    .dataframe tbody tr th {\n        vertical-align: top;\n    }\n\n    .dataframe thead th {\n        text-align: right;\n    }\n</style>\n<table border=\"1\" class=\"dataframe\">\n  <thead>\n    <tr style=\"text-align: right;\">\n      <th></th>\n      <th>temperature</th>\n    </tr>\n    <tr>\n      <th>mes</th>\n      <th></th>\n    </tr>\n  </thead>\n  <tbody>\n    <tr>\n      <th>jul</th>\n      <td>25.615762</td>\n    </tr>\n    <tr>\n      <th>mar</th>\n      <td>25.531640</td>\n    </tr>\n    <tr>\n      <th>abr</th>\n      <td>25.312875</td>\n    </tr>\n    <tr>\n      <th>feb</th>\n      <td>25.115699</td>\n    </tr>\n    <tr>\n      <th>may</th>\n      <td>24.905668</td>\n    </tr>\n    <tr>\n      <th>ago</th>\n      <td>24.679156</td>\n    </tr>\n    <tr>\n      <th>jun</th>\n      <td>24.443011</td>\n    </tr>\n    <tr>\n      <th>nov</th>\n      <td>24.334957</td>\n    </tr>\n    <tr>\n      <th>sep</th>\n      <td>24.139944</td>\n    </tr>\n    <tr>\n      <th>ene</th>\n      <td>23.676828</td>\n    </tr>\n    <tr>\n      <th>oct</th>\n      <td>23.436555</td>\n    </tr>\n    <tr>\n      <th>dic</th>\n      <td>23.264493</td>\n    </tr>\n  </tbody>\n</table>\n</div>"
          },
          "metadata": {},
          "execution_count": 7
        }
      ],
      "source": [
        "df[['temperature', 'mes']].groupby(['mes']).mean().sort_values(by = ['temperature'], ascending = False)"
      ]
    },
    {
      "cell_type": "markdown",
      "metadata": {
        "id": "8d7v3vgxjqGP"
      },
      "source": [
        "#### Ordenando por múltiples columnas"
      ]
    },
    {
      "cell_type": "code",
      "execution_count": null,
      "metadata": {
        "id": "9_qqJ0PGjqGP",
        "outputId": "7811ff39-65dc-4316-efe5-0d8c8baee9cc"
      },
      "outputs": [
        {
          "output_type": "execute_result",
          "data": {
            "text/plain": "      temperature  hora  mes\n342         16.81     6  ene\n218         16.88     2  ene\n343         17.07     7  ene\n222         17.23     6  ene\n223         17.23     7  ene\n171         17.24     3  ene\n172         17.24     4  ene\n340         17.24     4  ene\n341         17.24     5  ene\n270         17.24     6  ene\n338         17.43     2  ene\n246         17.50     6  ene\n271         17.50     7  ene\n8226        17.60     0  dic\n8361        17.60     1  dic\n8526        17.60     1  dic\n8620        17.60     1  dic\n7528        17.60     1  nov\n8087        17.60     2  dic\n8134        17.60     2  dic",
            "text/html": "<div>\n<style scoped>\n    .dataframe tbody tr th:only-of-type {\n        vertical-align: middle;\n    }\n\n    .dataframe tbody tr th {\n        vertical-align: top;\n    }\n\n    .dataframe thead th {\n        text-align: right;\n    }\n</style>\n<table border=\"1\" class=\"dataframe\">\n  <thead>\n    <tr style=\"text-align: right;\">\n      <th></th>\n      <th>temperature</th>\n      <th>hora</th>\n      <th>mes</th>\n    </tr>\n  </thead>\n  <tbody>\n    <tr>\n      <th>342</th>\n      <td>16.81</td>\n      <td>6</td>\n      <td>ene</td>\n    </tr>\n    <tr>\n      <th>218</th>\n      <td>16.88</td>\n      <td>2</td>\n      <td>ene</td>\n    </tr>\n    <tr>\n      <th>343</th>\n      <td>17.07</td>\n      <td>7</td>\n      <td>ene</td>\n    </tr>\n    <tr>\n      <th>222</th>\n      <td>17.23</td>\n      <td>6</td>\n      <td>ene</td>\n    </tr>\n    <tr>\n      <th>223</th>\n      <td>17.23</td>\n      <td>7</td>\n      <td>ene</td>\n    </tr>\n    <tr>\n      <th>171</th>\n      <td>17.24</td>\n      <td>3</td>\n      <td>ene</td>\n    </tr>\n    <tr>\n      <th>172</th>\n      <td>17.24</td>\n      <td>4</td>\n      <td>ene</td>\n    </tr>\n    <tr>\n      <th>340</th>\n      <td>17.24</td>\n      <td>4</td>\n      <td>ene</td>\n    </tr>\n    <tr>\n      <th>341</th>\n      <td>17.24</td>\n      <td>5</td>\n      <td>ene</td>\n    </tr>\n    <tr>\n      <th>270</th>\n      <td>17.24</td>\n      <td>6</td>\n      <td>ene</td>\n    </tr>\n    <tr>\n      <th>338</th>\n      <td>17.43</td>\n      <td>2</td>\n      <td>ene</td>\n    </tr>\n    <tr>\n      <th>246</th>\n      <td>17.50</td>\n      <td>6</td>\n      <td>ene</td>\n    </tr>\n    <tr>\n      <th>271</th>\n      <td>17.50</td>\n      <td>7</td>\n      <td>ene</td>\n    </tr>\n    <tr>\n      <th>8226</th>\n      <td>17.60</td>\n      <td>0</td>\n      <td>dic</td>\n    </tr>\n    <tr>\n      <th>8361</th>\n      <td>17.60</td>\n      <td>1</td>\n      <td>dic</td>\n    </tr>\n    <tr>\n      <th>8526</th>\n      <td>17.60</td>\n      <td>1</td>\n      <td>dic</td>\n    </tr>\n    <tr>\n      <th>8620</th>\n      <td>17.60</td>\n      <td>1</td>\n      <td>dic</td>\n    </tr>\n    <tr>\n      <th>7528</th>\n      <td>17.60</td>\n      <td>1</td>\n      <td>nov</td>\n    </tr>\n    <tr>\n      <th>8087</th>\n      <td>17.60</td>\n      <td>2</td>\n      <td>dic</td>\n    </tr>\n    <tr>\n      <th>8134</th>\n      <td>17.60</td>\n      <td>2</td>\n      <td>dic</td>\n    </tr>\n  </tbody>\n</table>\n</div>"
          },
          "metadata": {},
          "execution_count": 8
        }
      ],
      "source": [
        "df[['temperature', 'hora', 'mes']].sort_values(by = ['temperature', 'hora', 'mes'])[20:40]"
      ]
    },
    {
      "cell_type": "markdown",
      "metadata": {
        "id": "WZqQGcxzjqGQ"
      },
      "source": [
        "#### Agrupando datos por el valor de múltiples columnas"
      ]
    },
    {
      "cell_type": "code",
      "execution_count": null,
      "metadata": {
        "id": "MWGW6FjJjqGQ",
        "outputId": "701031e4-ece2-4621-9cef-37776e7b15c3"
      },
      "outputs": [
        {
          "output_type": "execute_result",
          "data": {
            "text/plain": "          temperature\nmes hora             \nabr 0       22.890333\n    1       22.619000\n    2       22.225000\n    3       22.099000\n    4       21.872000\n...               ...\nsep 19      23.828333\n    20      23.083667\n    21      22.926667\n    22      22.543333\n    23      22.240667\n\n[288 rows x 1 columns]",
            "text/html": "<div>\n<style scoped>\n    .dataframe tbody tr th:only-of-type {\n        vertical-align: middle;\n    }\n\n    .dataframe tbody tr th {\n        vertical-align: top;\n    }\n\n    .dataframe thead th {\n        text-align: right;\n    }\n</style>\n<table border=\"1\" class=\"dataframe\">\n  <thead>\n    <tr style=\"text-align: right;\">\n      <th></th>\n      <th></th>\n      <th>temperature</th>\n    </tr>\n    <tr>\n      <th>mes</th>\n      <th>hora</th>\n      <th></th>\n    </tr>\n  </thead>\n  <tbody>\n    <tr>\n      <th rowspan=\"5\" valign=\"top\">abr</th>\n      <th>0</th>\n      <td>22.890333</td>\n    </tr>\n    <tr>\n      <th>1</th>\n      <td>22.619000</td>\n    </tr>\n    <tr>\n      <th>2</th>\n      <td>22.225000</td>\n    </tr>\n    <tr>\n      <th>3</th>\n      <td>22.099000</td>\n    </tr>\n    <tr>\n      <th>4</th>\n      <td>21.872000</td>\n    </tr>\n    <tr>\n      <th>...</th>\n      <th>...</th>\n      <td>...</td>\n    </tr>\n    <tr>\n      <th rowspan=\"5\" valign=\"top\">sep</th>\n      <th>19</th>\n      <td>23.828333</td>\n    </tr>\n    <tr>\n      <th>20</th>\n      <td>23.083667</td>\n    </tr>\n    <tr>\n      <th>21</th>\n      <td>22.926667</td>\n    </tr>\n    <tr>\n      <th>22</th>\n      <td>22.543333</td>\n    </tr>\n    <tr>\n      <th>23</th>\n      <td>22.240667</td>\n    </tr>\n  </tbody>\n</table>\n<p>288 rows × 1 columns</p>\n</div>"
          },
          "metadata": {},
          "execution_count": 9
        }
      ],
      "source": [
        "df[['temperature', 'mes', 'hora']].groupby(['mes', 'hora']).mean()"
      ]
    },
    {
      "cell_type": "markdown",
      "metadata": {
        "id": "buGbspW7jqGQ"
      },
      "source": [
        "#### Agrupando datos por el valor de múltiples columnas y ordenando resultados"
      ]
    },
    {
      "cell_type": "code",
      "execution_count": null,
      "metadata": {
        "id": "T961CEX7jqGR",
        "outputId": "2b15ef93-2976-4b49-c11c-3ca522d564e7"
      },
      "outputs": [
        {
          "output_type": "execute_result",
          "data": {
            "text/plain": "          temperature\nmes hora             \nmar 14      31.258710\n    15      31.198710\n    13      31.149355\njul 13      30.640968\n    14      30.580323\nfeb 15      30.572857\n    14      30.563929\nmar 12      30.360323\njul 15      30.296129\nabr 13      30.280000\n    14      30.253667\nago 14      30.079032\nfeb 13      30.018929\n    16      29.938929\nmar 16      29.934839\nabr 15      29.925333\njul 12      29.848387\nabr 12      29.814000\njul 16      29.728387\nfeb 12      29.639286",
            "text/html": "<div>\n<style scoped>\n    .dataframe tbody tr th:only-of-type {\n        vertical-align: middle;\n    }\n\n    .dataframe tbody tr th {\n        vertical-align: top;\n    }\n\n    .dataframe thead th {\n        text-align: right;\n    }\n</style>\n<table border=\"1\" class=\"dataframe\">\n  <thead>\n    <tr style=\"text-align: right;\">\n      <th></th>\n      <th></th>\n      <th>temperature</th>\n    </tr>\n    <tr>\n      <th>mes</th>\n      <th>hora</th>\n      <th></th>\n    </tr>\n  </thead>\n  <tbody>\n    <tr>\n      <th rowspan=\"3\" valign=\"top\">mar</th>\n      <th>14</th>\n      <td>31.258710</td>\n    </tr>\n    <tr>\n      <th>15</th>\n      <td>31.198710</td>\n    </tr>\n    <tr>\n      <th>13</th>\n      <td>31.149355</td>\n    </tr>\n    <tr>\n      <th rowspan=\"2\" valign=\"top\">jul</th>\n      <th>13</th>\n      <td>30.640968</td>\n    </tr>\n    <tr>\n      <th>14</th>\n      <td>30.580323</td>\n    </tr>\n    <tr>\n      <th rowspan=\"2\" valign=\"top\">feb</th>\n      <th>15</th>\n      <td>30.572857</td>\n    </tr>\n    <tr>\n      <th>14</th>\n      <td>30.563929</td>\n    </tr>\n    <tr>\n      <th>mar</th>\n      <th>12</th>\n      <td>30.360323</td>\n    </tr>\n    <tr>\n      <th>jul</th>\n      <th>15</th>\n      <td>30.296129</td>\n    </tr>\n    <tr>\n      <th rowspan=\"2\" valign=\"top\">abr</th>\n      <th>13</th>\n      <td>30.280000</td>\n    </tr>\n    <tr>\n      <th>14</th>\n      <td>30.253667</td>\n    </tr>\n    <tr>\n      <th>ago</th>\n      <th>14</th>\n      <td>30.079032</td>\n    </tr>\n    <tr>\n      <th rowspan=\"2\" valign=\"top\">feb</th>\n      <th>13</th>\n      <td>30.018929</td>\n    </tr>\n    <tr>\n      <th>16</th>\n      <td>29.938929</td>\n    </tr>\n    <tr>\n      <th>mar</th>\n      <th>16</th>\n      <td>29.934839</td>\n    </tr>\n    <tr>\n      <th>abr</th>\n      <th>15</th>\n      <td>29.925333</td>\n    </tr>\n    <tr>\n      <th>jul</th>\n      <th>12</th>\n      <td>29.848387</td>\n    </tr>\n    <tr>\n      <th>abr</th>\n      <th>12</th>\n      <td>29.814000</td>\n    </tr>\n    <tr>\n      <th>jul</th>\n      <th>16</th>\n      <td>29.728387</td>\n    </tr>\n    <tr>\n      <th>feb</th>\n      <th>12</th>\n      <td>29.639286</td>\n    </tr>\n  </tbody>\n</table>\n</div>"
          },
          "metadata": {},
          "execution_count": 10
        }
      ],
      "source": [
        "df[['temperature', 'mes', 'hora']].groupby(['mes', 'hora']).mean().sort_values(by = ['temperature'], ascending = False)[0:20]"
      ]
    },
    {
      "cell_type": "markdown",
      "metadata": {
        "id": "2qckYwRkjqGR"
      },
      "source": [
        "### Usos de filtros en pandas"
      ]
    },
    {
      "cell_type": "code",
      "execution_count": null,
      "metadata": {
        "id": "kmqVa1nrjqGR",
        "outputId": "1925547e-ae49-4600-bfd8-bfaa999749c0",
        "colab": {
          "base_uri": "https://localhost:8080/"
        }
      },
      "outputs": [
        {
          "output_type": "execute_result",
          "data": {
            "text/plain": [
              "[8637    dic\n",
              " 8638    dic\n",
              " 8639    dic\n",
              " 8640    dic\n",
              " 8641    dic\n",
              " Name: mes, dtype: object]"
            ]
          },
          "metadata": {},
          "execution_count": 14
        }
      ],
      "source": [
        "df1 = df[df['mes'] == 'ene']\n",
        "df1.tail()"
      ]
    },
    {
      "cell_type": "code",
      "execution_count": null,
      "metadata": {
        "id": "i40STPFgjqGS",
        "outputId": "908d893e-485a-42b6-d0ba-8f2cb717c07d"
      },
      "outputs": [
        {
          "output_type": "execute_result",
          "data": {
            "text/plain": "      temperature\nhora             \n0       21.247742\n1       20.939032\n2       20.519032\n3       20.477419\n4       20.229677\n5       20.285484\n6       19.697742\n7       19.951290\n8       22.101935\n9       23.845161\n10      25.254194\n11      26.671290\n12      27.790323\n13      28.626452\n14      28.950968\n15      28.866129\n16      28.454516\n17      26.959355\n18      24.965484\n19      23.561290\n20      22.948387\n21      22.414516\n22      22.029355\n23      21.457097",
            "text/html": "<div>\n<style scoped>\n    .dataframe tbody tr th:only-of-type {\n        vertical-align: middle;\n    }\n\n    .dataframe tbody tr th {\n        vertical-align: top;\n    }\n\n    .dataframe thead th {\n        text-align: right;\n    }\n</style>\n<table border=\"1\" class=\"dataframe\">\n  <thead>\n    <tr style=\"text-align: right;\">\n      <th></th>\n      <th>temperature</th>\n    </tr>\n    <tr>\n      <th>hora</th>\n      <th></th>\n    </tr>\n  </thead>\n  <tbody>\n    <tr>\n      <th>0</th>\n      <td>21.247742</td>\n    </tr>\n    <tr>\n      <th>1</th>\n      <td>20.939032</td>\n    </tr>\n    <tr>\n      <th>2</th>\n      <td>20.519032</td>\n    </tr>\n    <tr>\n      <th>3</th>\n      <td>20.477419</td>\n    </tr>\n    <tr>\n      <th>4</th>\n      <td>20.229677</td>\n    </tr>\n    <tr>\n      <th>5</th>\n      <td>20.285484</td>\n    </tr>\n    <tr>\n      <th>6</th>\n      <td>19.697742</td>\n    </tr>\n    <tr>\n      <th>7</th>\n      <td>19.951290</td>\n    </tr>\n    <tr>\n      <th>8</th>\n      <td>22.101935</td>\n    </tr>\n    <tr>\n      <th>9</th>\n      <td>23.845161</td>\n    </tr>\n    <tr>\n      <th>10</th>\n      <td>25.254194</td>\n    </tr>\n    <tr>\n      <th>11</th>\n      <td>26.671290</td>\n    </tr>\n    <tr>\n      <th>12</th>\n      <td>27.790323</td>\n    </tr>\n    <tr>\n      <th>13</th>\n      <td>28.626452</td>\n    </tr>\n    <tr>\n      <th>14</th>\n      <td>28.950968</td>\n    </tr>\n    <tr>\n      <th>15</th>\n      <td>28.866129</td>\n    </tr>\n    <tr>\n      <th>16</th>\n      <td>28.454516</td>\n    </tr>\n    <tr>\n      <th>17</th>\n      <td>26.959355</td>\n    </tr>\n    <tr>\n      <th>18</th>\n      <td>24.965484</td>\n    </tr>\n    <tr>\n      <th>19</th>\n      <td>23.561290</td>\n    </tr>\n    <tr>\n      <th>20</th>\n      <td>22.948387</td>\n    </tr>\n    <tr>\n      <th>21</th>\n      <td>22.414516</td>\n    </tr>\n    <tr>\n      <th>22</th>\n      <td>22.029355</td>\n    </tr>\n    <tr>\n      <th>23</th>\n      <td>21.457097</td>\n    </tr>\n  </tbody>\n</table>\n</div>"
          },
          "metadata": {},
          "execution_count": 24
        }
      ],
      "source": [
        "df[df['mes'] == 'ene'][['temperature', 'mes', 'hora']].groupby(['hora']).mean()"
      ]
    },
    {
      "cell_type": "code",
      "execution_count": null,
      "metadata": {
        "id": "NAiOMtXsjqGS",
        "outputId": "82fadce9-6ee4-4cfc-d0b1-bfd1eb8a22f4"
      },
      "outputs": [
        {
          "output_type": "execute_result",
          "data": {
            "text/plain": "          temperature\nmes hora             \nabr 20      24.357000\n    21      24.181333\n    22      23.621333\n    23      23.246667\nago 0       21.731290\n    1       21.410741\n    2       21.394667\n    3       21.076207\n    4       20.959333\n    5       20.826667\n    6       20.685806\n    7       21.858065\n    8       23.961290\n    9       25.787097\n    10      27.390645\n    11      28.408710\n    12      29.134516\n    13      29.561935\n    14      30.079032\n    15      29.572903\n    16      29.221935\n    17      27.611613\n    18      26.359355\n    19      24.069032\n    20      23.250645\n    21      22.544516\n    22      22.397419\n    23      22.001935\ndic 0       20.422581\n    1       20.291429\n    2       19.873793\n    3       19.278182\n    4       19.336207\n    5       18.924063\n    6       19.010312\n    7       19.217813\n    8       21.897500\n    9       23.849688\n    10      25.479062\n    11      26.867812",
            "text/html": "<div>\n<style scoped>\n    .dataframe tbody tr th:only-of-type {\n        vertical-align: middle;\n    }\n\n    .dataframe tbody tr th {\n        vertical-align: top;\n    }\n\n    .dataframe thead th {\n        text-align: right;\n    }\n</style>\n<table border=\"1\" class=\"dataframe\">\n  <thead>\n    <tr style=\"text-align: right;\">\n      <th></th>\n      <th></th>\n      <th>temperature</th>\n    </tr>\n    <tr>\n      <th>mes</th>\n      <th>hora</th>\n      <th></th>\n    </tr>\n  </thead>\n  <tbody>\n    <tr>\n      <th rowspan=\"4\" valign=\"top\">abr</th>\n      <th>20</th>\n      <td>24.357000</td>\n    </tr>\n    <tr>\n      <th>21</th>\n      <td>24.181333</td>\n    </tr>\n    <tr>\n      <th>22</th>\n      <td>23.621333</td>\n    </tr>\n    <tr>\n      <th>23</th>\n      <td>23.246667</td>\n    </tr>\n    <tr>\n      <th rowspan=\"24\" valign=\"top\">ago</th>\n      <th>0</th>\n      <td>21.731290</td>\n    </tr>\n    <tr>\n      <th>1</th>\n      <td>21.410741</td>\n    </tr>\n    <tr>\n      <th>2</th>\n      <td>21.394667</td>\n    </tr>\n    <tr>\n      <th>3</th>\n      <td>21.076207</td>\n    </tr>\n    <tr>\n      <th>4</th>\n      <td>20.959333</td>\n    </tr>\n    <tr>\n      <th>5</th>\n      <td>20.826667</td>\n    </tr>\n    <tr>\n      <th>6</th>\n      <td>20.685806</td>\n    </tr>\n    <tr>\n      <th>7</th>\n      <td>21.858065</td>\n    </tr>\n    <tr>\n      <th>8</th>\n      <td>23.961290</td>\n    </tr>\n    <tr>\n      <th>9</th>\n      <td>25.787097</td>\n    </tr>\n    <tr>\n      <th>10</th>\n      <td>27.390645</td>\n    </tr>\n    <tr>\n      <th>11</th>\n      <td>28.408710</td>\n    </tr>\n    <tr>\n      <th>12</th>\n      <td>29.134516</td>\n    </tr>\n    <tr>\n      <th>13</th>\n      <td>29.561935</td>\n    </tr>\n    <tr>\n      <th>14</th>\n      <td>30.079032</td>\n    </tr>\n    <tr>\n      <th>15</th>\n      <td>29.572903</td>\n    </tr>\n    <tr>\n      <th>16</th>\n      <td>29.221935</td>\n    </tr>\n    <tr>\n      <th>17</th>\n      <td>27.611613</td>\n    </tr>\n    <tr>\n      <th>18</th>\n      <td>26.359355</td>\n    </tr>\n    <tr>\n      <th>19</th>\n      <td>24.069032</td>\n    </tr>\n    <tr>\n      <th>20</th>\n      <td>23.250645</td>\n    </tr>\n    <tr>\n      <th>21</th>\n      <td>22.544516</td>\n    </tr>\n    <tr>\n      <th>22</th>\n      <td>22.397419</td>\n    </tr>\n    <tr>\n      <th>23</th>\n      <td>22.001935</td>\n    </tr>\n    <tr>\n      <th rowspan=\"12\" valign=\"top\">dic</th>\n      <th>0</th>\n      <td>20.422581</td>\n    </tr>\n    <tr>\n      <th>1</th>\n      <td>20.291429</td>\n    </tr>\n    <tr>\n      <th>2</th>\n      <td>19.873793</td>\n    </tr>\n    <tr>\n      <th>3</th>\n      <td>19.278182</td>\n    </tr>\n    <tr>\n      <th>4</th>\n      <td>19.336207</td>\n    </tr>\n    <tr>\n      <th>5</th>\n      <td>18.924063</td>\n    </tr>\n    <tr>\n      <th>6</th>\n      <td>19.010312</td>\n    </tr>\n    <tr>\n      <th>7</th>\n      <td>19.217813</td>\n    </tr>\n    <tr>\n      <th>8</th>\n      <td>21.897500</td>\n    </tr>\n    <tr>\n      <th>9</th>\n      <td>23.849688</td>\n    </tr>\n    <tr>\n      <th>10</th>\n      <td>25.479062</td>\n    </tr>\n    <tr>\n      <th>11</th>\n      <td>26.867812</td>\n    </tr>\n  </tbody>\n</table>\n</div>"
          },
          "metadata": {},
          "execution_count": 13
        }
      ],
      "source": [
        "df[df['mes'] != 'ene'][['temperature', 'mes', 'hora']].groupby(['mes', 'hora']).mean()[20:60]"
      ]
    },
    {
      "cell_type": "markdown",
      "metadata": {
        "id": "ZCBeUhx_jqGS"
      },
      "source": [
        "#### Filtrado por múltiples condiciones"
      ]
    },
    {
      "cell_type": "code",
      "execution_count": null,
      "metadata": {
        "id": "-IF-ZsvzjqGT",
        "outputId": "95cb2cf2-0ecd-4389-f400-22d15749bac6"
      },
      "outputs": [
        {
          "output_type": "execute_result",
          "data": {
            "text/plain": "          temperature\nmes hora             \ndic 0       20.422581\n    1       20.291429\n    2       19.873793\n    3       19.278182\n    4       19.336207\n    5       18.924063\n    6       19.010312\n    7       19.217813\n    8       21.897500\n    9       23.849688\n    10      25.479062\n    11      26.867812\n    12      27.958750\n    13      28.398125\n    14      28.710625\n    15      28.255312\n    16      27.785625\n    17      26.466875\n    18      24.095938\n    19      22.855000\n    20      22.274062\n    21      21.758437\n    22      21.267812\n    23      20.958065\nene 0       21.247742\n    1       20.939032\n    2       20.519032\n    3       20.477419\n    4       20.229677\n    5       20.285484\n    6       19.697742\n    7       19.951290\n    8       22.101935\n    9       23.845161\n    10      25.254194\n    11      26.671290\n    12      27.790323\n    13      28.626452\n    14      28.950968\n    15      28.866129\n    16      28.454516\n    17      26.959355\n    18      24.965484\n    19      23.561290\n    20      22.948387\n    21      22.414516\n    22      22.029355\n    23      21.457097",
            "text/html": "<div>\n<style scoped>\n    .dataframe tbody tr th:only-of-type {\n        vertical-align: middle;\n    }\n\n    .dataframe tbody tr th {\n        vertical-align: top;\n    }\n\n    .dataframe thead th {\n        text-align: right;\n    }\n</style>\n<table border=\"1\" class=\"dataframe\">\n  <thead>\n    <tr style=\"text-align: right;\">\n      <th></th>\n      <th></th>\n      <th>temperature</th>\n    </tr>\n    <tr>\n      <th>mes</th>\n      <th>hora</th>\n      <th></th>\n    </tr>\n  </thead>\n  <tbody>\n    <tr>\n      <th rowspan=\"24\" valign=\"top\">dic</th>\n      <th>0</th>\n      <td>20.422581</td>\n    </tr>\n    <tr>\n      <th>1</th>\n      <td>20.291429</td>\n    </tr>\n    <tr>\n      <th>2</th>\n      <td>19.873793</td>\n    </tr>\n    <tr>\n      <th>3</th>\n      <td>19.278182</td>\n    </tr>\n    <tr>\n      <th>4</th>\n      <td>19.336207</td>\n    </tr>\n    <tr>\n      <th>5</th>\n      <td>18.924063</td>\n    </tr>\n    <tr>\n      <th>6</th>\n      <td>19.010312</td>\n    </tr>\n    <tr>\n      <th>7</th>\n      <td>19.217813</td>\n    </tr>\n    <tr>\n      <th>8</th>\n      <td>21.897500</td>\n    </tr>\n    <tr>\n      <th>9</th>\n      <td>23.849688</td>\n    </tr>\n    <tr>\n      <th>10</th>\n      <td>25.479062</td>\n    </tr>\n    <tr>\n      <th>11</th>\n      <td>26.867812</td>\n    </tr>\n    <tr>\n      <th>12</th>\n      <td>27.958750</td>\n    </tr>\n    <tr>\n      <th>13</th>\n      <td>28.398125</td>\n    </tr>\n    <tr>\n      <th>14</th>\n      <td>28.710625</td>\n    </tr>\n    <tr>\n      <th>15</th>\n      <td>28.255312</td>\n    </tr>\n    <tr>\n      <th>16</th>\n      <td>27.785625</td>\n    </tr>\n    <tr>\n      <th>17</th>\n      <td>26.466875</td>\n    </tr>\n    <tr>\n      <th>18</th>\n      <td>24.095938</td>\n    </tr>\n    <tr>\n      <th>19</th>\n      <td>22.855000</td>\n    </tr>\n    <tr>\n      <th>20</th>\n      <td>22.274062</td>\n    </tr>\n    <tr>\n      <th>21</th>\n      <td>21.758437</td>\n    </tr>\n    <tr>\n      <th>22</th>\n      <td>21.267812</td>\n    </tr>\n    <tr>\n      <th>23</th>\n      <td>20.958065</td>\n    </tr>\n    <tr>\n      <th rowspan=\"24\" valign=\"top\">ene</th>\n      <th>0</th>\n      <td>21.247742</td>\n    </tr>\n    <tr>\n      <th>1</th>\n      <td>20.939032</td>\n    </tr>\n    <tr>\n      <th>2</th>\n      <td>20.519032</td>\n    </tr>\n    <tr>\n      <th>3</th>\n      <td>20.477419</td>\n    </tr>\n    <tr>\n      <th>4</th>\n      <td>20.229677</td>\n    </tr>\n    <tr>\n      <th>5</th>\n      <td>20.285484</td>\n    </tr>\n    <tr>\n      <th>6</th>\n      <td>19.697742</td>\n    </tr>\n    <tr>\n      <th>7</th>\n      <td>19.951290</td>\n    </tr>\n    <tr>\n      <th>8</th>\n      <td>22.101935</td>\n    </tr>\n    <tr>\n      <th>9</th>\n      <td>23.845161</td>\n    </tr>\n    <tr>\n      <th>10</th>\n      <td>25.254194</td>\n    </tr>\n    <tr>\n      <th>11</th>\n      <td>26.671290</td>\n    </tr>\n    <tr>\n      <th>12</th>\n      <td>27.790323</td>\n    </tr>\n    <tr>\n      <th>13</th>\n      <td>28.626452</td>\n    </tr>\n    <tr>\n      <th>14</th>\n      <td>28.950968</td>\n    </tr>\n    <tr>\n      <th>15</th>\n      <td>28.866129</td>\n    </tr>\n    <tr>\n      <th>16</th>\n      <td>28.454516</td>\n    </tr>\n    <tr>\n      <th>17</th>\n      <td>26.959355</td>\n    </tr>\n    <tr>\n      <th>18</th>\n      <td>24.965484</td>\n    </tr>\n    <tr>\n      <th>19</th>\n      <td>23.561290</td>\n    </tr>\n    <tr>\n      <th>20</th>\n      <td>22.948387</td>\n    </tr>\n    <tr>\n      <th>21</th>\n      <td>22.414516</td>\n    </tr>\n    <tr>\n      <th>22</th>\n      <td>22.029355</td>\n    </tr>\n    <tr>\n      <th>23</th>\n      <td>21.457097</td>\n    </tr>\n  </tbody>\n</table>\n</div>"
          },
          "metadata": {},
          "execution_count": 14
        }
      ],
      "source": [
        "df[(df['mes'] == 'ene') | (df['mes'] == 'dic')][['temperature', 'mes', 'hora']].groupby(['mes', 'hora']).mean()"
      ]
    },
    {
      "cell_type": "code",
      "execution_count": null,
      "metadata": {
        "id": "uSu1vxzqjqGT",
        "outputId": "c349246a-b0c6-4983-f50e-cb931e1f641d",
        "colab": {
          "base_uri": "https://localhost:8080/",
          "height": 488
        }
      },
      "outputs": [
        {
          "output_type": "execute_result",
          "data": {
            "text/plain": [
              "          temperature\n",
              "mes hora             \n",
              "ene 0       18.405000\n",
              "    1       18.380000\n",
              "    2       18.083333\n",
              "    3       17.960000\n",
              "    4       17.805000\n",
              "    5       17.971250\n",
              "    6       17.827000\n",
              "    7       17.743333\n",
              "    8       17.750000\n",
              "    20      18.980000\n",
              "    21      18.810000\n",
              "    22      18.653333\n",
              "    23      18.540000"
            ],
            "text/html": [
              "\n",
              "  <div id=\"df-1def6a1e-ee12-4170-b25e-1c1c53887548\">\n",
              "    <div class=\"colab-df-container\">\n",
              "      <div>\n",
              "<style scoped>\n",
              "    .dataframe tbody tr th:only-of-type {\n",
              "        vertical-align: middle;\n",
              "    }\n",
              "\n",
              "    .dataframe tbody tr th {\n",
              "        vertical-align: top;\n",
              "    }\n",
              "\n",
              "    .dataframe thead th {\n",
              "        text-align: right;\n",
              "    }\n",
              "</style>\n",
              "<table border=\"1\" class=\"dataframe\">\n",
              "  <thead>\n",
              "    <tr style=\"text-align: right;\">\n",
              "      <th></th>\n",
              "      <th></th>\n",
              "      <th>temperature</th>\n",
              "    </tr>\n",
              "    <tr>\n",
              "      <th>mes</th>\n",
              "      <th>hora</th>\n",
              "      <th></th>\n",
              "    </tr>\n",
              "  </thead>\n",
              "  <tbody>\n",
              "    <tr>\n",
              "      <th rowspan=\"13\" valign=\"top\">ene</th>\n",
              "      <th>0</th>\n",
              "      <td>18.405000</td>\n",
              "    </tr>\n",
              "    <tr>\n",
              "      <th>1</th>\n",
              "      <td>18.380000</td>\n",
              "    </tr>\n",
              "    <tr>\n",
              "      <th>2</th>\n",
              "      <td>18.083333</td>\n",
              "    </tr>\n",
              "    <tr>\n",
              "      <th>3</th>\n",
              "      <td>17.960000</td>\n",
              "    </tr>\n",
              "    <tr>\n",
              "      <th>4</th>\n",
              "      <td>17.805000</td>\n",
              "    </tr>\n",
              "    <tr>\n",
              "      <th>5</th>\n",
              "      <td>17.971250</td>\n",
              "    </tr>\n",
              "    <tr>\n",
              "      <th>6</th>\n",
              "      <td>17.827000</td>\n",
              "    </tr>\n",
              "    <tr>\n",
              "      <th>7</th>\n",
              "      <td>17.743333</td>\n",
              "    </tr>\n",
              "    <tr>\n",
              "      <th>8</th>\n",
              "      <td>17.750000</td>\n",
              "    </tr>\n",
              "    <tr>\n",
              "      <th>20</th>\n",
              "      <td>18.980000</td>\n",
              "    </tr>\n",
              "    <tr>\n",
              "      <th>21</th>\n",
              "      <td>18.810000</td>\n",
              "    </tr>\n",
              "    <tr>\n",
              "      <th>22</th>\n",
              "      <td>18.653333</td>\n",
              "    </tr>\n",
              "    <tr>\n",
              "      <th>23</th>\n",
              "      <td>18.540000</td>\n",
              "    </tr>\n",
              "  </tbody>\n",
              "</table>\n",
              "</div>\n",
              "      <button class=\"colab-df-convert\" onclick=\"convertToInteractive('df-1def6a1e-ee12-4170-b25e-1c1c53887548')\"\n",
              "              title=\"Convert this dataframe to an interactive table.\"\n",
              "              style=\"display:none;\">\n",
              "        \n",
              "  <svg xmlns=\"http://www.w3.org/2000/svg\" height=\"24px\"viewBox=\"0 0 24 24\"\n",
              "       width=\"24px\">\n",
              "    <path d=\"M0 0h24v24H0V0z\" fill=\"none\"/>\n",
              "    <path d=\"M18.56 5.44l.94 2.06.94-2.06 2.06-.94-2.06-.94-.94-2.06-.94 2.06-2.06.94zm-11 1L8.5 8.5l.94-2.06 2.06-.94-2.06-.94L8.5 2.5l-.94 2.06-2.06.94zm10 10l.94 2.06.94-2.06 2.06-.94-2.06-.94-.94-2.06-.94 2.06-2.06.94z\"/><path d=\"M17.41 7.96l-1.37-1.37c-.4-.4-.92-.59-1.43-.59-.52 0-1.04.2-1.43.59L10.3 9.45l-7.72 7.72c-.78.78-.78 2.05 0 2.83L4 21.41c.39.39.9.59 1.41.59.51 0 1.02-.2 1.41-.59l7.78-7.78 2.81-2.81c.8-.78.8-2.07 0-2.86zM5.41 20L4 18.59l7.72-7.72 1.47 1.35L5.41 20z\"/>\n",
              "  </svg>\n",
              "      </button>\n",
              "      \n",
              "  <style>\n",
              "    .colab-df-container {\n",
              "      display:flex;\n",
              "      flex-wrap:wrap;\n",
              "      gap: 12px;\n",
              "    }\n",
              "\n",
              "    .colab-df-convert {\n",
              "      background-color: #E8F0FE;\n",
              "      border: none;\n",
              "      border-radius: 50%;\n",
              "      cursor: pointer;\n",
              "      display: none;\n",
              "      fill: #1967D2;\n",
              "      height: 32px;\n",
              "      padding: 0 0 0 0;\n",
              "      width: 32px;\n",
              "    }\n",
              "\n",
              "    .colab-df-convert:hover {\n",
              "      background-color: #E2EBFA;\n",
              "      box-shadow: 0px 1px 2px rgba(60, 64, 67, 0.3), 0px 1px 3px 1px rgba(60, 64, 67, 0.15);\n",
              "      fill: #174EA6;\n",
              "    }\n",
              "\n",
              "    [theme=dark] .colab-df-convert {\n",
              "      background-color: #3B4455;\n",
              "      fill: #D2E3FC;\n",
              "    }\n",
              "\n",
              "    [theme=dark] .colab-df-convert:hover {\n",
              "      background-color: #434B5C;\n",
              "      box-shadow: 0px 1px 3px 1px rgba(0, 0, 0, 0.15);\n",
              "      filter: drop-shadow(0px 1px 2px rgba(0, 0, 0, 0.3));\n",
              "      fill: #FFFFFF;\n",
              "    }\n",
              "  </style>\n",
              "\n",
              "      <script>\n",
              "        const buttonEl =\n",
              "          document.querySelector('#df-1def6a1e-ee12-4170-b25e-1c1c53887548 button.colab-df-convert');\n",
              "        buttonEl.style.display =\n",
              "          google.colab.kernel.accessAllowed ? 'block' : 'none';\n",
              "\n",
              "        async function convertToInteractive(key) {\n",
              "          const element = document.querySelector('#df-1def6a1e-ee12-4170-b25e-1c1c53887548');\n",
              "          const dataTable =\n",
              "            await google.colab.kernel.invokeFunction('convertToInteractive',\n",
              "                                                     [key], {});\n",
              "          if (!dataTable) return;\n",
              "\n",
              "          const docLinkHtml = 'Like what you see? Visit the ' +\n",
              "            '<a target=\"_blank\" href=https://colab.research.google.com/notebooks/data_table.ipynb>data table notebook</a>'\n",
              "            + ' to learn more about interactive tables.';\n",
              "          element.innerHTML = '';\n",
              "          dataTable['output_type'] = 'display_data';\n",
              "          await google.colab.output.renderOutput(dataTable, element);\n",
              "          const docLink = document.createElement('div');\n",
              "          docLink.innerHTML = docLinkHtml;\n",
              "          element.appendChild(docLink);\n",
              "        }\n",
              "      </script>\n",
              "    </div>\n",
              "  </div>\n",
              "  "
            ]
          },
          "metadata": {},
          "execution_count": 20
        }
      ],
      "source": [
        "df[(df['mes'] == 'ene') & (df['temperature'] <= 19)][['temperature', 'mes', 'hora']].groupby(['mes', 'hora']).mean()"
      ]
    },
    {
      "cell_type": "markdown",
      "metadata": {
        "id": "idEZSe9MjqGT"
      },
      "source": [
        "#### Filtrar usando listas de valores"
      ]
    },
    {
      "cell_type": "code",
      "execution_count": null,
      "metadata": {
        "id": "38MhhvczjqGT",
        "outputId": "9423b9d3-43fe-4820-b657-3871c1d47120"
      },
      "outputs": [
        {
          "output_type": "execute_result",
          "data": {
            "text/plain": "          temperature\nmes hora             \nabr 0       22.890333\n    12      29.814000\n    20      24.357000\nene 0       21.247742\n    12      27.790323\n    20      22.948387\nfeb 0       22.781429\n    12      29.639286\n    20      24.611429\nmar 0       22.933226\n    12      30.360323\n    20      24.537419",
            "text/html": "<div>\n<style scoped>\n    .dataframe tbody tr th:only-of-type {\n        vertical-align: middle;\n    }\n\n    .dataframe tbody tr th {\n        vertical-align: top;\n    }\n\n    .dataframe thead th {\n        text-align: right;\n    }\n</style>\n<table border=\"1\" class=\"dataframe\">\n  <thead>\n    <tr style=\"text-align: right;\">\n      <th></th>\n      <th></th>\n      <th>temperature</th>\n    </tr>\n    <tr>\n      <th>mes</th>\n      <th>hora</th>\n      <th></th>\n    </tr>\n  </thead>\n  <tbody>\n    <tr>\n      <th rowspan=\"3\" valign=\"top\">abr</th>\n      <th>0</th>\n      <td>22.890333</td>\n    </tr>\n    <tr>\n      <th>12</th>\n      <td>29.814000</td>\n    </tr>\n    <tr>\n      <th>20</th>\n      <td>24.357000</td>\n    </tr>\n    <tr>\n      <th rowspan=\"3\" valign=\"top\">ene</th>\n      <th>0</th>\n      <td>21.247742</td>\n    </tr>\n    <tr>\n      <th>12</th>\n      <td>27.790323</td>\n    </tr>\n    <tr>\n      <th>20</th>\n      <td>22.948387</td>\n    </tr>\n    <tr>\n      <th rowspan=\"3\" valign=\"top\">feb</th>\n      <th>0</th>\n      <td>22.781429</td>\n    </tr>\n    <tr>\n      <th>12</th>\n      <td>29.639286</td>\n    </tr>\n    <tr>\n      <th>20</th>\n      <td>24.611429</td>\n    </tr>\n    <tr>\n      <th rowspan=\"3\" valign=\"top\">mar</th>\n      <th>0</th>\n      <td>22.933226</td>\n    </tr>\n    <tr>\n      <th>12</th>\n      <td>30.360323</td>\n    </tr>\n    <tr>\n      <th>20</th>\n      <td>24.537419</td>\n    </tr>\n  </tbody>\n</table>\n</div>"
          },
          "metadata": {},
          "execution_count": 16
        }
      ],
      "source": [
        "lmeses = ['ene', 'feb', 'mar', 'abr']\n",
        "lhoras = [0, 12, 20]\n",
        "df[(df['mes'].isin(lmeses)) & (df['hora'].isin(lhoras))][['temperature', 'mes', 'hora']].groupby(['mes', 'hora']).mean()"
      ]
    },
    {
      "cell_type": "markdown",
      "metadata": {
        "id": "nJ4OtX7tjqGU"
      },
      "source": [
        "#### Uso de la negación en los filtros"
      ]
    },
    {
      "cell_type": "code",
      "execution_count": null,
      "metadata": {
        "id": "A_qQO8A1jqGU",
        "outputId": "7178cf78-cce9-4a92-ceb4-1c09daebffa0"
      },
      "outputs": [
        {
          "output_type": "execute_result",
          "data": {
            "text/plain": "          temperature\nmes hora             \nago 0       21.731290\n    12      29.134516\n    20      23.250645\ndic 0       20.422581\n    12      27.958750\n    20      22.274062\njul 0       22.683226\n    12      29.848387\n    20      24.707097\njun 0       22.416000\n    12      28.401667\n    20      23.812667\nmay 0       22.901935\n    12      28.864516\n    20      24.010645\nnov 0       22.003000\n    12      28.438000\n    20      23.370667\noct 0       21.967419\n    12      26.935806\n    20      22.837419\nsep 0       21.947667\n    12      28.553000\n    20      23.083667",
            "text/html": "<div>\n<style scoped>\n    .dataframe tbody tr th:only-of-type {\n        vertical-align: middle;\n    }\n\n    .dataframe tbody tr th {\n        vertical-align: top;\n    }\n\n    .dataframe thead th {\n        text-align: right;\n    }\n</style>\n<table border=\"1\" class=\"dataframe\">\n  <thead>\n    <tr style=\"text-align: right;\">\n      <th></th>\n      <th></th>\n      <th>temperature</th>\n    </tr>\n    <tr>\n      <th>mes</th>\n      <th>hora</th>\n      <th></th>\n    </tr>\n  </thead>\n  <tbody>\n    <tr>\n      <th rowspan=\"3\" valign=\"top\">ago</th>\n      <th>0</th>\n      <td>21.731290</td>\n    </tr>\n    <tr>\n      <th>12</th>\n      <td>29.134516</td>\n    </tr>\n    <tr>\n      <th>20</th>\n      <td>23.250645</td>\n    </tr>\n    <tr>\n      <th rowspan=\"3\" valign=\"top\">dic</th>\n      <th>0</th>\n      <td>20.422581</td>\n    </tr>\n    <tr>\n      <th>12</th>\n      <td>27.958750</td>\n    </tr>\n    <tr>\n      <th>20</th>\n      <td>22.274062</td>\n    </tr>\n    <tr>\n      <th rowspan=\"3\" valign=\"top\">jul</th>\n      <th>0</th>\n      <td>22.683226</td>\n    </tr>\n    <tr>\n      <th>12</th>\n      <td>29.848387</td>\n    </tr>\n    <tr>\n      <th>20</th>\n      <td>24.707097</td>\n    </tr>\n    <tr>\n      <th rowspan=\"3\" valign=\"top\">jun</th>\n      <th>0</th>\n      <td>22.416000</td>\n    </tr>\n    <tr>\n      <th>12</th>\n      <td>28.401667</td>\n    </tr>\n    <tr>\n      <th>20</th>\n      <td>23.812667</td>\n    </tr>\n    <tr>\n      <th rowspan=\"3\" valign=\"top\">may</th>\n      <th>0</th>\n      <td>22.901935</td>\n    </tr>\n    <tr>\n      <th>12</th>\n      <td>28.864516</td>\n    </tr>\n    <tr>\n      <th>20</th>\n      <td>24.010645</td>\n    </tr>\n    <tr>\n      <th rowspan=\"3\" valign=\"top\">nov</th>\n      <th>0</th>\n      <td>22.003000</td>\n    </tr>\n    <tr>\n      <th>12</th>\n      <td>28.438000</td>\n    </tr>\n    <tr>\n      <th>20</th>\n      <td>23.370667</td>\n    </tr>\n    <tr>\n      <th rowspan=\"3\" valign=\"top\">oct</th>\n      <th>0</th>\n      <td>21.967419</td>\n    </tr>\n    <tr>\n      <th>12</th>\n      <td>26.935806</td>\n    </tr>\n    <tr>\n      <th>20</th>\n      <td>22.837419</td>\n    </tr>\n    <tr>\n      <th rowspan=\"3\" valign=\"top\">sep</th>\n      <th>0</th>\n      <td>21.947667</td>\n    </tr>\n    <tr>\n      <th>12</th>\n      <td>28.553000</td>\n    </tr>\n    <tr>\n      <th>20</th>\n      <td>23.083667</td>\n    </tr>\n  </tbody>\n</table>\n</div>"
          },
          "metadata": {},
          "execution_count": 17
        }
      ],
      "source": [
        "df[(~df['mes'].isin(lmeses)) & (df['hora'].isin(lhoras))][['temperature', 'mes', 'hora']].groupby(['mes', 'hora']).mean()\n",
        "\n"
      ]
    },
    {
      "cell_type": "markdown",
      "metadata": {
        "id": "8nygnIQ5jqGU"
      },
      "source": [
        "#### Filtrado por caracteres"
      ]
    },
    {
      "cell_type": "code",
      "execution_count": null,
      "metadata": {
        "id": "N9vt5z7ljqGV",
        "outputId": "b572d473-4c6c-4053-fb63-9fd3940e06dc"
      },
      "outputs": [
        {
          "output_type": "execute_result",
          "data": {
            "text/plain": "          temperature\nmes hora             \nabr 0       22.890333\n    12      29.814000\n    20      24.357000\nago 0       21.731290\n    12      29.134516\n    20      23.250645\nene 0       21.247742\n    12      27.790323\n    20      22.948387\nfeb 0       22.781429\n    12      29.639286\n    20      24.611429\nmar 0       22.933226\n    12      30.360323\n    20      24.537419\nmay 0       22.901935\n    12      28.864516\n    20      24.010645\nsep 0       21.947667\n    12      28.553000\n    20      23.083667",
            "text/html": "<div>\n<style scoped>\n    .dataframe tbody tr th:only-of-type {\n        vertical-align: middle;\n    }\n\n    .dataframe tbody tr th {\n        vertical-align: top;\n    }\n\n    .dataframe thead th {\n        text-align: right;\n    }\n</style>\n<table border=\"1\" class=\"dataframe\">\n  <thead>\n    <tr style=\"text-align: right;\">\n      <th></th>\n      <th></th>\n      <th>temperature</th>\n    </tr>\n    <tr>\n      <th>mes</th>\n      <th>hora</th>\n      <th></th>\n    </tr>\n  </thead>\n  <tbody>\n    <tr>\n      <th rowspan=\"3\" valign=\"top\">abr</th>\n      <th>0</th>\n      <td>22.890333</td>\n    </tr>\n    <tr>\n      <th>12</th>\n      <td>29.814000</td>\n    </tr>\n    <tr>\n      <th>20</th>\n      <td>24.357000</td>\n    </tr>\n    <tr>\n      <th rowspan=\"3\" valign=\"top\">ago</th>\n      <th>0</th>\n      <td>21.731290</td>\n    </tr>\n    <tr>\n      <th>12</th>\n      <td>29.134516</td>\n    </tr>\n    <tr>\n      <th>20</th>\n      <td>23.250645</td>\n    </tr>\n    <tr>\n      <th rowspan=\"3\" valign=\"top\">ene</th>\n      <th>0</th>\n      <td>21.247742</td>\n    </tr>\n    <tr>\n      <th>12</th>\n      <td>27.790323</td>\n    </tr>\n    <tr>\n      <th>20</th>\n      <td>22.948387</td>\n    </tr>\n    <tr>\n      <th rowspan=\"3\" valign=\"top\">feb</th>\n      <th>0</th>\n      <td>22.781429</td>\n    </tr>\n    <tr>\n      <th>12</th>\n      <td>29.639286</td>\n    </tr>\n    <tr>\n      <th>20</th>\n      <td>24.611429</td>\n    </tr>\n    <tr>\n      <th rowspan=\"3\" valign=\"top\">mar</th>\n      <th>0</th>\n      <td>22.933226</td>\n    </tr>\n    <tr>\n      <th>12</th>\n      <td>30.360323</td>\n    </tr>\n    <tr>\n      <th>20</th>\n      <td>24.537419</td>\n    </tr>\n    <tr>\n      <th rowspan=\"3\" valign=\"top\">may</th>\n      <th>0</th>\n      <td>22.901935</td>\n    </tr>\n    <tr>\n      <th>12</th>\n      <td>28.864516</td>\n    </tr>\n    <tr>\n      <th>20</th>\n      <td>24.010645</td>\n    </tr>\n    <tr>\n      <th rowspan=\"3\" valign=\"top\">sep</th>\n      <th>0</th>\n      <td>21.947667</td>\n    </tr>\n    <tr>\n      <th>12</th>\n      <td>28.553000</td>\n    </tr>\n    <tr>\n      <th>20</th>\n      <td>23.083667</td>\n    </tr>\n  </tbody>\n</table>\n</div>"
          },
          "metadata": {},
          "execution_count": 18
        }
      ],
      "source": [
        "df2 = pd.DataFrame(df[(df['mes'].str.contains('e|a')) & (df['hora'].isin(lhoras))][['temperature', 'mes', 'hora']].groupby(['mes', 'hora']).mean())\n",
        "df2"
      ]
    },
    {
      "cell_type": "code",
      "source": [
        "YYYY-MM-DD"
      ],
      "metadata": {
        "id": "S6TxJP69EHOF"
      },
      "execution_count": null,
      "outputs": []
    },
    {
      "cell_type": "markdown",
      "metadata": {
        "id": "G8MSZfItjqGV"
      },
      "source": [
        "### Extras"
      ]
    },
    {
      "cell_type": "markdown",
      "metadata": {
        "id": "_UV4HXSmjqGV"
      },
      "source": [
        "#### Usando `.xs` para seleccionar un subconjunto de los resultados"
      ]
    },
    {
      "cell_type": "code",
      "execution_count": null,
      "metadata": {
        "id": "iDDWcKpDjqGV",
        "outputId": "25b4eefd-fa7d-49ab-a600-ffa4bf3a953c"
      },
      "outputs": [
        {
          "output_type": "execute_result",
          "data": {
            "text/plain": "      temperature\nhora             \n0       21.947667\n12      28.553000\n20      23.083667",
            "text/html": "<div>\n<style scoped>\n    .dataframe tbody tr th:only-of-type {\n        vertical-align: middle;\n    }\n\n    .dataframe tbody tr th {\n        vertical-align: top;\n    }\n\n    .dataframe thead th {\n        text-align: right;\n    }\n</style>\n<table border=\"1\" class=\"dataframe\">\n  <thead>\n    <tr style=\"text-align: right;\">\n      <th></th>\n      <th>temperature</th>\n    </tr>\n    <tr>\n      <th>hora</th>\n      <th></th>\n    </tr>\n  </thead>\n  <tbody>\n    <tr>\n      <th>0</th>\n      <td>21.947667</td>\n    </tr>\n    <tr>\n      <th>12</th>\n      <td>28.553000</td>\n    </tr>\n    <tr>\n      <th>20</th>\n      <td>23.083667</td>\n    </tr>\n  </tbody>\n</table>\n</div>"
          },
          "metadata": {},
          "execution_count": 19
        }
      ],
      "source": [
        "df2.xs('sep', level='mes')"
      ]
    },
    {
      "cell_type": "markdown",
      "metadata": {
        "id": "2mfndkZ4jqGW"
      },
      "source": [
        "#### Ordenando el resultado con la función `pivot_table()`"
      ]
    },
    {
      "cell_type": "code",
      "execution_count": null,
      "metadata": {
        "id": "AcQJsyBOjqGa",
        "outputId": "79db1af2-1364-4224-ec64-9c5ebb5deffc"
      },
      "outputs": [
        {
          "output_type": "execute_result",
          "data": {
            "text/plain": "mes         abr        ago        ene        feb        mar        may  \\\nhora                                                                     \n0     22.890333  21.731290  21.247742  22.781429  22.933226  22.901935   \n12    29.814000  29.134516  27.790323  29.639286  30.360323  28.864516   \n20    24.357000  23.250645  22.948387  24.611429  24.537419  24.010645   \n\nmes         sep  \nhora             \n0     21.947667  \n12    28.553000  \n20    23.083667  ",
            "text/html": "<div>\n<style scoped>\n    .dataframe tbody tr th:only-of-type {\n        vertical-align: middle;\n    }\n\n    .dataframe tbody tr th {\n        vertical-align: top;\n    }\n\n    .dataframe thead th {\n        text-align: right;\n    }\n</style>\n<table border=\"1\" class=\"dataframe\">\n  <thead>\n    <tr style=\"text-align: right;\">\n      <th>mes</th>\n      <th>abr</th>\n      <th>ago</th>\n      <th>ene</th>\n      <th>feb</th>\n      <th>mar</th>\n      <th>may</th>\n      <th>sep</th>\n    </tr>\n    <tr>\n      <th>hora</th>\n      <th></th>\n      <th></th>\n      <th></th>\n      <th></th>\n      <th></th>\n      <th></th>\n      <th></th>\n    </tr>\n  </thead>\n  <tbody>\n    <tr>\n      <th>0</th>\n      <td>22.890333</td>\n      <td>21.731290</td>\n      <td>21.247742</td>\n      <td>22.781429</td>\n      <td>22.933226</td>\n      <td>22.901935</td>\n      <td>21.947667</td>\n    </tr>\n    <tr>\n      <th>12</th>\n      <td>29.814000</td>\n      <td>29.134516</td>\n      <td>27.790323</td>\n      <td>29.639286</td>\n      <td>30.360323</td>\n      <td>28.864516</td>\n      <td>28.553000</td>\n    </tr>\n    <tr>\n      <th>20</th>\n      <td>24.357000</td>\n      <td>23.250645</td>\n      <td>22.948387</td>\n      <td>24.611429</td>\n      <td>24.537419</td>\n      <td>24.010645</td>\n      <td>23.083667</td>\n    </tr>\n  </tbody>\n</table>\n</div>"
          },
          "metadata": {},
          "execution_count": 20
        }
      ],
      "source": [
        "pd.pivot_table(df2, index = ['hora'], values = 'temperature', columns = ['mes'])"
      ]
    },
    {
      "cell_type": "code",
      "execution_count": null,
      "metadata": {
        "id": "g1RCGhwJjqGa"
      },
      "outputs": [],
      "source": []
    },
    {
      "cell_type": "markdown",
      "metadata": {
        "id": "TX83xXbFjqGb"
      },
      "source": [
        "#### Aplicando varios funciones en múltiples columnas con `groupby()` y `aggregate()/agg()`"
      ]
    },
    {
      "cell_type": "code",
      "execution_count": null,
      "metadata": {
        "id": "BA827GVTjqGb",
        "outputId": "2e458e45-2b20-43ab-ff24-aae28136542d"
      },
      "outputs": [
        {
          "output_type": "execute_result",
          "data": {
            "text/plain": "          temperature\nmes hora             \nene 0           17.89\n    1           17.99\n    2           16.88\n    3           16.33\n    4           15.77\n    5           16.68\n    6           16.68\n    7           15.64\n    8           17.75\n    20          18.98\n    21          18.64\n    22          18.45\n    23          18.16",
            "text/html": "<div>\n<style scoped>\n    .dataframe tbody tr th:only-of-type {\n        vertical-align: middle;\n    }\n\n    .dataframe tbody tr th {\n        vertical-align: top;\n    }\n\n    .dataframe thead th {\n        text-align: right;\n    }\n</style>\n<table border=\"1\" class=\"dataframe\">\n  <thead>\n    <tr style=\"text-align: right;\">\n      <th></th>\n      <th></th>\n      <th>temperature</th>\n    </tr>\n    <tr>\n      <th>mes</th>\n      <th>hora</th>\n      <th></th>\n    </tr>\n  </thead>\n  <tbody>\n    <tr>\n      <th rowspan=\"13\" valign=\"top\">ene</th>\n      <th>0</th>\n      <td>17.89</td>\n    </tr>\n    <tr>\n      <th>1</th>\n      <td>17.99</td>\n    </tr>\n    <tr>\n      <th>2</th>\n      <td>16.88</td>\n    </tr>\n    <tr>\n      <th>3</th>\n      <td>16.33</td>\n    </tr>\n    <tr>\n      <th>4</th>\n      <td>15.77</td>\n    </tr>\n    <tr>\n      <th>5</th>\n      <td>16.68</td>\n    </tr>\n    <tr>\n      <th>6</th>\n      <td>16.68</td>\n    </tr>\n    <tr>\n      <th>7</th>\n      <td>15.64</td>\n    </tr>\n    <tr>\n      <th>8</th>\n      <td>17.75</td>\n    </tr>\n    <tr>\n      <th>20</th>\n      <td>18.98</td>\n    </tr>\n    <tr>\n      <th>21</th>\n      <td>18.64</td>\n    </tr>\n    <tr>\n      <th>22</th>\n      <td>18.45</td>\n    </tr>\n    <tr>\n      <th>23</th>\n      <td>18.16</td>\n    </tr>\n  </tbody>\n</table>\n</div>"
          },
          "metadata": {},
          "execution_count": 21
        }
      ],
      "source": [
        "df[(df['mes'] == 'ene') & (df['temperature'] <= 19)][['temperature', 'mes', 'hora']].groupby(['mes', 'hora']).agg({'temperature': np.min})"
      ]
    },
    {
      "cell_type": "code",
      "execution_count": null,
      "metadata": {
        "id": "2G2pIIRRjqGb",
        "outputId": "7adf0779-40af-4fb6-b80d-0c938f97812b"
      },
      "outputs": [
        {
          "output_type": "execute_result",
          "data": {
            "text/plain": "         temperature                    humidity      \n                amin     sum       mean   median first\nmes hora                                              \nene 0          17.89   36.81  18.405000    0.600  0.56\n    1          17.99   91.90  18.380000    0.750  0.76\n    2          16.88  108.50  18.083333    0.780  0.77\n    3          16.33  107.76  17.960000    0.795  0.79\n    4          15.77  142.44  17.805000    0.735  0.67\n    5          16.68  143.77  17.971250    0.765  0.79\n    6          16.68  178.27  17.827000    0.735  0.65\n    7          15.64  159.69  17.743333    0.750  0.76\n    8          17.75   17.75  17.750000    0.740  0.74\n    20         18.98   18.98  18.980000    0.550  0.55\n    21         18.64   37.62  18.810000    0.765  0.92\n    22         18.45   55.96  18.653333    0.630  0.92\n    23         18.16   37.08  18.540000    0.585  0.54",
            "text/html": "<div>\n<style scoped>\n    .dataframe tbody tr th:only-of-type {\n        vertical-align: middle;\n    }\n\n    .dataframe tbody tr th {\n        vertical-align: top;\n    }\n\n    .dataframe thead tr th {\n        text-align: left;\n    }\n\n    .dataframe thead tr:last-of-type th {\n        text-align: right;\n    }\n</style>\n<table border=\"1\" class=\"dataframe\">\n  <thead>\n    <tr>\n      <th></th>\n      <th></th>\n      <th colspan=\"3\" halign=\"left\">temperature</th>\n      <th colspan=\"2\" halign=\"left\">humidity</th>\n    </tr>\n    <tr>\n      <th></th>\n      <th></th>\n      <th>amin</th>\n      <th>sum</th>\n      <th>mean</th>\n      <th>median</th>\n      <th>first</th>\n    </tr>\n    <tr>\n      <th>mes</th>\n      <th>hora</th>\n      <th></th>\n      <th></th>\n      <th></th>\n      <th></th>\n      <th></th>\n    </tr>\n  </thead>\n  <tbody>\n    <tr>\n      <th rowspan=\"13\" valign=\"top\">ene</th>\n      <th>0</th>\n      <td>17.89</td>\n      <td>36.81</td>\n      <td>18.405000</td>\n      <td>0.600</td>\n      <td>0.56</td>\n    </tr>\n    <tr>\n      <th>1</th>\n      <td>17.99</td>\n      <td>91.90</td>\n      <td>18.380000</td>\n      <td>0.750</td>\n      <td>0.76</td>\n    </tr>\n    <tr>\n      <th>2</th>\n      <td>16.88</td>\n      <td>108.50</td>\n      <td>18.083333</td>\n      <td>0.780</td>\n      <td>0.77</td>\n    </tr>\n    <tr>\n      <th>3</th>\n      <td>16.33</td>\n      <td>107.76</td>\n      <td>17.960000</td>\n      <td>0.795</td>\n      <td>0.79</td>\n    </tr>\n    <tr>\n      <th>4</th>\n      <td>15.77</td>\n      <td>142.44</td>\n      <td>17.805000</td>\n      <td>0.735</td>\n      <td>0.67</td>\n    </tr>\n    <tr>\n      <th>5</th>\n      <td>16.68</td>\n      <td>143.77</td>\n      <td>17.971250</td>\n      <td>0.765</td>\n      <td>0.79</td>\n    </tr>\n    <tr>\n      <th>6</th>\n      <td>16.68</td>\n      <td>178.27</td>\n      <td>17.827000</td>\n      <td>0.735</td>\n      <td>0.65</td>\n    </tr>\n    <tr>\n      <th>7</th>\n      <td>15.64</td>\n      <td>159.69</td>\n      <td>17.743333</td>\n      <td>0.750</td>\n      <td>0.76</td>\n    </tr>\n    <tr>\n      <th>8</th>\n      <td>17.75</td>\n      <td>17.75</td>\n      <td>17.750000</td>\n      <td>0.740</td>\n      <td>0.74</td>\n    </tr>\n    <tr>\n      <th>20</th>\n      <td>18.98</td>\n      <td>18.98</td>\n      <td>18.980000</td>\n      <td>0.550</td>\n      <td>0.55</td>\n    </tr>\n    <tr>\n      <th>21</th>\n      <td>18.64</td>\n      <td>37.62</td>\n      <td>18.810000</td>\n      <td>0.765</td>\n      <td>0.92</td>\n    </tr>\n    <tr>\n      <th>22</th>\n      <td>18.45</td>\n      <td>55.96</td>\n      <td>18.653333</td>\n      <td>0.630</td>\n      <td>0.92</td>\n    </tr>\n    <tr>\n      <th>23</th>\n      <td>18.16</td>\n      <td>37.08</td>\n      <td>18.540000</td>\n      <td>0.585</td>\n      <td>0.54</td>\n    </tr>\n  </tbody>\n</table>\n</div>"
          },
          "metadata": {},
          "execution_count": 22
        }
      ],
      "source": [
        "df[(df['mes'] == 'ene') & (df['temperature'] <= 19)][['humidity','temperature', 'mes', 'hora']].groupby(['mes', 'hora']).agg({'temperature': [np.min, np.sum, np.mean], 'humidity':[np.median, 'first']})"
      ]
    },
    {
      "cell_type": "code",
      "execution_count": null,
      "metadata": {
        "id": "iKjYlZu3jqGb",
        "outputId": "d006e816-9bcc-43b2-dfaf-e7511b943411"
      },
      "outputs": [
        {
          "output_type": "execute_result",
          "data": {
            "text/plain": "          max_temp  median_temp  min_hum\nmes hora                                \nene 0        18.92       18.405     0.56\n    1        18.92       18.360     0.57\n    2        18.92       18.175     0.60\n    3        18.92       18.175     0.58\n    4        18.93       17.990     0.60\n    5        18.93       17.720     0.57\n    6        18.92       17.745     0.56\n    7        18.93       17.770     0.54\n    8        17.75       17.750     0.74\n    20       18.98       18.980     0.55\n    21       18.98       18.810     0.61\n    22       18.77       18.740     0.53\n    23       18.92       18.540     0.54",
            "text/html": "<div>\n<style scoped>\n    .dataframe tbody tr th:only-of-type {\n        vertical-align: middle;\n    }\n\n    .dataframe tbody tr th {\n        vertical-align: top;\n    }\n\n    .dataframe thead th {\n        text-align: right;\n    }\n</style>\n<table border=\"1\" class=\"dataframe\">\n  <thead>\n    <tr style=\"text-align: right;\">\n      <th></th>\n      <th></th>\n      <th>max_temp</th>\n      <th>median_temp</th>\n      <th>min_hum</th>\n    </tr>\n    <tr>\n      <th>mes</th>\n      <th>hora</th>\n      <th></th>\n      <th></th>\n      <th></th>\n    </tr>\n  </thead>\n  <tbody>\n    <tr>\n      <th rowspan=\"13\" valign=\"top\">ene</th>\n      <th>0</th>\n      <td>18.92</td>\n      <td>18.405</td>\n      <td>0.56</td>\n    </tr>\n    <tr>\n      <th>1</th>\n      <td>18.92</td>\n      <td>18.360</td>\n      <td>0.57</td>\n    </tr>\n    <tr>\n      <th>2</th>\n      <td>18.92</td>\n      <td>18.175</td>\n      <td>0.60</td>\n    </tr>\n    <tr>\n      <th>3</th>\n      <td>18.92</td>\n      <td>18.175</td>\n      <td>0.58</td>\n    </tr>\n    <tr>\n      <th>4</th>\n      <td>18.93</td>\n      <td>17.990</td>\n      <td>0.60</td>\n    </tr>\n    <tr>\n      <th>5</th>\n      <td>18.93</td>\n      <td>17.720</td>\n      <td>0.57</td>\n    </tr>\n    <tr>\n      <th>6</th>\n      <td>18.92</td>\n      <td>17.745</td>\n      <td>0.56</td>\n    </tr>\n    <tr>\n      <th>7</th>\n      <td>18.93</td>\n      <td>17.770</td>\n      <td>0.54</td>\n    </tr>\n    <tr>\n      <th>8</th>\n      <td>17.75</td>\n      <td>17.750</td>\n      <td>0.74</td>\n    </tr>\n    <tr>\n      <th>20</th>\n      <td>18.98</td>\n      <td>18.980</td>\n      <td>0.55</td>\n    </tr>\n    <tr>\n      <th>21</th>\n      <td>18.98</td>\n      <td>18.810</td>\n      <td>0.61</td>\n    </tr>\n    <tr>\n      <th>22</th>\n      <td>18.77</td>\n      <td>18.740</td>\n      <td>0.53</td>\n    </tr>\n    <tr>\n      <th>23</th>\n      <td>18.92</td>\n      <td>18.540</td>\n      <td>0.54</td>\n    </tr>\n  </tbody>\n</table>\n</div>"
          },
          "metadata": {},
          "execution_count": 23
        }
      ],
      "source": [
        "df[(df['mes'] == 'ene') & (df['temperature'] <= 19)][['humidity','temperature', 'mes', 'hora']].groupby(['mes', 'hora']).agg(max_temp = ('temperature', 'max'), median_temp = ('temperature', np.median), min_hum = ('humidity', 'min'))"
      ]
    }
  ],
  "metadata": {
    "language_info": {
      "name": "python",
      "codemirror_mode": {
        "name": "ipython",
        "version": 3
      },
      "version": "3.7.7-final"
    },
    "orig_nbformat": 2,
    "file_extension": ".py",
    "mimetype": "text/x-python",
    "name": "python",
    "npconvert_exporter": "python",
    "pygments_lexer": "ipython3",
    "version": 3,
    "kernelspec": {
      "name": "python37132bitsimplificandocondad4a025f5665f45f198698144d61138fc",
      "display_name": "Python 3.7.1 32-bit ('simplificando': conda)"
    },
    "colab": {
      "provenance": [],
      "toc_visible": true
    }
  },
  "nbformat": 4,
  "nbformat_minor": 0
}