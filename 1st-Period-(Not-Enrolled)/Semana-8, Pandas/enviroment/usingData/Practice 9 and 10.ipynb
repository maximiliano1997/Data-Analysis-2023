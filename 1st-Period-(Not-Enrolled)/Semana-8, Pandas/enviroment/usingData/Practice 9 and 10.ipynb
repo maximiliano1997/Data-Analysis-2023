{
 "cells": [
  {
   "attachments": {},
   "cell_type": "markdown",
   "id": "79c3541f",
   "metadata": {},
   "source": [
    "## (Part 9) - Cleaning Data - Casting Datatypes and Handling Missing Values\n",
    "\n",
    "#### "
   ]
  },
  {
   "cell_type": "code",
   "execution_count": null,
   "id": "09716fd5",
   "metadata": {},
   "outputs": [],
   "source": [
    "import pandas as pd\n",
    "import numpy as np"
   ]
  },
  {
   "cell_type": "code",
   "execution_count": null,
   "id": "9ddccf01",
   "metadata": {},
   "outputs": [],
   "source": [
    "people = {\n",
    "    'first': ['Corey', 'Jane', 'John', 'Chris', np.nan, None, 'NA'],\n",
    "    'last': ['Schafer', 'Doe', 'Doe', 'Schafer', np.nan, np.nan, 'Missing'],\n",
    "    'email': ['CoreyMSchafer@gmail.com', 'JaneDoe@email.com', 'JohnDoe@email.com', None, np.nan, 'Anonymous@email.com', 'NA'],\n",
    "    'age': ['33', '55', '63', '36', None, None, 'Missing']\n",
    "}\n"
   ]
  },
  {
   "cell_type": "code",
   "execution_count": null,
   "id": "85ca9e47",
   "metadata": {},
   "outputs": [],
   "source": [
    "df = pd.DataFrame(people)\n",
    "df.replace('NA', np.nan, inplace=True)\n",
    "df.replace('Missing', np.nan, inplace=True)"
   ]
  },
  {
   "cell_type": "code",
   "execution_count": null,
   "id": "1fc41e1f",
   "metadata": {},
   "outputs": [],
   "source": [
    "df"
   ]
  },
  {
   "cell_type": "code",
   "execution_count": null,
   "id": "561a366f",
   "metadata": {},
   "outputs": [],
   "source": [
    "df.dropna()"
   ]
  },
  {
   "cell_type": "code",
   "execution_count": null,
   "id": "1ffbd3c6",
   "metadata": {},
   "outputs": [],
   "source": [
    "df.dropna(axis='index', how='all', subset=['last','email'])"
   ]
  },
  {
   "cell_type": "code",
   "execution_count": null,
   "id": "8be7a016",
   "metadata": {},
   "outputs": [],
   "source": [
    "df.isna()"
   ]
  },
  {
   "cell_type": "code",
   "execution_count": null,
   "id": "9af9e933",
   "metadata": {},
   "outputs": [],
   "source": [
    "df.fillna(0)"
   ]
  },
  {
   "cell_type": "code",
   "execution_count": null,
   "id": "422f6cba",
   "metadata": {},
   "outputs": [],
   "source": [
    "df['age'].mean()"
   ]
  },
  {
   "cell_type": "code",
   "execution_count": null,
   "id": "245ee64c",
   "metadata": {},
   "outputs": [],
   "source": [
    "df['age'] = df['age'].astype(float)"
   ]
  },
  {
   "cell_type": "code",
   "execution_count": null,
   "id": "297dc55b",
   "metadata": {},
   "outputs": [],
   "source": [
    "df.dtypes"
   ]
  },
  {
   "cell_type": "code",
   "execution_count": null,
   "id": "cf1a8c8f",
   "metadata": {},
   "outputs": [],
   "source": [
    "df['age'].mean()"
   ]
  },
  {
   "attachments": {},
   "cell_type": "markdown",
   "id": "07b70f47",
   "metadata": {},
   "source": [
    "## Working with StackOverflow Data"
   ]
  },
  {
   "cell_type": "code",
   "execution_count": null,
   "id": "c871b921",
   "metadata": {},
   "outputs": [],
   "source": [
    "from datetime import datetime"
   ]
  },
  {
   "cell_type": "code",
   "execution_count": null,
   "id": "8e52320a",
   "metadata": {},
   "outputs": [],
   "source": [
    "d_parser = lambda x: datetime.strptime(x, '%Y-%m-%d %I-%p')\n",
    "dfs = pd.read_csv('../data/survey_results_public.csv', index_col='ResponseId')\n",
    "dfs_schema = pd.read_csv('../data/survey_results_schema.csv', index_col='qname')\n"
   ]
  },
  {
   "cell_type": "code",
   "execution_count": null,
   "id": "2b206195",
   "metadata": {},
   "outputs": [],
   "source": [
    "pd.set_option('display.max_columns', 85)\n",
    "pd.set_option('display.max_rows', 85)"
   ]
  },
  {
   "cell_type": "code",
   "execution_count": null,
   "id": "14215166",
   "metadata": {},
   "outputs": [],
   "source": [
    "dfs.head()"
   ]
  },
  {
   "cell_type": "code",
   "execution_count": null,
   "id": "51b12656",
   "metadata": {},
   "outputs": [],
   "source": [
    "dfs['YearsCode'].head(10)"
   ]
  },
  {
   "cell_type": "code",
   "execution_count": null,
   "id": "5363a9e5",
   "metadata": {},
   "outputs": [],
   "source": [
    "dfs['YearsCode'].unique()"
   ]
  },
  {
   "cell_type": "code",
   "execution_count": null,
   "id": "d16f30d7",
   "metadata": {},
   "outputs": [],
   "source": [
    "dfs['YearsCode'].replace('Less than 1 year', 0, inplace=True)"
   ]
  },
  {
   "cell_type": "code",
   "execution_count": null,
   "id": "187c305f",
   "metadata": {},
   "outputs": [],
   "source": [
    "dfs['YearsCode'].replace('More than 50 years', 51, inplace=True)"
   ]
  },
  {
   "cell_type": "code",
   "execution_count": null,
   "id": "bed322bd",
   "metadata": {},
   "outputs": [],
   "source": [
    "dfs['YearsCode'] = dfs['YearsCode'].astype(float)"
   ]
  },
  {
   "cell_type": "code",
   "execution_count": null,
   "id": "274e4a97",
   "metadata": {},
   "outputs": [],
   "source": [
    "dfs['YearsCode'].mean()"
   ]
  },
  {
   "cell_type": "code",
   "execution_count": null,
   "id": "0c2c373e",
   "metadata": {},
   "outputs": [],
   "source": [
    "dfs['YearsCode'].median()"
   ]
  },
  {
   "cell_type": "code",
   "execution_count": null,
   "id": "6e5cae77",
   "metadata": {},
   "outputs": [],
   "source": []
  },
  {
   "attachments": {},
   "cell_type": "markdown",
   "id": "44ce693a",
   "metadata": {},
   "source": [
    "## (Part 10) - Working with Dates and Time Series Data"
   ]
  },
  {
   "cell_type": "code",
   "execution_count": null,
   "id": "dca63618",
   "metadata": {},
   "outputs": [],
   "source": [
    "from datetime import datetime"
   ]
  },
  {
   "cell_type": "code",
   "execution_count": null,
   "id": "8c3fc119",
   "metadata": {},
   "outputs": [],
   "source": [
    "d_parser = lambda x: datetime.strptime(x, '%Y-%m-%d %I-%p')\n",
    "dft = pd.read_csv('../data/ETH_1h.csv', parse_dates=['Date'], date_parser=d_parser)"
   ]
  },
  {
   "cell_type": "code",
   "execution_count": null,
   "id": "2130eee9",
   "metadata": {},
   "outputs": [],
   "source": [
    "dft.head()"
   ]
  },
  {
   "cell_type": "code",
   "execution_count": null,
   "id": "cf0ed796",
   "metadata": {},
   "outputs": [],
   "source": [
    "# dft.loc[0, 'Date'].day_name()"
   ]
  },
  {
   "cell_type": "code",
   "execution_count": null,
   "id": "a5d671dd",
   "metadata": {},
   "outputs": [],
   "source": [
    "# dft['Date'] = pd.to_datetime(dft['Date'], format='%Y-%m-%d %I-%p')"
   ]
  },
  {
   "cell_type": "code",
   "execution_count": null,
   "id": "23b1f696",
   "metadata": {},
   "outputs": [],
   "source": [
    "# dft['Date']"
   ]
  },
  {
   "cell_type": "code",
   "execution_count": null,
   "id": "115421e3",
   "metadata": {},
   "outputs": [],
   "source": [
    "dft.loc[0, 'Date'].day_name()"
   ]
  },
  {
   "cell_type": "code",
   "execution_count": null,
   "id": "bab7f439",
   "metadata": {},
   "outputs": [],
   "source": [
    "dft['Date'].dt.day_name()"
   ]
  },
  {
   "cell_type": "code",
   "execution_count": null,
   "id": "d474a4e1",
   "metadata": {},
   "outputs": [],
   "source": [
    "dft['DayOfWeek'] = dft['Date'].dt.day_name()\n",
    "dft"
   ]
  },
  {
   "cell_type": "code",
   "execution_count": null,
   "id": "b0593a1f",
   "metadata": {},
   "outputs": [],
   "source": [
    "dft['Date'].min()"
   ]
  },
  {
   "cell_type": "code",
   "execution_count": null,
   "id": "72780c03",
   "metadata": {},
   "outputs": [],
   "source": [
    "dft['Date'].max()"
   ]
  },
  {
   "cell_type": "code",
   "execution_count": null,
   "id": "0262ae48",
   "metadata": {},
   "outputs": [],
   "source": [
    "dft['Date'].max() - dft['Date'].min()"
   ]
  },
  {
   "cell_type": "code",
   "execution_count": null,
   "id": "063d2f24",
   "metadata": {},
   "outputs": [],
   "source": [
    "filt = (dft['Date'] >= pd.to_datetime('2019-01-01')) & (dft['Date'] < pd.to_datetime('2020-01-01'))\n",
    "dft.loc[filt]"
   ]
  },
  {
   "cell_type": "code",
   "execution_count": null,
   "id": "8e08705a",
   "metadata": {},
   "outputs": [],
   "source": [
    "dft.set_index('Date', inplace=True)"
   ]
  },
  {
   "cell_type": "code",
   "execution_count": null,
   "id": "42a77009",
   "metadata": {},
   "outputs": [],
   "source": [
    "dft"
   ]
  },
  {
   "cell_type": "code",
   "execution_count": null,
   "id": "1cc40c78",
   "metadata": {},
   "outputs": [],
   "source": [
    "dft.loc['2019']"
   ]
  },
  {
   "cell_type": "code",
   "execution_count": null,
   "id": "fb87574e",
   "metadata": {},
   "outputs": [],
   "source": [
    "dft['2020-01':'2020-02']"
   ]
  },
  {
   "cell_type": "code",
   "execution_count": null,
   "id": "9267c93a",
   "metadata": {},
   "outputs": [],
   "source": [
    "dft['2020-01':'2020-02']['Close'].mean()"
   ]
  },
  {
   "cell_type": "code",
   "execution_count": null,
   "id": "78a2788d",
   "metadata": {},
   "outputs": [],
   "source": [
    "dft['2020-01-01':'2020-01-01']['High'].max()"
   ]
  },
  {
   "cell_type": "code",
   "execution_count": null,
   "id": "5400af5d",
   "metadata": {},
   "outputs": [],
   "source": [
    "highs = dft['High'].resample('D').max()\n",
    "highs['2020-01-01']"
   ]
  },
  {
   "cell_type": "code",
   "execution_count": null,
   "id": "94f9fdc1",
   "metadata": {},
   "outputs": [],
   "source": [
    "#%matplotlib inline\n",
    "#highs.plot()"
   ]
  },
  {
   "cell_type": "code",
   "execution_count": null,
   "id": "37fb33b3",
   "metadata": {},
   "outputs": [],
   "source": [
    "dft.resample('W').mean()\n",
    "dft"
   ]
  },
  {
   "cell_type": "code",
   "execution_count": null,
   "id": "15013841",
   "metadata": {},
   "outputs": [],
   "source": [
    "dft.resample('W').agg({'Close':'mean','High':'max', 'Low':'min', 'Volume':'sum'})"
   ]
  },
  {
   "attachments": {},
   "cell_type": "markdown",
   "id": "5112a6d6",
   "metadata": {},
   "source": [
    "##  ########### END ########### ##"
   ]
  },
  {
   "attachments": {},
   "cell_type": "markdown",
   "id": "e410820a",
   "metadata": {},
   "source": []
  }
 ],
 "metadata": {
  "kernelspec": {
   "display_name": "Python 3 (ipykernel)",
   "language": "python",
   "name": "python3"
  },
  "language_info": {
   "codemirror_mode": {
    "name": "ipython",
    "version": 3
   },
   "file_extension": ".py",
   "mimetype": "text/x-python",
   "name": "python",
   "nbconvert_exporter": "python",
   "pygments_lexer": "ipython3",
   "version": "3.11.3"
  }
 },
 "nbformat": 4,
 "nbformat_minor": 5
}
