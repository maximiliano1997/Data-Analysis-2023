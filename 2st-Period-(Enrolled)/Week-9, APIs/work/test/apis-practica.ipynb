{
 "cells": [
  {
   "cell_type": "code",
   "execution_count": 12,
   "metadata": {},
   "outputs": [],
   "source": [
    "import requests\n",
    "# import json"
   ]
  },
  {
   "cell_type": "code",
   "execution_count": 3,
   "metadata": {},
   "outputs": [],
   "source": [
    "#Definir la URL  base de la API  y el endpoint\n",
    "base_url = 'http://api.openweathermap.org/data/2.5/weather'\n",
    "api_key = 'c117667c46d76df367eded03bfb6c464'"
   ]
  },
  {
   "cell_type": "code",
   "execution_count": 4,
   "metadata": {},
   "outputs": [],
   "source": [
    "# Definir parametros de la solicitud\n",
    "params = {\n",
    "    'q': 'London,uk', # Ciudad y codigo de pais para obtener el clima\n",
    "    'appid': api_key  # Clave de API para autenticacion.\n",
    "}"
   ]
  },
  {
   "cell_type": "code",
   "execution_count": 5,
   "metadata": {},
   "outputs": [
    {
     "name": "stdout",
     "output_type": "stream",
     "text": [
      "Temperatura:  273.77\n",
      "Descripcion del clima:  overcast clouds\n"
     ]
    }
   ],
   "source": [
    "try:\n",
    "    # Realizar la solicitud GET a la API \n",
    "    response = requests.get(base_url, params=params)\n",
    "\n",
    "    # Verificar si la solicitud fue exitosa (codigo de estado 200)\n",
    "    if response.status_code == 200:\n",
    "        # Obtener los datos de la respuesta en formato JSON\n",
    "        data = response.json()\n",
    "\n",
    "        # Acceder a los datos relevantes de la respuesta\n",
    "        temperature = data['main']['temp']\n",
    "        weather_description = data['weather'][0]['description']\n",
    "\n",
    "        # Mostrar los resultados\n",
    "        print('Temperatura: ', temperature)\n",
    "        print('Descripcion del clima: ', weather_description)\n",
    "    else:\n",
    "        # Mostrar el codigo de estado en caso de error\n",
    "        print('Error en la solicitud: ', response.status_code)\n",
    "\n",
    "except requests.exceptions.RequestException as e:\n",
    "    # Capturar errores de solicitud\n",
    "    print('Error de solicitud: ', e)"
   ]
  },
  {
   "cell_type": "code",
   "execution_count": null,
   "metadata": {},
   "outputs": [],
   "source": [
    "\n"
   ]
  },
  {
   "cell_type": "code",
   "execution_count": 6,
   "metadata": {},
   "outputs": [],
   "source": [
    "if __name__ == '__main__':\n",
    "    url = 'https://www.google.com.ar/'\n",
    "    response = requests.get(url)\n",
    "\n",
    "    if response.status_code == 200:\n",
    "        content = response.content\n",
    "        file = open('google.html', 'wb')\n",
    "        file.write(content)\n",
    "        file.close() "
   ]
  },
  {
   "cell_type": "code",
   "execution_count": 7,
   "metadata": {},
   "outputs": [
    {
     "name": "stdout",
     "output_type": "stream",
     "text": [
      "b'<!DOCTYPE html>\\n<html lang=\"en\">\\n\\n<head>\\n    <meta charset=\"UTF-8\">\\n    <title>httpbin.org</title>\\n    <link href=\"https://fonts.googleapis.com/css?family=Open+Sans:400,700|Source+Code+Pro:300,600|Titillium+Web:400,600,700\"\\n        rel=\"stylesheet\">\\n    <link rel=\"stylesheet\" type=\"text/css\" href=\"/flasgger_static/swagger-ui.css\">\\n    <link rel=\"icon\" type=\"image/png\" href=\"/static/favicon.ico\" sizes=\"64x64 32x32 16x16\" />\\n    <style>\\n        html {\\n            box-sizing: border-box;\\n            overflow: -moz-scrollbars-vertical;\\n            overflow-y: scroll;\\n        }\\n\\n        *,\\n        *:before,\\n        *:after {\\n            box-sizing: inherit;\\n        }\\n\\n        body {\\n            margin: 0;\\n            background: #fafafa;\\n        }\\n    </style>\\n</head>\\n\\n<body>\\n    <a href=\"https://github.com/requests/httpbin\" class=\"github-corner\" aria-label=\"View source on Github\">\\n        <svg width=\"80\" height=\"80\" viewBox=\"0 0 250 250\" style=\"fill:#151513; color:#fff; position: absolute; top: 0; border: 0; right: 0;\"\\n            aria-hidden=\"true\">\\n            <path d=\"M0,0 L115,115 L130,115 L142,142 L250,250 L250,0 Z\"></path>\\n            <path d=\"M128.3,109.0 C113.8,99.7 119.0,89.6 119.0,89.6 C122.0,82.7 120.5,78.6 120.5,78.6 C119.2,72.0 123.4,76.3 123.4,76.3 C127.3,80.9 125.5,87.3 125.5,87.3 C122.9,97.6 130.6,101.9 134.4,103.2\"\\n                fill=\"currentColor\" style=\"transform-origin: 130px 106px;\" class=\"octo-arm\"></path>\\n            <path d=\"M115.0,115.0 C114.9,115.1 118.7,116.5 119.8,115.4 L133.7,101.6 C136.9,99.2 139.9,98.4 142.2,98.6 C133.8,88.0 127.5,74.4 143.8,58.0 C148.5,53.4 154.0,51.2 159.7,51.0 C160.3,49.4 163.2,43.6 171.4,40.1 C171.4,40.1 176.1,42.5 178.8,56.2 C183.1,58.6 187.2,61.8 190.9,65.4 C194.5,69.0 197.7,73.2 200.1,77.6 C213.8,80.2 216.3,84.9 216.3,84.9 C212.7,93.1 206.9,96.0 205.4,96.6 C205.1,102.4 203.0,107.8 198.3,112.5 C181.9,128.9 168.3,122.5 157.7,114.1 C157.9,116.9 156.7,120.9 152.7,124.9 L141.0,136.5 C139.8,137.7 141.6,141.9 141.8,141.8 Z\"\\n                fill=\"currentColor\" class=\"octo-body\"></path>\\n        </svg>\\n    </a>\\n    <svg xmlns=\"http://www.w3.org/2000/svg\" xmlns:xlink=\"http://www.w3.org/1999/xlink\" style=\"position:absolute;width:0;height:0\">\\n        <defs>\\n            <symbol viewBox=\"0 0 20 20\" id=\"unlocked\">\\n                <path d=\"M15.8 8H14V5.6C14 2.703 12.665 1 10 1 7.334 1 6 2.703 6 5.6V6h2v-.801C8 3.754 8.797 3 10 3c1.203 0 2 .754 2 2.199V8H4c-.553 0-1 .646-1 1.199V17c0 .549.428 1.139.951 1.307l1.197.387C5.672 18.861 6.55 19 7.1 19h5.8c.549 0 1.428-.139 1.951-.307l1.196-.387c.524-.167.953-.757.953-1.306V9.199C17 8.646 16.352 8 15.8 8z\"></path>\\n            </symbol>\\n\\n            <symbol viewBox=\"0 0 20 20\" id=\"locked\">\\n                <path d=\"M15.8 8H14V5.6C14 2.703 12.665 1 10 1 7.334 1 6 2.703 6 5.6V8H4c-.553 0-1 .646-1 1.199V17c0 .549.428 1.139.951 1.307l1.197.387C5.672 18.861 6.55 19 7.1 19h5.8c.549 0 1.428-.139 1.951-.307l1.196-.387c.524-.167.953-.757.953-1.306V9.199C17 8.646 16.352 8 15.8 8zM12 8H8V5.199C8 3.754 8.797 3 10 3c1.203 0 2 .754 2 2.199V8z\"\\n                />\\n            </symbol>\\n\\n            <symbol viewBox=\"0 0 20 20\" id=\"close\">\\n                <path d=\"M14.348 14.849c-.469.469-1.229.469-1.697 0L10 11.819l-2.651 3.029c-.469.469-1.229.469-1.697 0-.469-.469-.469-1.229 0-1.697l2.758-3.15-2.759-3.152c-.469-.469-.469-1.228 0-1.697.469-.469 1.228-.469 1.697 0L10 8.183l2.651-3.031c.469-.469 1.228-.469 1.697 0 .469.469.469 1.229 0 1.697l-2.758 3.152 2.758 3.15c.469.469.469 1.229 0 1.698z\"\\n                />\\n            </symbol>\\n\\n            <symbol viewBox=\"0 0 20 20\" id=\"large-arrow\">\\n                <path d=\"M13.25 10L6.109 2.58c-.268-.27-.268-.707 0-.979.268-.27.701-.27.969 0l7.83 7.908c.268.271.268.709 0 .979l-7.83 7.908c-.268.271-.701.27-.969 0-.268-.269-.268-.707 0-.979L13.25 10z\"\\n                />\\n            </symbol>\\n\\n            <symbol viewBox=\"0 0 20 20\" id=\"large-arrow-down\">\\n                <path d=\"M17.418 6.109c.272-.268.709-.268.979 0s.271.701 0 .969l-7.908 7.83c-.27.268-.707.268-.979 0l-7.908-7.83c-.27-.268-.27-.701 0-.969.271-.268.709-.268.979 0L10 13.25l7.418-7.141z\"\\n                />\\n            </symbol>\\n\\n\\n            <symbol viewBox=\"0 0 24 24\" id=\"jump-to\">\\n                <path d=\"M19 7v4H5.83l3.58-3.59L8 6l-6 6 6 6 1.41-1.41L5.83 13H21V7z\" />\\n            </symbol>\\n\\n            <symbol viewBox=\"0 0 24 24\" id=\"expand\">\\n                <path d=\"M10 18h4v-2h-4v2zM3 6v2h18V6H3zm3 7h12v-2H6v2z\" />\\n            </symbol>\\n\\n        </defs>\\n    </svg>\\n\\n\\n    <div id=\"swagger-ui\">\\n        <div data-reactroot=\"\" class=\"swagger-ui\">\\n            <div>\\n                <div class=\"information-container wrapper\">\\n                    <section class=\"block col-12\">\\n                        <div class=\"info\">\\n                            <hgroup class=\"main\">\\n                                <h2 class=\"title\">httpbin.org\\n                                    <small>\\n                                        <pre class=\"version\">0.9.2</pre>\\n                                    </small>\\n                                </h2>\\n                                <pre class=\"base-url\">[ Base URL: httpbin.org/ ]</pre>\\n                            </hgroup>\\n                            <div class=\"description\">\\n                                <div class=\"markdown\">\\n                                    <p>A simple HTTP Request &amp; Response Service.\\n                                        <br>\\n                                        <br>\\n                                        <b>Run locally: </b>\\n                                        <code>$ docker run -p 80:80 kennethreitz/httpbin</code>\\n                                    </p>\\n                                </div>\\n                            </div>\\n                            <div>\\n                                <div>\\n                                    <a href=\"https://kennethreitz.org\" target=\"_blank\">the developer - Website</a>\\n                                </div>\\n                                <a href=\"mailto:me@kennethreitz.org\">Send email to the developer</a>\\n                            </div>\\n                        </div>\\n                        <!-- ADDS THE LOADER SPINNER -->\\n                        <div class=\"loading-container\">\\n                            <div class=\"loading\"></div>\\n                        </div>\\n\\n                    </section>\\n                </div>\\n            </div>\\n        </div>\\n    </div>\\n\\n\\n    <div class=\\'swagger-ui\\'>\\n        <div class=\"wrapper\">\\n            <section class=\"clear\">\\n                <span style=\"float: right;\">\\n                    [Powered by\\n                    <a target=\"_blank\" href=\"https://github.com/rochacbruno/flasgger\">Flasgger</a>]\\n                    <br>\\n                </span>\\n            </section>\\n        </div>\\n    </div>\\n\\n\\n\\n    <script src=\"/flasgger_static/swagger-ui-bundle.js\"> </script>\\n    <script src=\"/flasgger_static/swagger-ui-standalone-preset.js\"> </script>\\n    <script src=\\'/flasgger_static/lib/jquery.min.js\\' type=\\'text/javascript\\'></script>\\n    <script>\\n\\n        window.onload = function () {\\n            \\n\\n            fetch(\"/spec.json\")\\n                .then(function (response) {\\n                    response.json()\\n                        .then(function (json) {\\n                            var current_protocol = window.location.protocol.slice(0, -1);\\n                            if (json.schemes[0] != current_protocol) {\\n                                // Switches scheme to the current in use\\n                                var other_protocol = json.schemes[0];\\n                                json.schemes[0] = current_protocol;\\n                                json.schemes[1] = other_protocol;\\n\\n                            }\\n                            json.host = window.location.host;  // sets the current host\\n\\n                            const ui = SwaggerUIBundle({\\n                                spec: json,\\n                                validatorUrl: null,\\n                                dom_id: \\'#swagger-ui\\',\\n                                deepLinking: true,\\n                                jsonEditor: true,\\n                                docExpansion: \"none\",\\n                                apisSorter: \"alpha\",\\n                                //operationsSorter: \"alpha\",\\n                                presets: [\\n                                    SwaggerUIBundle.presets.apis,\\n                                    // yay ES6 modules \\xe2\\x86\\x98\\n                                    Array.isArray(SwaggerUIStandalonePreset) ? SwaggerUIStandalonePreset : SwaggerUIStandalonePreset.default\\n                                ],\\n                                plugins: [\\n                                    SwaggerUIBundle.plugins.DownloadUrl\\n                                ],\\n            \\n            // layout: \"StandaloneLayout\"  // uncomment to enable the green top header\\n        })\\n\\n        window.ui = ui\\n\\n        // uncomment to rename the top brand if layout is enabled\\n        // $(\".topbar-wrapper .link span\").replaceWith(\"<span>httpbin</span>\");\\n        })\\n    })\\n}\\n    </script>  <div class=\\'swagger-ui\\'>\\n    <div class=\"wrapper\">\\n        <section class=\"block col-12 block-desktop col-12-desktop\">\\n            <div>\\n\\n                <h2>Other Utilities</h2>\\n\\n                <ul>\\n                    <li>\\n                        <a href=\"/forms/post\">HTML form</a> that posts to /post /forms/post</li>\\n                </ul>\\n\\n                <br />\\n                <br />\\n            </div>\\n        </section>\\n    </div>\\n</div>\\n</body>\\n\\n</html>'\n"
     ]
    }
   ],
   "source": [
    "if __name__ == '__main__':\n",
    "    url = 'https://httpbin.org/'\n",
    "\n",
    "    response = requests.get(url)\n",
    "\n",
    "    if response.status_code == 200:\n",
    "        content = response.content\n",
    "        print(content)"
   ]
  },
  {
   "cell_type": "code",
   "execution_count": 9,
   "metadata": {},
   "outputs": [
    {
     "name": "stdout",
     "output_type": "stream",
     "text": [
      "b'{\\n  \"args\": {\\n    \"curso\": \"Analisis de Datos\", \\n    \"nombre\": \"Imanol\"\\n  }, \\n  \"headers\": {\\n    \"Accept\": \"*/*\", \\n    \"Accept-Encoding\": \"gzip, deflate\", \\n    \"Host\": \"httpbin.org\", \\n    \"User-Agent\": \"python-requests/2.31.0\", \\n    \"X-Amzn-Trace-Id\": \"Root=1-6562b8eb-462eb9ed7fb9d534568925bb\"\\n  }, \\n  \"origin\": \"45.191.80.45\", \\n  \"url\": \"https://httpbin.org/get?nombre=Imanol&curso=Analisis+de+Datos\"\\n}\\n'\n"
     ]
    }
   ],
   "source": [
    "if __name__ == '__main__':\n",
    "    url = 'https://httpbin.org/get'\n",
    "    args = {'nombre': 'Imanol', 'curso':'Analisis de Datos'}\n",
    "\n",
    "    response = requests.get(url, params=args)\n",
    "\n",
    "    if response.status_code == 200:\n",
    "        content = response.content\n",
    "        print(content)"
   ]
  },
  {
   "cell_type": "code",
   "execution_count": 13,
   "metadata": {},
   "outputs": [],
   "source": [
    "if __name__ == '__main__':\n",
    "    url = 'https://httpbin.org/get/nombre=Imanol?curso=Analisis de datos'\n",
    "    args = {'nombre': 'Imanol', 'curso': 'Analisis de Datos'}\n",
    "\n",
    "    response = requests.get(url, params=args)\n",
    "\n",
    "    if response.status_code == 200:\n",
    "        response_json = response.content.json()\n",
    "        print(response_json)"
   ]
  },
  {
   "cell_type": "markdown",
   "metadata": {},
   "source": [
    "Libreria json"
   ]
  },
  {
   "cell_type": "code",
   "execution_count": 15,
   "metadata": {},
   "outputs": [
    {
     "name": "stdout",
     "output_type": "stream",
     "text": [
      "45.191.80.45\n"
     ]
    }
   ],
   "source": [
    "import json\n",
    "\n",
    "if __name__ == '__main__':\n",
    "    url = 'https://httpbin.org/get'\n",
    "    args = {'nombre': 'Imanol', 'curso': 'Analisis de Datos'}\n",
    "\n",
    "    response = requests.get(url, params=args)\n",
    "\n",
    "    if response.status_code == 200:\n",
    "        response_json = json.loads(response.text)\n",
    "        origin = response_json['origin']\n",
    "        print(origin)"
   ]
  },
  {
   "cell_type": "markdown",
   "metadata": {},
   "source": [
    "Metodo POST"
   ]
  },
  {
   "cell_type": "code",
   "execution_count": 18,
   "metadata": {},
   "outputs": [
    {
     "name": "stdout",
     "output_type": "stream",
     "text": [
      "https://httpbin.org/post?nombre=Imanol&curso=Analisis+de+Datos\n",
      "b'{\\n  \"args\": {\\n    \"curso\": \"Analisis de Datos\", \\n    \"nombre\": \"Imanol\"\\n  }, \\n  \"data\": \"\", \\n  \"files\": {}, \\n  \"form\": {}, \\n  \"headers\": {\\n    \"Accept\": \"*/*\", \\n    \"Accept-Encoding\": \"gzip, deflate\", \\n    \"Content-Length\": \"0\", \\n    \"Host\": \"httpbin.org\", \\n    \"User-Agent\": \"python-requests/2.31.0\", \\n    \"X-Amzn-Trace-Id\": \"Root=1-6562ba72-16fd73133cc422a14dddc85c\"\\n  }, \\n  \"json\": null, \\n  \"origin\": \"45.191.80.45\", \\n  \"url\": \"https://httpbin.org/post?nombre=Imanol&curso=Analisis+de+Datos\"\\n}\\n'\n"
     ]
    }
   ],
   "source": [
    "if __name__ == '__main__':\n",
    "    url = 'https://httpbin.org/post'\n",
    "    args = {'nombre': 'Imanol', 'curso': 'Analisis de Datos'}\n",
    "\n",
    "    response = requests.post(url, params=args)\n",
    "    print(response.url)\n",
    "\n",
    "    if response.status_code == 200:\n",
    "        print(response.content)"
   ]
  },
  {
   "cell_type": "code",
   "execution_count": 19,
   "metadata": {},
   "outputs": [
    {
     "name": "stdout",
     "output_type": "stream",
     "text": [
      "https://httpbin.org/post\n",
      "b'{\\n  \"args\": {}, \\n  \"data\": \"{\\\\\"nombre\\\\\": \\\\\"Imanol\\\\\", \\\\\"curso\\\\\": \\\\\"Analisis de Datos\\\\\"}\", \\n  \"files\": {}, \\n  \"form\": {}, \\n  \"headers\": {\\n    \"Accept\": \"*/*\", \\n    \"Accept-Encoding\": \"gzip, deflate\", \\n    \"Content-Length\": \"50\", \\n    \"Content-Type\": \"application/json\", \\n    \"Host\": \"httpbin.org\", \\n    \"User-Agent\": \"python-requests/2.31.0\", \\n    \"X-Amzn-Trace-Id\": \"Root=1-6562ba99-702f075e7518cb8746ac34fb\"\\n  }, \\n  \"json\": {\\n    \"curso\": \"Analisis de Datos\", \\n    \"nombre\": \"Imanol\"\\n  }, \\n  \"origin\": \"45.191.80.45\", \\n  \"url\": \"https://httpbin.org/post\"\\n}\\n'\n"
     ]
    }
   ],
   "source": [
    "if __name__ == '__main__':\n",
    "    url = 'https://httpbin.org/post'\n",
    "    payload = {'nombre': 'Imanol', 'curso': 'Analisis de Datos'}\n",
    "\n",
    "    response = requests.post(url, json=payload)\n",
    "    print(response.url)\n",
    "\n",
    "    if response.status_code == 200:\n",
    "        print(response.content)"
   ]
  },
  {
   "cell_type": "code",
   "execution_count": 30,
   "metadata": {},
   "outputs": [
    {
     "name": "stdout",
     "output_type": "stream",
     "text": [
      "{\n",
      "  \"args\": {\n",
      "    \"curso\": \"Analisis de Datos\",\n",
      "    \"nombre\": \"Imanol\"\n",
      "  },\n",
      "  \"headers\": {\n",
      "    \"Accept\": \"*/*\",\n",
      "    \"Accept-Encoding\": \"gzip, deflate\",\n",
      "    \"Host\": \"httpbin.org\",\n",
      "    \"User-Agent\": \"python-requests/2.31.0\",\n",
      "    \"X-Amzn-Trace-Id\": \"Root=1-6562b9f5-01b3198a20bbe635317928ec\"\n",
      "  },\n",
      "  \"origin\": \"45.191.80.45\",\n",
      "  \"url\": \"https://httpbin.org/get?nombre=Imanol&curso=Analisis+de+Datos\"\n",
      "}\n"
     ]
    },
    {
     "ename": "TypeError",
     "evalue": "string indices must be integers, not 'str'",
     "output_type": "error",
     "traceback": [
      "\u001b[1;31m---------------------------------------------------------------------------\u001b[0m",
      "\u001b[1;31mTypeError\u001b[0m                                 Traceback (most recent call last)",
      "\u001b[1;32mc:\\Users\\User\\--dev\\--ready-to-go\\DataAnalysis-DA2023\\2st-Period-(Enrolled)\\Week-9, APIs\\work\\test\\apis-practica.ipynb Cell 15\u001b[0m line \u001b[0;36m1\n\u001b[0;32m     <a href='vscode-notebook-cell:/c%3A/Users/User/--dev/--ready-to-go/DataAnalysis-DA2023/2st-Period-%28Enrolled%29/Week-9%2C%20APIs/work/test/apis-practica.ipynb#X20sZmlsZQ%3D%3D?line=12'>13</a>\u001b[0m \u001b[39mprint\u001b[39m(formatted_json)\n\u001b[0;32m     <a href='vscode-notebook-cell:/c%3A/Users/User/--dev/--ready-to-go/DataAnalysis-DA2023/2st-Period-%28Enrolled%29/Week-9%2C%20APIs/work/test/apis-practica.ipynb#X20sZmlsZQ%3D%3D?line=14'>15</a>\u001b[0m \u001b[39m# df = pd.read_json(formatted_json)\u001b[39;00m\n\u001b[1;32m---> <a href='vscode-notebook-cell:/c%3A/Users/User/--dev/--ready-to-go/DataAnalysis-DA2023/2st-Period-%28Enrolled%29/Week-9%2C%20APIs/work/test/apis-practica.ipynb#X20sZmlsZQ%3D%3D?line=15'>16</a>\u001b[0m is_accepted \u001b[39m=\u001b[39m formatted_json[\u001b[39m\"\u001b[39;49m\u001b[39mheaders\u001b[39;49m\u001b[39m\"\u001b[39;49m][\u001b[39m\"\u001b[39m\u001b[39mAccept\u001b[39m\u001b[39m\"\u001b[39m]\n\u001b[0;32m     <a href='vscode-notebook-cell:/c%3A/Users/User/--dev/--ready-to-go/DataAnalysis-DA2023/2st-Period-%28Enrolled%29/Week-9%2C%20APIs/work/test/apis-practica.ipynb#X20sZmlsZQ%3D%3D?line=16'>17</a>\u001b[0m is_accepted\u001b[39m.\u001b[39mto_csv(\u001b[39m'\u001b[39m\u001b[39mis_accepted.csv\u001b[39m\u001b[39m'\u001b[39m, \u001b[39mset\u001b[39m\u001b[39m=\u001b[39m\u001b[39m'\u001b[39m\u001b[39m,\u001b[39m\u001b[39m'\u001b[39m, index\u001b[39m=\u001b[39m\u001b[39mFalse\u001b[39;00m)\n",
      "\u001b[1;31mTypeError\u001b[0m: string indices must be integers, not 'str'"
     ]
    }
   ],
   "source": [
    "import pandas as pd \n",
    "\n",
    "\n",
    "if __name__ == '__main__':\n",
    "    url = 'https://httpbin.org/post'\n",
    "    payload = {'nombre': 'Imanol', 'curso': 'Analisis de Datos'}\n",
    "\n",
    "    response = requests.post(url, data=json.dumps(payload))\n",
    "    \n",
    "    if response.status_code == 200:\n",
    "        reponse_json = response.json()\n",
    "        formatted_json = json.dumps(response_json, indent=2)\n",
    "        print(formatted_json)\n",
    "        \n",
    "        # df = pd.read_json(formatted_json)\n",
    "        is_accepted = formatted_json[\"headers\"][\"Accept\"]\n",
    "        is_accepted.to_csv('is_accepted.csv', set=',', index=False)"
   ]
  },
  {
   "cell_type": "code",
   "execution_count": 33,
   "metadata": {},
   "outputs": [
    {
     "name": "stdout",
     "output_type": "stream",
     "text": [
      "https://httpbin.org/post\n",
      "b'{\\n  \"args\": {}, \\n  \"data\": \"{\\\\\"nombre\\\\\": \\\\\"Imanol\\\\\", \\\\\"curso\\\\\": \\\\\"Analisis de Datos\\\\\"}\", \\n  \"files\": {}, \\n  \"form\": {}, \\n  \"headers\": {\\n    \"Accept\": \"*/*\", \\n    \"Accept-Encoding\": \"gzip, deflate\", \\n    \"Access-Token\": \"123456\", \\n    \"Content-Length\": \"50\", \\n    \"Content-Type\": \"application/json\", \\n    \"Host\": \"httpbin.org\", \\n    \"User-Agent\": \"python-requests/2.31.0\", \\n    \"X-Amzn-Trace-Id\": \"Root=1-6562be57-158f131544e3612e7fff40fe\"\\n  }, \\n  \"json\": {\\n    \"curso\": \"Analisis de Datos\", \\n    \"nombre\": \"Imanol\"\\n  }, \\n  \"origin\": \"45.191.80.45\", \\n  \"url\": \"https://httpbin.org/post\"\\n}\\n'\n"
     ]
    }
   ],
   "source": [
    "\n",
    "if __name__ == '__main__':\n",
    "    url = 'https://httpbin.org/post'\n",
    "    payload = {'nombre': 'Imanol', 'curso': 'Analisis de Datos'}\n",
    "    headers = {'Content-Type': 'application/json', 'access-token':'123456'}\n",
    "\n",
    "    response = requests.post(url, data=json.dumps(payload), headers=headers)\n",
    "    print(response.url)\n",
    "\n",
    "    if response.status_code == 200:\n",
    "        print(response.content)"
   ]
  },
  {
   "cell_type": "code",
   "execution_count": 41,
   "metadata": {},
   "outputs": [
    {
     "name": "stdout",
     "output_type": "stream",
     "text": [
      "https://httpbin.org/post\n",
      "{'Date': 'Sun, 26 Nov 2023 03:46:00 GMT', 'Content-Type': 'application/json', 'Content-Length': '516', 'Connection': 'keep-alive', 'Server': 'gunicorn/19.9.0', 'Access-Control-Allow-Origin': '*', 'Access-Control-Allow-Credentials': 'true'}\n",
      "gunicorn/19.9.0\n"
     ]
    }
   ],
   "source": [
    "\n",
    "if __name__ == '__main__':\n",
    "    url = 'https://httpbin.org/post'\n",
    "    payload = {'nombre': 'Imanol', 'curso': 'Analisis de Datos'}\n",
    "\n",
    "    response = requests.post(url, data=json.dumps(payload))\n",
    "    print(response.url)\n",
    "    \n",
    "    if response.status_code == 200:\n",
    "        headers_response = response.headers\n",
    "        print(headers_response)\n",
    "        server = headers_response['Server']\n",
    "        print(server)"
   ]
  },
  {
   "cell_type": "markdown",
   "metadata": {},
   "source": [
    "Metodos PUT/DELETE"
   ]
  },
  {
   "cell_type": "code",
   "execution_count": 42,
   "metadata": {},
   "outputs": [
    {
     "name": "stdout",
     "output_type": "stream",
     "text": [
      "https://httpbin.org/put\n",
      "gunicorn/19.9.0\n"
     ]
    }
   ],
   "source": [
    "## Metodo PUT \n",
    "\n",
    "if __name__ == '__main__':\n",
    "    url = 'https://httpbin.org/put'\n",
    "    payload = {'nombre': 'Imanol', 'curso': 'Analisis de Datos'}\n",
    "\n",
    "    response = requests.put(url, data=json.dumps(payload))\n",
    "    print(response.url)\n",
    "\n",
    "    if response.status_code == 200:\n",
    "        headers_response = response.headers\n",
    "        #print(headers_response)\n",
    "        server = headers_response['Server']\n",
    "        print(server)"
   ]
  },
  {
   "cell_type": "code",
   "execution_count": 45,
   "metadata": {},
   "outputs": [
    {
     "name": "stdout",
     "output_type": "stream",
     "text": [
      "https://httpbin.org/delete\n",
      "gunicorn/19.9.0\n"
     ]
    }
   ],
   "source": [
    "## Metodo DELETE\n",
    "\n",
    "if __name__ == '__main__':\n",
    "    url = 'https://httpbin.org/delete'\n",
    "    payload = {'nombre': 'Imanol', 'curso': 'Analisis de Datos'}\n",
    "\n",
    "    response = requests.delete(url, data=json.dumps(payload))\n",
    "    print(response.url)\n",
    "\n",
    "    if response.status_code == 200:\n",
    "        headers_response = response.headers\n",
    "        #print(headers_response)\n",
    "        server = headers_response['Server']\n",
    "        print(server)"
   ]
  },
  {
   "cell_type": "code",
   "execution_count": 46,
   "metadata": {},
   "outputs": [
    {
     "name": "stdout",
     "output_type": "stream",
     "text": [
      "https://httpbin.org/delete\n",
      "b'<!DOCTYPE html>\\n<html lang=\"en\">\\n\\n<head>\\n    <meta charset=\"UTF-8\">\\n    <title>httpbin.org</title>\\n    <link href=\"https://fonts.googleapis.com/css?family=Open+Sans:400,700|Source+Code+Pro:300,600|Titillium+Web:400,600,700\"\\n        rel=\"stylesheet\">\\n    <link rel=\"stylesheet\" type=\"text/css\" href=\"/flasgger_static/swagger-ui.css\">\\n    <link rel=\"icon\" type=\"image/png\" href=\"/static/favicon.ico\" sizes=\"64x64 32x32 16x16\" />\\n    <style>\\n        html {\\n            box-sizing: border-box;\\n            overflow: -moz-scrollbars-vertical;\\n            overflow-y: scroll;\\n        }\\n\\n        *,\\n        *:before,\\n        *:after {\\n            box-sizing: inherit;\\n        }\\n\\n        body {\\n            margin: 0;\\n            background: #fafafa;\\n        }\\n    </style>\\n</head>\\n\\n<body>\\n    <a href=\"https://github.com/requests/httpbin\" class=\"github-corner\" aria-label=\"View source on Github\">\\n        <svg width=\"80\" height=\"80\" viewBox=\"0 0 250 250\" style=\"fill:#151513; color:#fff; position: absolute; top: 0; border: 0; right: 0;\"\\n            aria-hidden=\"true\">\\n            <path d=\"M0,0 L115,115 L130,115 L142,142 L250,250 L250,0 Z\"></path>\\n            <path d=\"M128.3,109.0 C113.8,99.7 119.0,89.6 119.0,89.6 C122.0,82.7 120.5,78.6 120.5,78.6 C119.2,72.0 123.4,76.3 123.4,76.3 C127.3,80.9 125.5,87.3 125.5,87.3 C122.9,97.6 130.6,101.9 134.4,103.2\"\\n                fill=\"currentColor\" style=\"transform-origin: 130px 106px;\" class=\"octo-arm\"></path>\\n            <path d=\"M115.0,115.0 C114.9,115.1 118.7,116.5 119.8,115.4 L133.7,101.6 C136.9,99.2 139.9,98.4 142.2,98.6 C133.8,88.0 127.5,74.4 143.8,58.0 C148.5,53.4 154.0,51.2 159.7,51.0 C160.3,49.4 163.2,43.6 171.4,40.1 C171.4,40.1 176.1,42.5 178.8,56.2 C183.1,58.6 187.2,61.8 190.9,65.4 C194.5,69.0 197.7,73.2 200.1,77.6 C213.8,80.2 216.3,84.9 216.3,84.9 C212.7,93.1 206.9,96.0 205.4,96.6 C205.1,102.4 203.0,107.8 198.3,112.5 C181.9,128.9 168.3,122.5 157.7,114.1 C157.9,116.9 156.7,120.9 152.7,124.9 L141.0,136.5 C139.8,137.7 141.6,141.9 141.8,141.8 Z\"\\n                fill=\"currentColor\" class=\"octo-body\"></path>\\n        </svg>\\n    </a>\\n    <svg xmlns=\"http://www.w3.org/2000/svg\" xmlns:xlink=\"http://www.w3.org/1999/xlink\" style=\"position:absolute;width:0;height:0\">\\n        <defs>\\n            <symbol viewBox=\"0 0 20 20\" id=\"unlocked\">\\n                <path d=\"M15.8 8H14V5.6C14 2.703 12.665 1 10 1 7.334 1 6 2.703 6 5.6V6h2v-.801C8 3.754 8.797 3 10 3c1.203 0 2 .754 2 2.199V8H4c-.553 0-1 .646-1 1.199V17c0 .549.428 1.139.951 1.307l1.197.387C5.672 18.861 6.55 19 7.1 19h5.8c.549 0 1.428-.139 1.951-.307l1.196-.387c.524-.167.953-.757.953-1.306V9.199C17 8.646 16.352 8 15.8 8z\"></path>\\n            </symbol>\\n\\n            <symbol viewBox=\"0 0 20 20\" id=\"locked\">\\n                <path d=\"M15.8 8H14V5.6C14 2.703 12.665 1 10 1 7.334 1 6 2.703 6 5.6V8H4c-.553 0-1 .646-1 1.199V17c0 .549.428 1.139.951 1.307l1.197.387C5.672 18.861 6.55 19 7.1 19h5.8c.549 0 1.428-.139 1.951-.307l1.196-.387c.524-.167.953-.757.953-1.306V9.199C17 8.646 16.352 8 15.8 8zM12 8H8V5.199C8 3.754 8.797 3 10 3c1.203 0 2 .754 2 2.199V8z\"\\n                />\\n            </symbol>\\n\\n            <symbol viewBox=\"0 0 20 20\" id=\"close\">\\n                <path d=\"M14.348 14.849c-.469.469-1.229.469-1.697 0L10 11.819l-2.651 3.029c-.469.469-1.229.469-1.697 0-.469-.469-.469-1.229 0-1.697l2.758-3.15-2.759-3.152c-.469-.469-.469-1.228 0-1.697.469-.469 1.228-.469 1.697 0L10 8.183l2.651-3.031c.469-.469 1.228-.469 1.697 0 .469.469.469 1.229 0 1.697l-2.758 3.152 2.758 3.15c.469.469.469 1.229 0 1.698z\"\\n                />\\n            </symbol>\\n\\n            <symbol viewBox=\"0 0 20 20\" id=\"large-arrow\">\\n                <path d=\"M13.25 10L6.109 2.58c-.268-.27-.268-.707 0-.979.268-.27.701-.27.969 0l7.83 7.908c.268.271.268.709 0 .979l-7.83 7.908c-.268.271-.701.27-.969 0-.268-.269-.268-.707 0-.979L13.25 10z\"\\n                />\\n            </symbol>\\n\\n            <symbol viewBox=\"0 0 20 20\" id=\"large-arrow-down\">\\n                <path d=\"M17.418 6.109c.272-.268.709-.268.979 0s.271.701 0 .969l-7.908 7.83c-.27.268-.707.268-.979 0l-7.908-7.83c-.27-.268-.27-.701 0-.969.271-.268.709-.268.979 0L10 13.25l7.418-7.141z\"\\n                />\\n            </symbol>\\n\\n\\n            <symbol viewBox=\"0 0 24 24\" id=\"jump-to\">\\n                <path d=\"M19 7v4H5.83l3.58-3.59L8 6l-6 6 6 6 1.41-1.41L5.83 13H21V7z\" />\\n            </symbol>\\n\\n            <symbol viewBox=\"0 0 24 24\" id=\"expand\">\\n                <path d=\"M10 18h4v-2h-4v2zM3 6v2h18V6H3zm3 7h12v-2H6v2z\" />\\n            </symbol>\\n\\n        </defs>\\n    </svg>\\n\\n\\n    <div id=\"swagger-ui\">\\n        <div data-reactroot=\"\" class=\"swagger-ui\">\\n            <div>\\n                <div class=\"information-container wrapper\">\\n                    <section class=\"block col-12\">\\n                        <div class=\"info\">\\n                            <hgroup class=\"main\">\\n                                <h2 class=\"title\">httpbin.org\\n                                    <small>\\n                                        <pre class=\"version\">0.9.2</pre>\\n                                    </small>\\n                                </h2>\\n                                <pre class=\"base-url\">[ Base URL: httpbin.org/ ]</pre>\\n                            </hgroup>\\n                            <div class=\"description\">\\n                                <div class=\"markdown\">\\n                                    <p>A simple HTTP Request &amp; Response Service.\\n                                        <br>\\n                                        <br>\\n                                        <b>Run locally: </b>\\n                                        <code>$ docker run -p 80:80 kennethreitz/httpbin</code>\\n                                    </p>\\n                                </div>\\n                            </div>\\n                            <div>\\n                                <div>\\n                                    <a href=\"https://kennethreitz.org\" target=\"_blank\">the developer - Website</a>\\n                                </div>\\n                                <a href=\"mailto:me@kennethreitz.org\">Send email to the developer</a>\\n                            </div>\\n                        </div>\\n                        <!-- ADDS THE LOADER SPINNER -->\\n                        <div class=\"loading-container\">\\n                            <div class=\"loading\"></div>\\n                        </div>\\n\\n                    </section>\\n                </div>\\n            </div>\\n        </div>\\n    </div>\\n\\n\\n    <div class=\\'swagger-ui\\'>\\n        <div class=\"wrapper\">\\n            <section class=\"clear\">\\n                <span style=\"float: right;\">\\n                    [Powered by\\n                    <a target=\"_blank\" href=\"https://github.com/rochacbruno/flasgger\">Flasgger</a>]\\n                    <br>\\n                </span>\\n            </section>\\n        </div>\\n    </div>\\n\\n\\n\\n    <script src=\"/flasgger_static/swagger-ui-bundle.js\"> </script>\\n    <script src=\"/flasgger_static/swagger-ui-standalone-preset.js\"> </script>\\n    <script src=\\'/flasgger_static/lib/jquery.min.js\\' type=\\'text/javascript\\'></script>\\n    <script>\\n\\n        window.onload = function () {\\n            \\n\\n            fetch(\"/spec.json\")\\n                .then(function (response) {\\n                    response.json()\\n                        .then(function (json) {\\n                            var current_protocol = window.location.protocol.slice(0, -1);\\n                            if (json.schemes[0] != current_protocol) {\\n                                // Switches scheme to the current in use\\n                                var other_protocol = json.schemes[0];\\n                                json.schemes[0] = current_protocol;\\n                                json.schemes[1] = other_protocol;\\n\\n                            }\\n                            json.host = window.location.host;  // sets the current host\\n\\n                            const ui = SwaggerUIBundle({\\n                                spec: json,\\n                                validatorUrl: null,\\n                                dom_id: \\'#swagger-ui\\',\\n                                deepLinking: true,\\n                                jsonEditor: true,\\n                                docExpansion: \"none\",\\n                                apisSorter: \"alpha\",\\n                                //operationsSorter: \"alpha\",\\n                                presets: [\\n                                    SwaggerUIBundle.presets.apis,\\n                                    // yay ES6 modules \\xe2\\x86\\x98\\n                                    Array.isArray(SwaggerUIStandalonePreset) ? SwaggerUIStandalonePreset : SwaggerUIStandalonePreset.default\\n                                ],\\n                                plugins: [\\n                                    SwaggerUIBundle.plugins.DownloadUrl\\n                                ],\\n            \\n            // layout: \"StandaloneLayout\"  // uncomment to enable the green top header\\n        })\\n\\n        window.ui = ui\\n\\n        // uncomment to rename the top brand if layout is enabled\\n        // $(\".topbar-wrapper .link span\").replaceWith(\"<span>httpbin</span>\");\\n        })\\n    })\\n}\\n    </script>  <div class=\\'swagger-ui\\'>\\n    <div class=\"wrapper\">\\n        <section class=\"block col-12 block-desktop col-12-desktop\">\\n            <div>\\n\\n                <h2>Other Utilities</h2>\\n\\n                <ul>\\n                    <li>\\n                        <a href=\"/forms/post\">HTML form</a> that posts to /post /forms/post</li>\\n                </ul>\\n\\n                <br />\\n                <br />\\n            </div>\\n        </section>\\n    </div>\\n</div>\\n</body>\\n\\n</html>'\n"
     ]
    }
   ],
   "source": [
    "if __name__ == '__main__':\n",
    "  url = 'https://httpbin.org/'\n",
    "  payload = {'nombre': 'Juan', 'curso': 'Analisis de datos'}\n",
    "\n",
    "  reponse = requests.get(url, data=json.dumps(payload))\n",
    "  print(response.url)\n",
    "  if reponse.status_code == 200:\n",
    "    print(reponse.content)"
   ]
  },
  {
   "cell_type": "code",
   "execution_count": 53,
   "metadata": {},
   "outputs": [
    {
     "name": "stdout",
     "output_type": "stream",
     "text": [
      "{'args': {'curso': 'Analisis-de-datos', 'nombre': 'Imanol'}}\n",
      "Analisis-de-datos\n",
      "Imanol\n"
     ]
    }
   ],
   "source": [
    "df = {\n",
    "    \"args\": {\n",
    "        \"curso\": \"Analisis-de-datos\",\n",
    "        \"nombre\": \"Imanol\"\n",
    "    }\n",
    "}\n",
    "\n",
    "print(df)\n",
    "\n",
    "curso = df['args']['curso']\n",
    "nombre = df['args']['nombre']\n",
    "\n",
    "print(curso)\n",
    "print(nombre)"
   ]
  },
  {
   "cell_type": "code",
   "execution_count": 57,
   "metadata": {},
   "outputs": [
    {
     "name": "stdout",
     "output_type": "stream",
     "text": [
      "{'nombre': 'Imanol', 'edad': 26, 'hobbies': ['Codear', 'Leer', 'Videos']}\n",
      "<class 'dict'>\n",
      "{\"nombre\": \"Imanol\", \"edad\": 26, \"hobbies\": [\"Codear\", \"Leer\", \"Videos\"]}\n",
      "<class 'str'>\n"
     ]
    }
   ],
   "source": [
    "datos = {\n",
    "    \"nombre\": \"Imanol\",\n",
    "    \"edad\": 26,\n",
    "    \"hobbies\": [\"Codear\", \"Leer\", \"Videos\"]\n",
    "}\n",
    "print(datos)\n",
    "print(type(datos))\n",
    "cadena_json = json.dumps(datos)\n",
    "print(cadena_json)\n",
    "print(type(cadena_json))"
   ]
  },
  {
   "cell_type": "code",
   "execution_count": 60,
   "metadata": {},
   "outputs": [
    {
     "name": "stdout",
     "output_type": "stream",
     "text": [
      "<class 'dict'>\n"
     ]
    },
    {
     "ename": "FileNotFoundError",
     "evalue": "[Errno 2] No such file or directory: '/content/sample_data'",
     "output_type": "error",
     "traceback": [
      "\u001b[1;31m---------------------------------------------------------------------------\u001b[0m",
      "\u001b[1;31mFileNotFoundError\u001b[0m                         Traceback (most recent call last)",
      "\u001b[1;32mc:\\Users\\User\\--dev\\--ready-to-go\\DataAnalysis-DA2023\\2st-Period-(Enrolled)\\Week-9, APIs\\work\\test\\apis-practica.ipynb Cell 24\u001b[0m line \u001b[0;36m1\n\u001b[0;32m      <a href='vscode-notebook-cell:/c%3A/Users/User/--dev/--ready-to-go/DataAnalysis-DA2023/2st-Period-%28Enrolled%29/Week-9%2C%20APIs/work/test/apis-practica.ipynb#X33sZmlsZQ%3D%3D?line=4'>5</a>\u001b[0m datos \u001b[39m=\u001b[39m {\n\u001b[0;32m      <a href='vscode-notebook-cell:/c%3A/Users/User/--dev/--ready-to-go/DataAnalysis-DA2023/2st-Period-%28Enrolled%29/Week-9%2C%20APIs/work/test/apis-practica.ipynb#X33sZmlsZQ%3D%3D?line=5'>6</a>\u001b[0m     \u001b[39m\"\u001b[39m\u001b[39mnombre\u001b[39m\u001b[39m\"\u001b[39m: \u001b[39m\"\u001b[39m\u001b[39mImanol\u001b[39m\u001b[39m\"\u001b[39m,\n\u001b[0;32m      <a href='vscode-notebook-cell:/c%3A/Users/User/--dev/--ready-to-go/DataAnalysis-DA2023/2st-Period-%28Enrolled%29/Week-9%2C%20APIs/work/test/apis-practica.ipynb#X33sZmlsZQ%3D%3D?line=6'>7</a>\u001b[0m     \u001b[39m\"\u001b[39m\u001b[39medad\u001b[39m\u001b[39m\"\u001b[39m: \u001b[39m26\u001b[39m,\n\u001b[0;32m      <a href='vscode-notebook-cell:/c%3A/Users/User/--dev/--ready-to-go/DataAnalysis-DA2023/2st-Period-%28Enrolled%29/Week-9%2C%20APIs/work/test/apis-practica.ipynb#X33sZmlsZQ%3D%3D?line=7'>8</a>\u001b[0m     \u001b[39m\"\u001b[39m\u001b[39mhobbies\u001b[39m\u001b[39m\"\u001b[39m: [\u001b[39m\"\u001b[39m\u001b[39mCodear\u001b[39m\u001b[39m\"\u001b[39m, \u001b[39m\"\u001b[39m\u001b[39mLeer\u001b[39m\u001b[39m\"\u001b[39m, \u001b[39m\"\u001b[39m\u001b[39mVideos\u001b[39m\u001b[39m\"\u001b[39m]\n\u001b[0;32m      <a href='vscode-notebook-cell:/c%3A/Users/User/--dev/--ready-to-go/DataAnalysis-DA2023/2st-Period-%28Enrolled%29/Week-9%2C%20APIs/work/test/apis-practica.ipynb#X33sZmlsZQ%3D%3D?line=8'>9</a>\u001b[0m }\n\u001b[0;32m     <a href='vscode-notebook-cell:/c%3A/Users/User/--dev/--ready-to-go/DataAnalysis-DA2023/2st-Period-%28Enrolled%29/Week-9%2C%20APIs/work/test/apis-practica.ipynb#X33sZmlsZQ%3D%3D?line=9'>10</a>\u001b[0m \u001b[39mprint\u001b[39m(\u001b[39mtype\u001b[39m(datos))\n\u001b[1;32m---> <a href='vscode-notebook-cell:/c%3A/Users/User/--dev/--ready-to-go/DataAnalysis-DA2023/2st-Period-%28Enrolled%29/Week-9%2C%20APIs/work/test/apis-practica.ipynb#X33sZmlsZQ%3D%3D?line=11'>12</a>\u001b[0m \u001b[39mwith\u001b[39;00m \u001b[39mopen\u001b[39;49m(path, \u001b[39m\"\u001b[39;49m\u001b[39mw\u001b[39;49m\u001b[39m\"\u001b[39;49m) \u001b[39mas\u001b[39;00m archivo:\n\u001b[0;32m     <a href='vscode-notebook-cell:/c%3A/Users/User/--dev/--ready-to-go/DataAnalysis-DA2023/2st-Period-%28Enrolled%29/Week-9%2C%20APIs/work/test/apis-practica.ipynb#X33sZmlsZQ%3D%3D?line=12'>13</a>\u001b[0m     json\u001b[39m.\u001b[39mdump(datos, archivo)\n\u001b[0;32m     <a href='vscode-notebook-cell:/c%3A/Users/User/--dev/--ready-to-go/DataAnalysis-DA2023/2st-Period-%28Enrolled%29/Week-9%2C%20APIs/work/test/apis-practica.ipynb#X33sZmlsZQ%3D%3D?line=14'>15</a>\u001b[0m df \u001b[39m=\u001b[39m pd\u001b[39m.\u001b[39mread_json(datos)\n",
      "File \u001b[1;32mc:\\Users\\User\\--dev\\--ready-to-go\\DataAnalysis-DA2023\\2st-Period-(Enrolled)\\Week-9, APIs\\work\\entorno\\venv\\Lib\\site-packages\\IPython\\core\\interactiveshell.py:308\u001b[0m, in \u001b[0;36m_modified_open\u001b[1;34m(file, *args, **kwargs)\u001b[0m\n\u001b[0;32m    301\u001b[0m \u001b[39mif\u001b[39;00m file \u001b[39min\u001b[39;00m {\u001b[39m0\u001b[39m, \u001b[39m1\u001b[39m, \u001b[39m2\u001b[39m}:\n\u001b[0;32m    302\u001b[0m     \u001b[39mraise\u001b[39;00m \u001b[39mValueError\u001b[39;00m(\n\u001b[0;32m    303\u001b[0m         \u001b[39mf\u001b[39m\u001b[39m\"\u001b[39m\u001b[39mIPython won\u001b[39m\u001b[39m'\u001b[39m\u001b[39mt let you open fd=\u001b[39m\u001b[39m{\u001b[39;00mfile\u001b[39m}\u001b[39;00m\u001b[39m by default \u001b[39m\u001b[39m\"\u001b[39m\n\u001b[0;32m    304\u001b[0m         \u001b[39m\"\u001b[39m\u001b[39mas it is likely to crash IPython. If you know what you are doing, \u001b[39m\u001b[39m\"\u001b[39m\n\u001b[0;32m    305\u001b[0m         \u001b[39m\"\u001b[39m\u001b[39myou can use builtins\u001b[39m\u001b[39m'\u001b[39m\u001b[39m open.\u001b[39m\u001b[39m\"\u001b[39m\n\u001b[0;32m    306\u001b[0m     )\n\u001b[1;32m--> 308\u001b[0m \u001b[39mreturn\u001b[39;00m io_open(file, \u001b[39m*\u001b[39;49margs, \u001b[39m*\u001b[39;49m\u001b[39m*\u001b[39;49mkwargs)\n",
      "\u001b[1;31mFileNotFoundError\u001b[0m: [Errno 2] No such file or directory: '/content/sample_data'"
     ]
    }
   ],
   "source": [
    "path = '/content/sample_data'\n",
    "# BASE_URL = \n",
    "# TOKEN = config.token\n",
    "\n",
    "datos = {\n",
    "    \"nombre\": \"Imanol\",\n",
    "    \"edad\": 26,\n",
    "    \"hobbies\": [\"Codear\", \"Leer\", \"Videos\"]\n",
    "}\n",
    "print(type(datos))\n",
    "\n",
    "with open(path, \"w\") as archivo:\n",
    "    json.dump(datos, archivo)\n",
    "\n",
    "df = pd.read_json(datos)\n",
    "df_edad = df['Edad']\n",
    "\n",
    "df_edad.to_csv(\"Edades.csv\", sep=\";\")"
   ]
  },
  {
   "cell_type": "code",
   "execution_count": 63,
   "metadata": {},
   "outputs": [
    {
     "name": "stdout",
     "output_type": "stream",
     "text": [
      "Realizando operacion 0\n",
      "Realizando operacion 1\n",
      "Realizando operacion 2\n",
      "Realizando operacion 3\n",
      "Realizando operacion 4\n"
     ]
    }
   ],
   "source": [
    "import time\n",
    "\n",
    "for i in range(5):\n",
    "    print(\"Realizando operacion\", i)\n",
    "    time.sleep(5)"
   ]
  },
  {
   "cell_type": "code",
   "execution_count": 64,
   "metadata": {},
   "outputs": [
    {
     "name": "stdout",
     "output_type": "stream",
     "text": [
      "La fecha y la hora actual es:  Sun Nov 26 01:01:46 2023\n"
     ]
    }
   ],
   "source": [
    "import time\n",
    "segundos = time.time()\n",
    "fecha_hora = time.ctime(segundos)\n",
    "print(\"La fecha y la hora actual es: \", fecha_hora)"
   ]
  },
  {
   "cell_type": "code",
   "execution_count": 65,
   "metadata": {},
   "outputs": [
    {
     "name": "stdout",
     "output_type": "stream",
     "text": [
      "La hora local actual es:  time.struct_time(tm_year=2023, tm_mon=11, tm_mday=26, tm_hour=1, tm_min=2, tm_sec=40, tm_wday=6, tm_yday=330, tm_isdst=0)\n"
     ]
    }
   ],
   "source": [
    "import time\n",
    "\n",
    "segundos = time.time()\n",
    "tiempo_local = time.localtime(segundos)\n",
    "print(\"La hora local actual es: \", tiempo_local)"
   ]
  },
  {
   "cell_type": "code",
   "execution_count": 67,
   "metadata": {},
   "outputs": [
    {
     "name": "stdout",
     "output_type": "stream",
     "text": [
      "La hora UTC actual es:  time.struct_time(tm_year=2023, tm_mon=11, tm_mday=26, tm_hour=4, tm_min=3, tm_sec=50, tm_wday=6, tm_yday=330, tm_isdst=0)\n"
     ]
    }
   ],
   "source": [
    "import time\n",
    "\n",
    "segundos = time.time()\n",
    "tiempo_utc = time.gmtime(segundos)\n",
    "print(\"La hora UTC actual es: \", tiempo_utc)"
   ]
  },
  {
   "cell_type": "code",
   "execution_count": 68,
   "metadata": {},
   "outputs": [
    {
     "name": "stdout",
     "output_type": "stream",
     "text": [
      "time.struct_time(tm_year=2023, tm_mon=11, tm_mday=26, tm_hour=1, tm_min=5, tm_sec=34, tm_wday=6, tm_yday=330, tm_isdst=0)\n",
      "<class 'time.struct_time'>\n",
      "<class 'str'>\n",
      "La fecha actual en formate AAAA_MM_DD es: 2023-11-26\n"
     ]
    }
   ],
   "source": [
    "import time\n",
    "\n",
    "tiempo_actual = time.localtime()\n",
    "print(tiempo_actual)\n",
    "print(type(tiempo_actual))\n",
    "\n",
    "fecha_formateada = time.strftime(\"%Y-%m-%d\", tiempo_actual)\n",
    "print(type(fecha_formateada))\n",
    "\n",
    "print(\"La fecha actual en formate AAAA_MM_DD es:\", fecha_formateada)"
   ]
  },
  {
   "cell_type": "code",
   "execution_count": 71,
   "metadata": {},
   "outputs": [
    {
     "name": "stdout",
     "output_type": "stream",
     "text": [
      "{\"nombre\": \"Imanol\", \"edad\": 26, \"hobbies\": [\"correr\", \"leer\", \"viajar\"]}\n"
     ]
    },
    {
     "name": "stderr",
     "output_type": "stream",
     "text": [
      "C:\\Users\\User\\AppData\\Local\\Temp\\ipykernel_15208\\1916277898.py:13: FutureWarning: Passing literal json to 'read_json' is deprecated and will be removed in a future version. To read from a literal string, wrap it in a 'StringIO' object.\n",
      "  df = pd.read_json(cadena_json)\n"
     ]
    }
   ],
   "source": [
    "import json\n",
    "import pandas as pd\n",
    "\n",
    "datos = {\n",
    "    \"nombre\": \"Imanol\",\n",
    "    \"edad\": 26,\n",
    "    \"hobbies\": [\"correr\", \"leer\", \"viajar\"]\n",
    "}\n",
    "\n",
    "with open('datos.json', 'r'):\n",
    "    cadena_json = json.dumps(datos)\n",
    "    print(cadena_json)\n",
    "    df = pd.read_json(cadena_json)\n",
    "    df.to_csv('alumnos.csv', sep = ',')"
   ]
  },
  {
   "cell_type": "code",
   "execution_count": null,
   "metadata": {},
   "outputs": [],
   "source": []
  }
 ],
 "metadata": {
  "kernelspec": {
   "display_name": "venv",
   "language": "python",
   "name": "python3"
  },
  "language_info": {
   "codemirror_mode": {
    "name": "ipython",
    "version": 3
   },
   "file_extension": ".py",
   "mimetype": "text/x-python",
   "name": "python",
   "nbconvert_exporter": "python",
   "pygments_lexer": "ipython3",
   "version": "3.11.3"
  }
 },
 "nbformat": 4,
 "nbformat_minor": 2
}
