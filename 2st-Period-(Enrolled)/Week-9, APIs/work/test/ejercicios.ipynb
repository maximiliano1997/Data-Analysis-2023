{
 "cells": [
  {
   "cell_type": "code",
   "execution_count": 1,
   "metadata": {},
   "outputs": [],
   "source": [
    "import datetime"
   ]
  },
  {
   "cell_type": "code",
   "execution_count": 4,
   "metadata": {},
   "outputs": [
    {
     "name": "stdout",
     "output_type": "stream",
     "text": [
      "2022-12-31 00:00:00\n"
     ]
    }
   ],
   "source": [
    "cadena_fecha = \"2022-12-31\"\n",
    "fecha_objeto = datetime.datetime.strptime(cadena_fecha, \"%Y-%m-%d\")\n",
    "print(fecha_objeto)"
   ]
  },
  {
   "cell_type": "code",
   "execution_count": 13,
   "metadata": {},
   "outputs": [
    {
     "name": "stdout",
     "output_type": "stream",
     "text": [
      "1672455600.0\n",
      "2022-12-31 06:00:00\n"
     ]
    }
   ],
   "source": [
    "# Ejemplo de clase con unit timestamp:\n",
    "# Obtener el tiempo Unix (dt) del diccionario response_json\n",
    "\n",
    "response_json = {\n",
    "    'dt': (fecha_objeto).timestamp() ,\n",
    "}\n",
    "\n",
    "unix_timestamp = response_json['dt']\n",
    "print(unix_timestamp)\n",
    "\n",
    "# Convertir el tiempo Unix a una fecha y hora en UTC\n",
    "utc_datetime = datetime.datetime.utcfromtimestamp(unix_timestamp)\n",
    "\n",
    "# Establecer el desplazamiento de GMT+3 (Argentina en horario de verano)\n",
    "gmt3_offset = datetime.timedelta(hours=3)\n",
    "argentina_datetime = utc_datetime + gmt3_offset\n",
    "print(argentina_datetime)"
   ]
  },
  {
   "cell_type": "code",
   "execution_count": 11,
   "metadata": {},
   "outputs": [],
   "source": []
  },
  {
   "cell_type": "code",
   "execution_count": null,
   "metadata": {},
   "outputs": [],
   "source": []
  }
 ],
 "metadata": {
  "kernelspec": {
   "display_name": "venv",
   "language": "python",
   "name": "python3"
  },
  "language_info": {
   "codemirror_mode": {
    "name": "ipython",
    "version": 3
   },
   "file_extension": ".py",
   "mimetype": "text/x-python",
   "name": "python",
   "nbconvert_exporter": "python",
   "pygments_lexer": "ipython3",
   "version": "3.11.3"
  }
 },
 "nbformat": 4,
 "nbformat_minor": 2
}
