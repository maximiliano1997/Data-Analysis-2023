{
  "nbformat": 4,
  "nbformat_minor": 0,
  "metadata": {
    "colab": {
      "provenance": []
    },
    "kernelspec": {
      "name": "python3",
      "display_name": "Python 3"
    },
    "language_info": {
      "name": "python"
    }
  },
  "cells": [
    {
      "cell_type": "markdown",
      "source": [
        "Documentación: https://www.notion.so/campiasjuan/Python-APIs-8d19378c33cd4e25af3f369375c19880"
      ],
      "metadata": {
        "id": "z0phOpgKRRb-"
      }
    },
    {
      "cell_type": "markdown",
      "source": [
        "## Método GET"
      ],
      "metadata": {
        "id": "EFrcpAaKqzaP"
      }
    },
    {
      "cell_type": "code",
      "execution_count": null,
      "metadata": {
        "id": "4t8a3Lnxd3Pb"
      },
      "outputs": [],
      "source": [
        "import requests"
      ]
    },
    {
      "cell_type": "code",
      "source": [
        "if __name__ == '__main__':\n",
        "  url = 'https://www.google.com.ar/'\n",
        "  response = requests.get(url)\n",
        "\n",
        "  print(response)"
      ],
      "metadata": {
        "colab": {
          "base_uri": "https://localhost:8080/"
        },
        "id": "wqOOcF1wd92w",
        "outputId": "52c614b0-b735-4787-ae44-3ab4ea75ec54"
      },
      "execution_count": null,
      "outputs": [
        {
          "output_type": "stream",
          "name": "stdout",
          "text": [
            "<Response [200]>\n"
          ]
        }
      ]
    },
    {
      "cell_type": "markdown",
      "source": [],
      "metadata": {
        "id": "rvCI0n4PRPD3"
      }
    },
    {
      "cell_type": "code",
      "source": [
        "if __name__ == '__main__':\n",
        "  url = 'https://www.google.com.ar/'\n",
        "  response = requests.get(url)\n",
        "\n",
        "  if response.status_code == 200:\n",
        "    content = response.content\n",
        "\n",
        "    file = open('google.html', 'wb')   #crea el archivo de descarga en caso de no existir\n",
        "    file.write(content)\n",
        "    file.close()"
      ],
      "metadata": {
        "id": "HSZ1q1IoekWJ"
      },
      "execution_count": null,
      "outputs": []
    },
    {
      "cell_type": "code",
      "source": [
        "if __name__ == '__main__':\n",
        "  url = 'https://httpbin.org/get?nombre=juan&curso=analisisdedatos'\n",
        "\n",
        "  response = requests.get(url)\n",
        "\n",
        "  if response.status_code == 200:\n",
        "    content = response.content\n",
        "    print(content)"
      ],
      "metadata": {
        "colab": {
          "base_uri": "https://localhost:8080/"
        },
        "id": "mn1e2ZRmkmO7",
        "outputId": "007a19f5-2cb8-40b9-bebc-51879c4a19e9"
      },
      "execution_count": null,
      "outputs": [
        {
          "output_type": "stream",
          "name": "stdout",
          "text": [
            "b'{\\n  \"args\": {\\n    \"curso\": \"analisisdedatos\", \\n    \"nombre\": \"juan\"\\n  }, \\n  \"headers\": {\\n    \"Accept\": \"*/*\", \\n    \"Accept-Encoding\": \"gzip, deflate\", \\n    \"Host\": \"httpbin.org\", \\n    \"User-Agent\": \"python-requests/2.27.1\", \\n    \"X-Amzn-Trace-Id\": \"Root=1-6489028e-4d02ce5b3fe1ed4f32bf1a25\"\\n  }, \\n  \"origin\": \"34.73.149.154\", \\n  \"url\": \"https://httpbin.org/get?nombre=juan&curso=analisisdedatos\"\\n}\\n'\n"
          ]
        }
      ]
    },
    {
      "cell_type": "code",
      "source": [
        "# Enviar parametros de forma dinamica por medio de un diccionario:\n",
        "if __name__ == '__main__':\n",
        "  url = 'https://httpbin.org/get'\n",
        "  args = {'nombre': 'Juan', 'curso': 'Analisis de datos'}\n",
        "\n",
        "  response = requests.get(url, params=args)\n",
        "\n",
        "  if response.status_code == 200:\n",
        "    content = response.content\n",
        "    print(content)"
      ],
      "metadata": {
        "id": "c3bdZJDxoWHQ"
      },
      "execution_count": null,
      "outputs": []
    },
    {
      "cell_type": "code",
      "source": [
        "# Recibir parametros en formato json por medio de un diccionario:\n",
        "if __name__ == '__main__':\n",
        "  url = 'https://httpbin.org/get'\n",
        "  args = {'nombre': 'Juan', 'curso': 'Analisis de datos'}\n",
        "\n",
        "  response = requests.get(url, params=args)\n",
        "\n",
        "  if response.status_code == 200:\n",
        "      response_json = response.json()\n",
        "\n",
        "      print(response_json)\n",
        "\n"
      ],
      "metadata": {
        "colab": {
          "base_uri": "https://localhost:8080/"
        },
        "id": "QKuEl79vo0fs",
        "outputId": "41dda282-5067-427b-f9bb-1b96447f0352"
      },
      "execution_count": null,
      "outputs": [
        {
          "output_type": "stream",
          "name": "stdout",
          "text": [
            "{'args': {'curso': 'Analisis de datos', 'nombre': 'Juan'}, 'headers': {'Accept': '*/*', 'Accept-Encoding': 'gzip, deflate', 'Host': 'httpbin.org', 'User-Agent': 'python-requests/2.27.1', 'X-Amzn-Trace-Id': 'Root=1-648b8de5-2fa051fa32a9a4f97114ee2c'}, 'origin': '35.194.146.139', 'url': 'https://httpbin.org/get?nombre=Juan&curso=Analisis+de+datos'}\n"
          ]
        }
      ]
    },
    {
      "cell_type": "markdown",
      "source": [
        "## Librería json:"
      ],
      "metadata": {
        "id": "hrQ-s0Zvq4RX"
      }
    },
    {
      "cell_type": "code",
      "source": [
        "# Recibir parametros en formato json por medio de la librería json:\n",
        "import json\n",
        "\n",
        "if __name__ == '__main__':\n",
        "  url = 'https://httpbin.org/get'\n",
        "  args = {'nombre': 'Juan', 'curso': 'Analisis de datos'}\n",
        "\n",
        "  response = requests.get(url, params=args)\n",
        "\n",
        "  if response.status_code == 200:\n",
        "    response_json = json.loads(response.text)\n",
        "    origin = response_json['origin']\n",
        "    print(origin)"
      ],
      "metadata": {
        "colab": {
          "base_uri": "https://localhost:8080/"
        },
        "id": "q78J6WJRqTFo",
        "outputId": "88a2afda-855f-4cb1-dc51-cb45ff47183f"
      },
      "execution_count": null,
      "outputs": [
        {
          "output_type": "stream",
          "name": "stdout",
          "text": [
            "34.73.149.154\n"
          ]
        }
      ]
    },
    {
      "cell_type": "markdown",
      "source": [
        "## Método POST:"
      ],
      "metadata": {
        "id": "hpfECRweq-t_"
      }
    },
    {
      "cell_type": "code",
      "source": [
        "# Visualización de los parametros, además de los argumentos que les pasamos, en el método POST:\n",
        "if __name__ == '__main__':\n",
        "  url = 'https://httpbin.org/post'\n",
        "  args = {'nombre': 'Juan', 'curso': 'Analisis de datos'}\n",
        "\n",
        "  response = requests.post(url, params=args)\n",
        "  print(response.url)\n",
        "\n",
        "  if response.status_code == 200:\n",
        "    print(response.content)"
      ],
      "metadata": {
        "colab": {
          "base_uri": "https://localhost:8080/"
        },
        "id": "QaP-xvHWqx19",
        "outputId": "914a7ee3-7501-4847-bf40-06858128941e"
      },
      "execution_count": null,
      "outputs": [
        {
          "output_type": "stream",
          "name": "stdout",
          "text": [
            "https://httpbin.org/post?nombre=Juan&curso=Analisis+de+datos\n",
            "b'{\\n  \"args\": {\\n    \"curso\": \"Analisis de datos\", \\n    \"nombre\": \"Juan\"\\n  }, \\n  \"data\": \"\", \\n  \"files\": {}, \\n  \"form\": {}, \\n  \"headers\": {\\n    \"Accept\": \"*/*\", \\n    \"Accept-Encoding\": \"gzip, deflate\", \\n    \"Content-Length\": \"0\", \\n    \"Host\": \"httpbin.org\", \\n    \"User-Agent\": \"python-requests/2.27.1\", \\n    \"X-Amzn-Trace-Id\": \"Root=1-6488e10f-7a2cc412108177193d3bac6f\"\\n  }, \\n  \"json\": null, \\n  \"origin\": \"34.73.149.154\", \\n  \"url\": \"https://httpbin.org/post?nombre=Juan&curso=Analisis+de+datos\"\\n}\\n'\n"
          ]
        }
      ]
    },
    {
      "cell_type": "code",
      "source": [
        "# Introducir parametros en formato json por medio de un diccionario:\n",
        "if __name__ == '__main__':\n",
        "  url = 'https://httpbin.org/post'\n",
        "  payload = {'nombre': 'Juan', 'curso': 'Analisis de datos'}\n",
        "\n",
        "  response = requests.post(url, json=payload)  #automáticamente serializado\n",
        "  print(response.url)\n",
        "\n",
        "  if response.status_code == 200:\n",
        "    print(response.content)"
      ],
      "metadata": {
        "colab": {
          "base_uri": "https://localhost:8080/"
        },
        "id": "gqgUlt_PsHC7",
        "outputId": "1cb85842-c5e8-494b-93fb-084d6a58cd3c"
      },
      "execution_count": null,
      "outputs": [
        {
          "output_type": "stream",
          "name": "stdout",
          "text": [
            "https://httpbin.org/post\n",
            "b'{\\n  \"args\": {}, \\n  \"data\": \"{\\\\\"nombre\\\\\": \\\\\"Juan\\\\\", \\\\\"curso\\\\\": \\\\\"Analisis de datos\\\\\"}\", \\n  \"files\": {}, \\n  \"form\": {}, \\n  \"headers\": {\\n    \"Accept\": \"*/*\", \\n    \"Accept-Encoding\": \"gzip, deflate\", \\n    \"Content-Length\": \"48\", \\n    \"Content-Type\": \"application/json\", \\n    \"Host\": \"httpbin.org\", \\n    \"User-Agent\": \"python-requests/2.27.1\", \\n    \"X-Amzn-Trace-Id\": \"Root=1-64891567-6ff20e7b7f0f08fa183522cb\"\\n  }, \\n  \"json\": {\\n    \"curso\": \"Analisis de datos\", \\n    \"nombre\": \"Juan\"\\n  }, \\n  \"origin\": \"34.73.149.154\", \\n  \"url\": \"https://httpbin.org/post\"\\n}\\n'\n"
          ]
        }
      ]
    },
    {
      "cell_type": "code",
      "source": [
        "# Introducir parametros en formato json por medio de un diccionario:\n",
        "if __name__ == '__main__':\n",
        "  url = 'https://httpbin.org/post'\n",
        "  payload = {'nombre': 'Juan', 'curso': 'Analisis de datos'}\n",
        "\n",
        "  response = requests.post(url, data=json.dumps(payload))  #sin serializado automático\n",
        "\n",
        "  if response.status_code == 200:\n",
        "    response_json = response.json()\n",
        "    formatted_json = json.dumps(response_json, indent=2)\n",
        "    print(formatted_json)"
      ],
      "metadata": {
        "colab": {
          "base_uri": "https://localhost:8080/"
        },
        "id": "QGustsoVtjDs",
        "outputId": "1de5ca74-4ab9-4cd6-f8cb-69e89f46007c"
      },
      "execution_count": null,
      "outputs": [
        {
          "output_type": "stream",
          "name": "stdout",
          "text": [
            "https://httpbin.org/post\n",
            "{\n",
            "  \"args\": {},\n",
            "  \"data\": \"{\\\"nombre\\\": \\\"Juan\\\", \\\"curso\\\": \\\"Analisis de datos\\\"}\",\n",
            "  \"files\": {},\n",
            "  \"form\": {},\n",
            "  \"headers\": {\n",
            "    \"Accept\": \"*/*\",\n",
            "    \"Accept-Encoding\": \"gzip, deflate\",\n",
            "    \"Content-Length\": \"48\",\n",
            "    \"Host\": \"httpbin.org\",\n",
            "    \"User-Agent\": \"python-requests/2.27.1\",\n",
            "    \"X-Amzn-Trace-Id\": \"Root=1-64891532-053ebf541da99c4c68209d07\"\n",
            "  },\n",
            "  \"json\": {\n",
            "    \"curso\": \"Analisis de datos\",\n",
            "    \"nombre\": \"Juan\"\n",
            "  },\n",
            "  \"origin\": \"34.73.149.154\",\n",
            "  \"url\": \"https://httpbin.org/post\"\n",
            "}\n"
          ]
        }
      ]
    },
    {
      "cell_type": "code",
      "source": [
        "## Enviar parametros por medio de una request:\n",
        "\n",
        "if __name__ == '__main__':\n",
        "  url = 'https://httpbin.org/post'\n",
        "  payload = {'nombre': 'Juan', 'curso': 'Analisis de datos'}\n",
        "  headers = {'Conten-Type': 'application/json', 'access-token': '12345'}\n",
        "\n",
        "  response = requests.post(url, data=json.dumps(payload), headers=headers)  #sin serializado automático\n",
        "\n",
        "  print(response.url)\n",
        "\n",
        "  if response.status_code == 200:\n",
        "    print(response.content)"
      ],
      "metadata": {
        "colab": {
          "base_uri": "https://localhost:8080/"
        },
        "id": "11YiPqMVuQkO",
        "outputId": "e9197590-87cf-4293-ff7c-bf9e555fbe3f"
      },
      "execution_count": null,
      "outputs": [
        {
          "output_type": "stream",
          "name": "stdout",
          "text": [
            "https://httpbin.org/post\n",
            "b'{\\n  \"args\": {}, \\n  \"data\": \"{\\\\\"nombre\\\\\": \\\\\"Juan\\\\\", \\\\\"curso\\\\\": \\\\\"Analisis de datos\\\\\"}\", \\n  \"files\": {}, \\n  \"form\": {}, \\n  \"headers\": {\\n    \"Accept\": \"*/*\", \\n    \"Accept-Encoding\": \"gzip, deflate\", \\n    \"Access-Token\": \"12345\", \\n    \"Conten-Type\": \"application/json\", \\n    \"Content-Length\": \"48\", \\n    \"Host\": \"httpbin.org\", \\n    \"User-Agent\": \"python-requests/2.27.1\", \\n    \"X-Amzn-Trace-Id\": \"Root=1-6488e40b-5b437e7d6738a7f0492f823b\"\\n  }, \\n  \"json\": {\\n    \"curso\": \"Analisis de datos\", \\n    \"nombre\": \"Juan\"\\n  }, \\n  \"origin\": \"34.73.149.154\", \\n  \"url\": \"https://httpbin.org/post\"\\n}\\n'\n"
          ]
        }
      ]
    },
    {
      "cell_type": "code",
      "source": [
        "## Extraer datos del header:\n",
        "\n",
        "if __name__ == '__main__':\n",
        "  url = 'https://httpbin.org/post'\n",
        "  payload = {'nombre': 'Juan', 'curso': 'Analisis de datos'}\n",
        "\n",
        "  response = requests.post(url, data=json.dumps(payload))  #sin serializado automático\n",
        "  print(response.url)\n",
        "\n",
        "  if response.status_code == 200:\n",
        "    headers_response = response.headers  #es un diccionario\n",
        "    print(headers_response)\n",
        "    server = headers_response['Server']\n",
        "    print(server)"
      ],
      "metadata": {
        "colab": {
          "base_uri": "https://localhost:8080/"
        },
        "id": "bVqbWbvJvP-C",
        "outputId": "f165c18b-100e-4345-f38d-c47687e697e2"
      },
      "execution_count": null,
      "outputs": [
        {
          "output_type": "stream",
          "name": "stdout",
          "text": [
            "https://httpbin.org/post\n",
            "{'Date': 'Tue, 13 Jun 2023 21:53:38 GMT', 'Content-Type': 'application/json', 'Content-Length': '513', 'Connection': 'keep-alive', 'Server': 'gunicorn/19.9.0', 'Access-Control-Allow-Origin': '*', 'Access-Control-Allow-Credentials': 'true'}\n",
            "gunicorn/19.9.0\n"
          ]
        }
      ]
    },
    {
      "cell_type": "markdown",
      "source": [
        "## Métodos PUT/DELETE:"
      ],
      "metadata": {
        "id": "0VRkMN5JvEBD"
      }
    },
    {
      "cell_type": "code",
      "source": [
        "## Método PUT:\n",
        "\n",
        "if __name__ == '__main__':\n",
        "  url = 'https://httpbin.org/put'\n",
        "  payload = {'nombre': 'Juan', 'curso': 'Analisis de datos'}\n",
        "\n",
        "  response = requests.put(url, data=json.dumps(payload))  #sin serializado automático\n",
        "  print(response.url)\n",
        "\n",
        "  if response.status_code == 200:\n",
        "    headers_response = response.headers  #es un diccionario\n",
        "    #print(headers_response)\n",
        "    server = headers_response['Server']\n",
        "    print(server)"
      ],
      "metadata": {
        "colab": {
          "base_uri": "https://localhost:8080/"
        },
        "id": "w0J7WWkQvCgp",
        "outputId": "70f6e634-9fd8-4363-8c01-e104875e9bd8"
      },
      "execution_count": null,
      "outputs": [
        {
          "output_type": "stream",
          "name": "stdout",
          "text": [
            "https://httpbin.org/put\n",
            "gunicorn/19.9.0\n"
          ]
        }
      ]
    },
    {
      "cell_type": "code",
      "source": [
        "## Método DELETE:\n",
        "\n",
        "if __name__ == '__main__':\n",
        "  url = 'https://httpbin.org/delete'\n",
        "  payload = {'nombre': 'Juan', 'curso': 'Analisis de datos'}\n",
        "\n",
        "  response = requests.delete(url, data=json.dumps(payload))  #sin serializado automático\n",
        "  print(response.url)\n",
        "\n",
        "  if response.status_code == 200:\n",
        "    headers_response = response.headers  #es un diccionario\n",
        "    #print(headers_response)\n",
        "    server = headers_response['Server']\n",
        "    print(server)"
      ],
      "metadata": {
        "colab": {
          "base_uri": "https://localhost:8080/"
        },
        "id": "2qj6NXe0wdmq",
        "outputId": "53ac2916-ac7d-4cc6-8438-db7c83cb3c08"
      },
      "execution_count": null,
      "outputs": [
        {
          "output_type": "stream",
          "name": "stdout",
          "text": [
            "https://httpbin.org/delete\n",
            "gunicorn/19.9.0\n"
          ]
        }
      ]
    },
    {
      "cell_type": "code",
      "source": [
        "if __name__ == '__main__':\n",
        "  url = 'https://httpbin.org/get'\n",
        "  payload = {'nombre': 'Juan', 'curso': 'Analisis de datos'}\n",
        "\n",
        "  response = requests.get(url, data=json.dumps(payload))  #sin serializado automático\n",
        "  print(response.url)\n",
        "  if response.status_code == 200:\n",
        "    print(response.content)"
      ],
      "metadata": {
        "colab": {
          "base_uri": "https://localhost:8080/"
        },
        "id": "o_QYm67jwsYB",
        "outputId": "b0f21538-6f81-4650-ee0b-c11b3585796d"
      },
      "execution_count": null,
      "outputs": [
        {
          "output_type": "stream",
          "name": "stdout",
          "text": [
            "https://httpbin.org/get\n",
            "<Response [200]>\n"
          ]
        }
      ]
    },
    {
      "cell_type": "code",
      "source": [],
      "metadata": {
        "colab": {
          "base_uri": "https://localhost:8080/"
        },
        "id": "5LS65SNYCRC5",
        "outputId": "923390ce-be93-4df4-cd77-40cca81f98e0"
      },
      "execution_count": null,
      "outputs": [
        {
          "output_type": "stream",
          "name": "stdout",
          "text": [
            "   id    nombre  precio  stock detalles.color detalles.talla\n",
            "0   1    Camisa   25.99     10           azul              M\n",
            "1   2  Pantalón   39.99      5          negro              L\n",
            "2   3   Zapatos   59.99      8         marrón             42\n"
          ]
        }
      ]
    },
    {
      "cell_type": "code",
      "source": [
        "df = {\n",
        "   \"args\":{\n",
        "      \"curso\":\"Analisis de datos\",\n",
        "      \"nombre\":\"Juan\"\n",
        "   }\n",
        "}\n",
        "\n",
        "df['args']['curso']"
      ],
      "metadata": {
        "colab": {
          "base_uri": "https://localhost:8080/"
        },
        "id": "uPibUJhyJ3uc",
        "outputId": "52ba557c-567c-4d81-8ec5-3f4d0b6c437e"
      },
      "execution_count": null,
      "outputs": [
        {
          "output_type": "execute_result",
          "data": {
            "text/plain": [
              "{'args': {'curso': 'Analisis de datos', 'nombre': 'Juan'}}"
            ]
          },
          "metadata": {},
          "execution_count": 28
        }
      ]
    },
    {
      "cell_type": "code",
      "source": [
        "import json\n",
        "\n",
        "datos = {\n",
        "    \"nombre\": \"Juan\",\n",
        "    \"edad\": 25,\n",
        "    \"hobbies\": [\"correr\", \"leer\", \"viajar\"]\n",
        "}\n",
        "print(type(datos))\n",
        "\n",
        "cadena_json = json.dumps(datos)\n",
        "print(cadena_json)\n",
        "print(type(cadena_json))"
      ],
      "metadata": {
        "colab": {
          "base_uri": "https://localhost:8080/"
        },
        "id": "wZFHCtn-afKU",
        "outputId": "3fd2e241-3271-4cd5-9f4b-60d276896ca2"
      },
      "execution_count": null,
      "outputs": [
        {
          "output_type": "stream",
          "name": "stdout",
          "text": [
            "<class 'dict'>\n",
            "{\"nombre\": \"Juan\", \"edad\": 25, \"hobbies\": [\"correr\", \"leer\", \"viajar\"]}\n",
            "<class 'str'>\n"
          ]
        }
      ]
    },
    {
      "cell_type": "code",
      "source": [
        "import json\n",
        "\n",
        "cadena_json = '{\"nombre\": \"Juan\", \"edad\": 25, \"hobbies\": [\"correr\", \"leer\", \"viajar\"]}'\n",
        "print(type(cadena_json))\n",
        "\n",
        "datos = json.loads(cadena_json)\n",
        "print(datos)\n",
        "print(type(datos))"
      ],
      "metadata": {
        "colab": {
          "base_uri": "https://localhost:8080/"
        },
        "id": "1lpwEyGFbQGf",
        "outputId": "65bc4ead-989e-4019-e500-932f97b18d7d"
      },
      "execution_count": null,
      "outputs": [
        {
          "output_type": "stream",
          "name": "stdout",
          "text": [
            "<class 'str'>\n",
            "{'nombre': 'Juan', 'edad': 25, 'hobbies': ['correr', 'leer', 'viajar']}\n",
            "<class 'dict'>\n"
          ]
        }
      ]
    },
    {
      "cell_type": "code",
      "source": [
        "import json\n",
        "\n",
        "datos = {\n",
        "    \"nombre\": \"Juan\",\n",
        "    \"edad\": 25,\n",
        "    \"hobbies\": [\"correr\", \"leer\", \"viajar\"]\n",
        "}\n",
        "print(type(datos))\n",
        "\n",
        "with open(\"/content/sample_data\", \"w\") as archivo:\n",
        "    json.dump(datos, archivo)"
      ],
      "metadata": {
        "id": "02nCKLUkb-cT",
        "colab": {
          "base_uri": "https://localhost:8080/"
        },
        "outputId": "dad56ee7-4a5f-4003-e3cd-761d2cb9fe3b"
      },
      "execution_count": null,
      "outputs": [
        {
          "output_type": "stream",
          "name": "stdout",
          "text": [
            "<class 'dict'>\n"
          ]
        }
      ]
    },
    {
      "cell_type": "code",
      "source": [
        "import time\n",
        "\n",
        "for i in range(5):\n",
        "    print(\"Realizando operación\", i)\n",
        "    time.sleep(2)"
      ],
      "metadata": {
        "colab": {
          "base_uri": "https://localhost:8080/",
          "height": 287
        },
        "id": "R0cwdP2lAjnA",
        "outputId": "a592f0cd-f008-48df-9281-32df0d68d770"
      },
      "execution_count": null,
      "outputs": [
        {
          "output_type": "stream",
          "name": "stdout",
          "text": [
            "Realizando operación 0\n",
            "Realizando operación 1\n",
            "Realizando operación 2\n",
            "Realizando operación 3\n",
            "Realizando operación 4\n"
          ]
        },
        {
          "output_type": "error",
          "ename": "KeyboardInterrupt",
          "evalue": "ignored",
          "traceback": [
            "\u001b[0;31m---------------------------------------------------------------------------\u001b[0m",
            "\u001b[0;31mKeyboardInterrupt\u001b[0m                         Traceback (most recent call last)",
            "\u001b[0;32m<ipython-input-5-fd7cb1b08201>\u001b[0m in \u001b[0;36m<cell line: 3>\u001b[0;34m()\u001b[0m\n\u001b[1;32m      3\u001b[0m \u001b[0;32mfor\u001b[0m \u001b[0mi\u001b[0m \u001b[0;32min\u001b[0m \u001b[0mrange\u001b[0m\u001b[0;34m(\u001b[0m\u001b[0;36m5\u001b[0m\u001b[0;34m)\u001b[0m\u001b[0;34m:\u001b[0m\u001b[0;34m\u001b[0m\u001b[0;34m\u001b[0m\u001b[0m\n\u001b[1;32m      4\u001b[0m     \u001b[0mprint\u001b[0m\u001b[0;34m(\u001b[0m\u001b[0;34m\"Realizando operación\"\u001b[0m\u001b[0;34m,\u001b[0m \u001b[0mi\u001b[0m\u001b[0;34m)\u001b[0m\u001b[0;34m\u001b[0m\u001b[0;34m\u001b[0m\u001b[0m\n\u001b[0;32m----> 5\u001b[0;31m     \u001b[0mtime\u001b[0m\u001b[0;34m.\u001b[0m\u001b[0msleep\u001b[0m\u001b[0;34m(\u001b[0m\u001b[0;36m2\u001b[0m\u001b[0;34m)\u001b[0m\u001b[0;34m\u001b[0m\u001b[0;34m\u001b[0m\u001b[0m\n\u001b[0m",
            "\u001b[0;31mKeyboardInterrupt\u001b[0m: "
          ]
        }
      ]
    },
    {
      "cell_type": "code",
      "source": [
        "import time\n",
        "\n",
        "segundos = time.time()\n",
        "fecha_hora = time.ctime(segundos)\n",
        "print(\"La fecha y hora actual es:\", fecha_hora)"
      ],
      "metadata": {
        "colab": {
          "base_uri": "https://localhost:8080/"
        },
        "id": "2LeIBRVtA4W8",
        "outputId": "e80fb95b-bec3-4cdf-c169-c4b5224f7067"
      },
      "execution_count": null,
      "outputs": [
        {
          "output_type": "stream",
          "name": "stdout",
          "text": [
            "La fecha y hora actual es: Tue Jun 20 22:53:44 2023\n"
          ]
        }
      ]
    },
    {
      "cell_type": "code",
      "source": [
        "import time\n",
        "\n",
        "segundos = time.time()\n",
        "tiempo_utc = time.gmtime(segundos)\n",
        "print(\"La hora UTC actual es:\", tiempo_utc)"
      ],
      "metadata": {
        "colab": {
          "base_uri": "https://localhost:8080/"
        },
        "id": "DpiTTMfeBJ82",
        "outputId": "086859fa-971e-4a95-bf64-dc420fbe7f10"
      },
      "execution_count": null,
      "outputs": [
        {
          "output_type": "stream",
          "name": "stdout",
          "text": [
            "La hora UTC actual es: time.struct_time(tm_year=2023, tm_mon=6, tm_mday=20, tm_hour=22, tm_min=54, tm_sec=58, tm_wday=1, tm_yday=171, tm_isdst=0)\n"
          ]
        }
      ]
    },
    {
      "cell_type": "code",
      "source": [
        "import time\n",
        "\n",
        "segundos = time.time()\n",
        "tiempo_local = time.localtime(segundos)\n",
        "print(\"La hora local actual es:\", tiempo_local)"
      ],
      "metadata": {
        "colab": {
          "base_uri": "https://localhost:8080/"
        },
        "id": "B-iUopTQBeJQ",
        "outputId": "4e2bb429-70ae-40ff-f825-1fcbc15c0248"
      },
      "execution_count": null,
      "outputs": [
        {
          "output_type": "stream",
          "name": "stdout",
          "text": [
            "La hora local actual es: time.struct_time(tm_year=2023, tm_mon=6, tm_mday=20, tm_hour=22, tm_min=56, tm_sec=17, tm_wday=1, tm_yday=171, tm_isdst=0)\n"
          ]
        }
      ]
    },
    {
      "cell_type": "code",
      "source": [
        "import time\n",
        "\n",
        "tiempo_actual = time.localtime()\n",
        "print(tiempo_actual)\n",
        "print(type(tiempo_actual))\n",
        "\n",
        "fecha_formateada = time.strftime(\"%Y-%m-%d\", tiempo_actual)\n",
        "print(type(fecha_formateada))\n",
        "\n",
        "print(\"La fecha actual en formato AAAA-MM-DD es:\", fecha_formateada)"
      ],
      "metadata": {
        "colab": {
          "base_uri": "https://localhost:8080/"
        },
        "id": "oH9cC6blCSvJ",
        "outputId": "41cbb292-709e-4f89-cadc-1aa88b796a9a"
      },
      "execution_count": null,
      "outputs": [
        {
          "output_type": "stream",
          "name": "stdout",
          "text": [
            "time.struct_time(tm_year=2023, tm_mon=6, tm_mday=20, tm_hour=23, tm_min=2, tm_sec=35, tm_wday=1, tm_yday=171, tm_isdst=0)\n",
            "<class 'time.struct_time'>\n",
            "<class 'str'>\n",
            "La fecha actual en formato AAAA-MM-DD es: 2023-06-20\n"
          ]
        }
      ]
    }
  ]
}