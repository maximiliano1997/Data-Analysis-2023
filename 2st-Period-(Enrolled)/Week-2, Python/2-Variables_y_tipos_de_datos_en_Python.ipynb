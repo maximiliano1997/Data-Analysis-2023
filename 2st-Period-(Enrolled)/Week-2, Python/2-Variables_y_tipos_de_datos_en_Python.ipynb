{
 "cells": [
  {
   "cell_type": "code",
   "execution_count": null,
   "metadata": {
    "colab": {
     "base_uri": "https://localhost:8080/"
    },
    "id": "N6nLS3iu5y1Q",
    "outputId": "87788ceb-0085-42cb-8360-8fbdca903897"
   },
   "outputs": [
    {
     "name": "stdout",
     "output_type": "stream",
     "text": [
      "0 Paleta\n",
      "1 Jamón\n",
      "2 Mortadela\n",
      "3 Queso\n"
     ]
    }
   ],
   "source": [
    "lista = [\"Paleta\",\"Jamón\",\"Mortadela\",\"Queso\"]  # lista\n",
    "for elemento in range(len(lista)):  # recorre elementos de lista\n",
    "    print (elemento, lista[elemento])  # muestra posición y elemento"
   ]
  },
  {
   "cell_type": "markdown",
   "metadata": {
    "id": "09i5KI3Y-5pV"
   },
   "source": [
    "# Declaramos las correspondientes variables:"
   ]
  },
  {
   "cell_type": "code",
   "execution_count": null,
   "metadata": {
    "id": "oZyh0MzokkGC"
   },
   "outputs": [],
   "source": [
    "var1 = \"contenido\"                     #string\n",
    "var2 = 2                               #integer\n",
    "var3 = 3.14                            #float\n",
    "var_list = [var1, var2, var3]          #list\n",
    "var_tuple = (var1, var2, var3)         #tuple\n",
    "#Diccionarios: a los mismos les corresponde una clave y un valor de la forma que muestramos a continuacion variable = {clave: valor}\n",
    "thisdict = {\n",
    "  \"marca\": \"Ford\",\n",
    "  \"modelo\": \"Mustang\",\n",
    "  \"año\": 1964\n",
    "}\n",
    "\n",
    "set1 = {\"ford\", \"mustang\", 1964}\n",
    "# autos.json\n",
    "[\n",
    "  {\n",
    "  \"marca\": \"Ford\",\n",
    "  \"modelo\": \"Mustang\",\n",
    "  \"año\": 1964,\n",
    "  \"vendidos\": 5\n",
    "  },\n",
    "  {\n",
    "  \"marca\": \"Ford\",\n",
    "  \"modelo\": \"Mustang\",\n",
    "  \"año\": 1964,\n",
    "  \"vendidos\": 8\n",
    "  }\n",
    "]\n",
    "\n",
    "#booleanos:\n",
    "bool1 = True #1\n",
    "bool2 = False #0\n"
   ]
  },
  {
   "cell_type": "code",
   "execution_count": null,
   "metadata": {
    "colab": {
     "base_uri": "https://localhost:8080/"
    },
    "id": "8omac3aVlbx5",
    "outputId": "9a968308-721a-4716-d9d2-7555fcf40e44"
   },
   "outputs": [
    {
     "name": "stdout",
     "output_type": "stream",
     "text": [
      "contenido concatenado\n"
     ]
    }
   ],
   "source": [
    "concatenado = var1 + \" concatenado\"\n",
    "print(concatenado)"
   ]
  },
  {
   "cell_type": "markdown",
   "metadata": {
    "id": "lRdpdBp9_G8y"
   },
   "source": [
    "#Las imprimimos:"
   ]
  },
  {
   "cell_type": "code",
   "execution_count": null,
   "metadata": {
    "colab": {
     "base_uri": "https://localhost:8080/"
    },
    "id": "32KEa2ZV6CZH",
    "outputId": "ddd49a47-9dcc-4782-c7f0-154151e52234"
   },
   "outputs": [
    {
     "name": "stdout",
     "output_type": "stream",
     "text": [
      "contenido\n",
      "2\n",
      "3.14\n",
      "True\n",
      "False\n",
      "Hola Mundo\n"
     ]
    }
   ],
   "source": [
    "print(var1)\n",
    "print(var2)\n",
    "print(var3)\n",
    "print(True)                            #Boolean\n",
    "print(False)                           #Bollean\n",
    "print(\"Hola Mundo\")\n"
   ]
  },
  {
   "cell_type": "markdown",
   "metadata": {
    "id": "hIVo9rzZ-Z1W"
   },
   "source": [
    "#Recorremos una lista con un iterable for:"
   ]
  },
  {
   "cell_type": "code",
   "execution_count": null,
   "metadata": {
    "colab": {
     "base_uri": "https://localhost:8080/"
    },
    "id": "7NdZnrWG6GLc",
    "outputId": "bb484c4f-f5c0-40c0-b6d2-7f6b64643423"
   },
   "outputs": [
    {
     "name": "stdout",
     "output_type": "stream",
     "text": [
      "contenido\n",
      "2\n",
      "3.14\n"
     ]
    }
   ],
   "source": [
    "#La funcion len() es equivalente a la cantidad de variables contenidas en la lista, en este caso es igual a 3.\n",
    "#La funcion range() es relativa a una continuidad desde la posicion 0 a el numero que encontramos con la funcion len() por lo que este for va a recorrer hasta la posisión 2 ya que en python comenzamos a contar desde el 0.\n",
    "var_list = [var1, var2, var3]\n",
    "\n",
    "#range(start,stop,step)\n",
    "#f strings\n",
    "for i in range(len(var_list)):\n",
    "  print(f\"{var_list[i]}\")             #con f strings llamamos a los elementos de la lista mediante etiquetas y con [i] hacemos un manejo de variables que recorre la misma uno a la vez."
   ]
  },
  {
   "cell_type": "markdown",
   "metadata": {
    "id": "wrvbFdroeSIQ"
   },
   "source": [
    "Funcionamiento de un bucle while:"
   ]
  },
  {
   "cell_type": "code",
   "execution_count": null,
   "metadata": {
    "colab": {
     "base_uri": "https://localhost:8080/"
    },
    "id": "5JRwb_q3eCR4",
    "outputId": "ad714553-43b3-4d1b-cd36-db9fe7b6ce18"
   },
   "outputs": [
    {
     "name": "stdout",
     "output_type": "stream",
     "text": [
      "contenido del iterador\n",
      "contenido del iterador\n",
      "contenido del iterador\n",
      "contenido del caso contrario\n"
     ]
    }
   ],
   "source": [
    "contador = 0\n",
    "\n",
    "while contador < 3:\n",
    "    print(\"contenido del iterador\")\n",
    "    contador = contador + 1             #En este acumulador guardamos la condición del while.\n",
    "else:\n",
    "    print(\"contenido del caso contrario\")\n",
    "#En la cuarta iteración, la condición que utilizamos en el while se convierte en False. Por lo tanto, la parte del else es ejecutada."
   ]
  },
  {
   "cell_type": "markdown",
   "metadata": {
    "id": "UuQBaHhlfTES"
   },
   "source": [
    "Condicionamos en un bucle if:"
   ]
  },
  {
   "cell_type": "code",
   "execution_count": null,
   "metadata": {
    "colab": {
     "base_uri": "https://localhost:8080/"
    },
    "id": "S8uSdlC8fYFe",
    "outputId": "2e2430ca-3ea2-4262-bc06-4277e8f14cfe"
   },
   "outputs": [
    {
     "name": "stdout",
     "output_type": "stream",
     "text": [
      "Es neutro\n"
     ]
    }
   ],
   "source": [
    "# Si el número es positivo, imprimimos por pantalla la sentencia correcta.\n",
    "\n",
    "num = 0            #probar tambien con -1 y con 0\n",
    "\n",
    "if num > 0:\n",
    "    print(\"Es un numero positivo\")\n",
    "elif num == 0:\n",
    "    print(\"Es neutro\")\n",
    "else:\n",
    "    print(\"Es un numero negativo\")"
   ]
  },
  {
   "cell_type": "markdown",
   "metadata": {
    "id": "yVYMziqtw--q"
   },
   "source": [
    "Utilización del comando .sort() para ordenar variables contenidas en una lista."
   ]
  },
  {
   "cell_type": "code",
   "execution_count": null,
   "metadata": {
    "colab": {
     "base_uri": "https://localhost:8080/"
    },
    "id": "UIkzlsJ-o07D",
    "outputId": "28610595-d5a9-4911-c2b3-f088df24e308"
   },
   "outputs": [
    {
     "name": "stdout",
     "output_type": "stream",
     "text": [
      "Lista desordenada:  [67, 2, 999, 1, 15]\n",
      "Lista Ordenada:  [1, 2, 15, 67, 999]\n"
     ]
    }
   ],
   "source": [
    "mi_lista = [67, 2, 999, 1, 15]            #Declaramos la lista\n",
    "\n",
    "# esto imprime la lista NO ordenada\n",
    "print(\"Lista desordenada: \", mi_lista)\n",
    "\n",
    "# Ordenemos la lista\n",
    "mi_lista.sort()\n",
    "\n",
    "# aquí tendremos la lista ordenada\n",
    "print(\"Lista Ordenada: \", mi_lista)"
   ]
  },
  {
   "cell_type": "code",
   "execution_count": null,
   "metadata": {
    "colab": {
     "base_uri": "https://localhost:8080/"
    },
    "id": "TN67gtdxV0p4",
    "outputId": "26af3236-8fd8-40f4-88ae-5eee6868bdea"
   },
   "outputs": [
    {
     "name": "stdout",
     "output_type": "stream",
     "text": [
      "5\n"
     ]
    }
   ],
   "source": [
    "try:\n",
    "    # Bloque de código que puede generar una excepción\n",
    "    x = 10 / 2\n",
    "    print(int(x))\n",
    "except ZeroDivisionError:\n",
    "    # Manejo de la excepción ZeroDivisionError\n",
    "    print(\"¡Error! No es posible dividir entre cero.\")"
   ]
  },
  {
   "cell_type": "code",
   "execution_count": null,
   "metadata": {
    "id": "97Oz6B9XB0YG"
   },
   "outputs": [],
   "source": [
    "import pandas as pd\n",
    "\n",
    "#como leer un archivo en excel\n",
    "df = pd.read_excel('file.xlsx')\n"
   ]
  },
  {
   "cell_type": "code",
   "execution_count": 2,
   "metadata": {
    "colab": {
     "base_uri": "https://localhost:8080/"
    },
    "id": "jAux9e_raY0i",
    "outputId": "6f24250f-f626-4bf2-bb7f-76513f3aa56a"
   },
   "outputs": [
    {
     "name": "stdout",
     "output_type": "stream",
     "text": [
      "[1, 3, 5, 7]\n"
     ]
    }
   ],
   "source": [
    "### Manejo de listas en Python\n",
    "x = [0,1,2,3,4,5,6,7,8,9]\n",
    "y = ['hola','que tal','como estás','chau']\n",
    "s = 'hola'\n",
    "#manejo de listas similar a los parametros de range(star, stop, step) stop=index\n",
    "sliced = x[1:8:2]\n",
    "print(sliced)"
   ]
  },
  {
   "cell_type": "code",
   "execution_count": null,
   "metadata": {},
   "outputs": [],
   "source": []
  }
 ],
 "metadata": {
  "colab": {
   "provenance": []
  },
  "kernelspec": {
   "display_name": "Python 3 (ipykernel)",
   "language": "python",
   "name": "python3"
  },
  "language_info": {
   "codemirror_mode": {
    "name": "ipython",
    "version": 3
   },
   "file_extension": ".py",
   "mimetype": "text/x-python",
   "name": "python",
   "nbconvert_exporter": "python",
   "pygments_lexer": "ipython3",
   "version": "3.11.3"
  }
 },
 "nbformat": 4,
 "nbformat_minor": 1
}
